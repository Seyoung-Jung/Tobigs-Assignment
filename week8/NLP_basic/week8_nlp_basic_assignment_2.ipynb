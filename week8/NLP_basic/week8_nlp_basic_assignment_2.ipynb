{
 "cells": [
  {
   "cell_type": "markdown",
   "metadata": {},
   "source": [
    "# spam.csv를 가지고 유의미한 해석을 도출해주세요!"
   ]
  },
  {
   "cell_type": "code",
   "execution_count": 2,
   "metadata": {},
   "outputs": [],
   "source": [
    "# 필요한 모듈 불러오기\n",
    "import pandas as pd"
   ]
  },
  {
   "cell_type": "markdown",
   "metadata": {},
   "source": [
    "## Load Data\n",
    "- 보시면 spam.csv는 라벨이 있는 데이터예요. 물론 8주차 주체가 텍스트 기초인만큼 텍스트만 활용하셔도 되고 라벨까지 활용하셔서 모델을 돌려볼 수도 있어요!"
   ]
  },
  {
   "cell_type": "code",
   "execution_count": 3,
   "metadata": {},
   "outputs": [],
   "source": [
    "spam = pd.read_csv('./spam.csv')"
   ]
  },
  {
   "cell_type": "code",
   "execution_count": 3,
   "metadata": {},
   "outputs": [
    {
     "data": {
      "text/plain": [
       "\"FreeMsg Hey there darling it's been 3 week's now and no word back! I'd like some fun you up for it still? Tb ok! XxX std chgs to send, å£1.50 to rcv\""
      ]
     },
     "execution_count": 3,
     "metadata": {},
     "output_type": "execute_result"
    }
   ],
   "source": [
    "spam.iloc[5]['v2']"
   ]
  },
  {
   "cell_type": "code",
   "execution_count": 60,
   "metadata": {},
   "outputs": [
    {
     "data": {
      "text/plain": [
       "(5572, 2)"
      ]
     },
     "execution_count": 60,
     "metadata": {},
     "output_type": "execute_result"
    }
   ],
   "source": [
    "spam.shape"
   ]
  },
  {
   "cell_type": "markdown",
   "metadata": {},
   "source": [
    "## Tokenizing\n",
    "- 실습코드는 물론 한국어 대상이라 konlpy를 다뤘지만, 슬라이드 보시면 영어는 nltk 모듈을 쓸 수 있어요. 의미 있는 토큰으로 쪼개고 불용어도 처리해보세요! 현존하는 불용어 리스트를 사용해도 좋고, 새롭게 만들어도 좋을 것 같아요!"
   ]
  },
  {
   "cell_type": "markdown",
   "metadata": {},
   "source": [
    "우선 spam.iloc[5]['v2'] 하나로만 돌려보면서 어떤 tokenizer가 가장 적절한지 선택하기로 한다."
   ]
  },
  {
   "cell_type": "code",
   "execution_count": 4,
   "metadata": {},
   "outputs": [],
   "source": [
    "import nltk"
   ]
  },
  {
   "cell_type": "code",
   "execution_count": 7,
   "metadata": {
    "scrolled": true
   },
   "outputs": [
    {
     "name": "stdout",
     "output_type": "stream",
     "text": [
      "['FreeMsg', 'Hey', 'there', 'darling', 'it', \"'s\", 'been', '3', 'week', \"'s\", 'now', 'and', 'no', 'word', 'back', '!', 'I', \"'d\", 'like', 'some', 'fun', 'you', 'up', 'for', 'it', 'still', '?', 'Tb', 'ok', '!', 'XxX', 'std', 'chgs', 'to', 'send', ',', 'å£1.50', 'to', 'rcv']\n"
     ]
    }
   ],
   "source": [
    "# 의미에 따라 분리하는 기본적인 tokenizer\n",
    "from nltk.tokenize import word_tokenize\n",
    "\n",
    "nltk.download('punkt')\n",
    "print(word_tokenize(spam.iloc[5]['v2']))"
   ]
  },
  {
   "cell_type": "code",
   "execution_count": 41,
   "metadata": {},
   "outputs": [
    {
     "name": "stdout",
     "output_type": "stream",
     "text": [
      "['FreeMsg', 'Hey', 'there', 'darling', 'it', \"'\", 's', 'been', '3', 'week', \"'\", 's', 'now', 'and', 'no', 'word', 'back', '!', 'I', \"'\", 'd', 'like', 'some', 'fun', 'you', 'up', 'for', 'it', 'still', '?', 'Tb', 'ok', '!', 'XxX', 'std', 'chgs', 'to', 'send', ',', 'å', '£', '1', '.', '50', 'to', 'rcv']\n"
     ]
    }
   ],
   "source": [
    "# word_tokenize와 비슷하나 구두점을 별도로 분리하는 tokenizer\n",
    "from nltk.tokenize import WordPunctTokenizer\n",
    "\n",
    "tokenizer = WordPunctTokenizer()\n",
    "print(tokenizer.tokenize(spam.iloc[5]['v2']))"
   ]
  },
  {
   "cell_type": "markdown",
   "metadata": {},
   "source": [
    "apostrophe와 소수점까지 하나하나 쪼개버려서 차라리 word_tokenize이 낫다."
   ]
  },
  {
   "cell_type": "code",
   "execution_count": 53,
   "metadata": {},
   "outputs": [
    {
     "name": "stdout",
     "output_type": "stream",
     "text": [
      "['FreeMsg', 'Hey', 'there', 'darling', 'it', 's', 'been', '3', 'week', 's', 'now', 'and', 'no', 'word', 'back', 'I', 'd', 'like', 'some', 'fun', 'you', 'up', 'for', 'it', 'still', 'Tb', 'ok', 'XxX', 'std', 'chgs', 'to', 'send', 'å', '1', '50', 'to', 'rcv']\n"
     ]
    }
   ],
   "source": [
    "#정규표현식으로 분리하는 tokenizer\n",
    "from nltk.tokenize import RegexpTokenizer\n",
    "\n",
    "tokenizer = RegexpTokenizer(r'\\w+')\n",
    "print(tokenizer.tokenize(spam.iloc[5]['v2']))"
   ]
  },
  {
   "cell_type": "markdown",
   "metadata": {},
   "source": [
    "특수문자를 제거하기 위해 정규표현식 tokenizer를 사용해보았지만 여전히  Ångström이 남아있기 때문에 얘보다도 word_tokenize가 낫다. tokenizer는 word_tokenize로 결정한다."
   ]
  },
  {
   "cell_type": "code",
   "execution_count": 8,
   "metadata": {},
   "outputs": [
    {
     "name": "stdout",
     "output_type": "stream",
     "text": [
      "['FreeMsg', 'Hey', 'there', 'darling', 'it', 's', 'been', 'week', 's', 'now', 'and', 'no', 'word', 'back', 'I', 'd', 'like', 'some', 'fun', 'you', 'up', 'for', 'it', 'still', 'Tb', 'ok', 'XxX', 'std', 'chgs', 'to', 'send', 'to', 'rcv']\n"
     ]
    }
   ],
   "source": [
    "import re\n",
    "word = re.sub('[^a-zA-Z]', ' ', spam.iloc[5]['v2'])\n",
    "words = word_tokenize(word)\n",
    "print(words)"
   ]
  },
  {
   "cell_type": "markdown",
   "metadata": {},
   "source": [
    "따로 특수문자 제거 전처리 과정이 필요하다고 판단하여 re.sub를 이용해 문자만 남겨준다. 뒤에서 관사나 전치사같은 불용어를 제외할 예정인데, 나머지 특수문자나 숫자는 어차피 그보다 의미를 지니지 않고 있기 때문에 문자만 남겨두기로 한다. 문자만 남긴 후 word_tokenize한 결과이다."
   ]
  },
  {
   "cell_type": "code",
   "execution_count": 10,
   "metadata": {},
   "outputs": [
    {
     "name": "stdout",
     "output_type": "stream",
     "text": [
      "['FreeMsg', 'Hey', 'darling', 'week', 'word', 'back', 'I', 'like', 'fun', 'still', 'Tb', 'ok', 'XxX', 'std', 'chgs', 'send', 'rcv']\n"
     ]
    }
   ],
   "source": [
    "from nltk.corpus import stopwords\n",
    "\n",
    "nltk.download('stopwords')\n",
    "english_stops = set(stopwords.words('english'))\n",
    "words = [word for word in words if word not in english_stops]\n",
    "print(words)"
   ]
  },
  {
   "cell_type": "code",
   "execution_count": 3,
   "metadata": {},
   "outputs": [
    {
     "data": {
      "text/plain": [
       "\"FreeMsg Hey there darling it's been 3 week's now and no word back! I'd like some fun you up for it still? Tb ok! XxX std chgs to send, å£1.50 to rcv\""
      ]
     },
     "execution_count": 3,
     "metadata": {},
     "output_type": "execute_result"
    }
   ],
   "source": [
    "spam.iloc[5]['v2']"
   ]
  },
  {
   "cell_type": "markdown",
   "metadata": {},
   "source": [
    "re.sub로 특수문자 및 숫자 제거 → word_tokenize → stopwords 불용어 처리까지 한 결과이다. 원래 문자열과 비교해보니 의미를 지닌 단어들만 잘 남았다."
   ]
  },
  {
   "cell_type": "code",
   "execution_count": 11,
   "metadata": {},
   "outputs": [
    {
     "name": "stdout",
     "output_type": "stream",
     "text": [
      "['FreeMsg', 'Hey', 'darling', 'week', 'word', 'back', 'I', 'like', 'fun', 'still', 'Tb', 'ok', 'XxX', 'std', 'chgs', 'send', 'rcv']\n"
     ]
    }
   ],
   "source": [
    "from nltk.stem import WordNetLemmatizer\n",
    "\n",
    "nltk.download('wordnet')\n",
    "lemmatizer = WordNetLemmatizer()\n",
    "words = [lemmatizer.lemmatize(word) for word in words]\n",
    "print(words)"
   ]
  },
  {
   "cell_type": "markdown",
   "metadata": {},
   "source": [
    "표제어로 변환해주어 복잡성을 낮춘다."
   ]
  },
  {
   "cell_type": "code",
   "execution_count": 12,
   "metadata": {},
   "outputs": [
    {
     "name": "stdout",
     "output_type": "stream",
     "text": [
      "['freemsg', 'hey', 'darling', 'week', 'word', 'back', 'i', 'like', 'fun', 'still', 'tb', 'ok', 'xxx', 'std', 'chgs', 'send', 'rcv']\n"
     ]
    }
   ],
   "source": [
    "words = [word.lower() for word in words]\n",
    "print(words)"
   ]
  },
  {
   "cell_type": "markdown",
   "metadata": {},
   "source": [
    "소문자로 변환해주어 역시 복잡성을 낮춘다.  \n",
    "이제 전체 spam 데이터를 tokenizing 해보자."
   ]
  },
  {
   "cell_type": "code",
   "execution_count": 117,
   "metadata": {
    "scrolled": true
   },
   "outputs": [],
   "source": [
    "# import nltk\n",
    "# import re\n",
    "# from nltk.tokenize import word_tokenize\n",
    "# from nltk.corpus import stopwords\n",
    "# from nltk.stem import WordNetLemmatizer\n",
    "# nltk.download('punkt')\n",
    "# nltk.download('stopwords')\n",
    "# english_stops = set(stopwords.words('english'))\n",
    "# nltk.download('wordnet')\n",
    "# lemmatizer = WordNetLemmatizer()\n",
    "\n",
    "\n",
    "spam_token = []\n",
    "for i in range(len(spam)):\n",
    "    words = re.sub('[^a-zA-Z]', ' ', spam.iloc[i]['v2'])  # 특수문자 및 숫자 제거\n",
    "    words = word_tokenize(words)  # tokenize\n",
    "    words = [word for word in words if word not in english_stops]  # 불용어 제거\n",
    "    words = [lemmatizer.lemmatize(word) for word in words]  # 표제어추출\n",
    "    words = [word.lower() for word in words]  # 소문자 변환\n",
    "    spam_token.append(words)"
   ]
  },
  {
   "cell_type": "markdown",
   "metadata": {},
   "source": [
    "## Embedding\n",
    "\n",
    "- 수업에서 다룬 임베딩 방법에는 One-hot encoding, CBOW, Skip-gram, GloVe, FastText가 있었어요. 왜 이 임베딩 모델을 적용하게 되었는지 '비교' 결과와 함께 적어주세요!"
   ]
  },
  {
   "cell_type": "code",
   "execution_count": 14,
   "metadata": {},
   "outputs": [],
   "source": [
    "from gensim.models import Word2Vec\n",
    "\n",
    "CBOW = Word2Vec(spam_token, size=2, window=2, min_count=1, workers=1, iter=1000, sg=0)\n",
    "CBOW_words = CBOW.wv.index2word\n",
    "CBOW_vectors = CBOW.wv.vectors"
   ]
  },
  {
   "cell_type": "code",
   "execution_count": 98,
   "metadata": {},
   "outputs": [
    {
     "data": {
      "text/html": [
       "<div>\n",
       "<style scoped>\n",
       "    .dataframe tbody tr th:only-of-type {\n",
       "        vertical-align: middle;\n",
       "    }\n",
       "\n",
       "    .dataframe tbody tr th {\n",
       "        vertical-align: top;\n",
       "    }\n",
       "\n",
       "    .dataframe thead th {\n",
       "        text-align: right;\n",
       "    }\n",
       "</style>\n",
       "<table border=\"1\" class=\"dataframe\">\n",
       "  <thead>\n",
       "    <tr style=\"text-align: right;\">\n",
       "      <th></th>\n",
       "      <th>words</th>\n",
       "      <th>x1</th>\n",
       "      <th>x2</th>\n",
       "    </tr>\n",
       "  </thead>\n",
       "  <tbody>\n",
       "    <tr>\n",
       "      <th>0</th>\n",
       "      <td>i</td>\n",
       "      <td>0.654362</td>\n",
       "      <td>-1.412184</td>\n",
       "    </tr>\n",
       "    <tr>\n",
       "      <th>1</th>\n",
       "      <td>u</td>\n",
       "      <td>0.654174</td>\n",
       "      <td>-0.494831</td>\n",
       "    </tr>\n",
       "    <tr>\n",
       "      <th>2</th>\n",
       "      <td>call</td>\n",
       "      <td>1.428023</td>\n",
       "      <td>1.952299</td>\n",
       "    </tr>\n",
       "    <tr>\n",
       "      <th>3</th>\n",
       "      <td>get</td>\n",
       "      <td>0.810256</td>\n",
       "      <td>0.434041</td>\n",
       "    </tr>\n",
       "    <tr>\n",
       "      <th>4</th>\n",
       "      <td>ur</td>\n",
       "      <td>0.942154</td>\n",
       "      <td>0.984334</td>\n",
       "    </tr>\n",
       "    <tr>\n",
       "      <th>...</th>\n",
       "      <td>...</td>\n",
       "      <td>...</td>\n",
       "      <td>...</td>\n",
       "    </tr>\n",
       "    <tr>\n",
       "      <th>7300</th>\n",
       "      <td>heap</td>\n",
       "      <td>0.723307</td>\n",
       "      <td>-4.041201</td>\n",
       "    </tr>\n",
       "    <tr>\n",
       "      <th>7301</th>\n",
       "      <td>lowes</td>\n",
       "      <td>0.553759</td>\n",
       "      <td>-2.862395</td>\n",
       "    </tr>\n",
       "    <tr>\n",
       "      <th>7302</th>\n",
       "      <td>salesman</td>\n",
       "      <td>0.572551</td>\n",
       "      <td>1.126651</td>\n",
       "    </tr>\n",
       "    <tr>\n",
       "      <th>7303</th>\n",
       "      <td>pity</td>\n",
       "      <td>0.658047</td>\n",
       "      <td>-5.703414</td>\n",
       "    </tr>\n",
       "    <tr>\n",
       "      <th>7304</th>\n",
       "      <td>bitching</td>\n",
       "      <td>0.996367</td>\n",
       "      <td>-0.511483</td>\n",
       "    </tr>\n",
       "  </tbody>\n",
       "</table>\n",
       "<p>7305 rows × 3 columns</p>\n",
       "</div>"
      ],
      "text/plain": [
       "         words        x1        x2\n",
       "0            i  0.654362 -1.412184\n",
       "1            u  0.654174 -0.494831\n",
       "2         call  1.428023  1.952299\n",
       "3          get  0.810256  0.434041\n",
       "4           ur  0.942154  0.984334\n",
       "...        ...       ...       ...\n",
       "7300      heap  0.723307 -4.041201\n",
       "7301     lowes  0.553759 -2.862395\n",
       "7302  salesman  0.572551  1.126651\n",
       "7303      pity  0.658047 -5.703414\n",
       "7304  bitching  0.996367 -0.511483\n",
       "\n",
       "[7305 rows x 3 columns]"
      ]
     },
     "execution_count": 98,
     "metadata": {},
     "output_type": "execute_result"
    }
   ],
   "source": [
    "CBOW_df = pd.DataFrame(CBOW_vectors, columns = ['x1', 'x2'])\n",
    "CBOW_df['words'] = CBOW_words\n",
    "CBOW_df = CBOW_df[['words', 'x1', 'x2']]\n",
    "CBOW_df"
   ]
  },
  {
   "cell_type": "code",
   "execution_count": 107,
   "metadata": {},
   "outputs": [
    {
     "name": "stderr",
     "output_type": "stream",
     "text": [
      "C:\\Users\\tpdud\\anaconda3\\lib\\site-packages\\ipykernel_launcher.py:1: DeprecationWarning: Call to deprecated `most_similar` (Method will be removed in 4.0.0, use self.wv.most_similar() instead).\n",
      "  \"\"\"Entry point for launching an IPython kernel.\n"
     ]
    },
    {
     "data": {
      "text/plain": [
       "[('nosy', 0.9999999403953552),\n",
       " ('ring', 0.9999999403953552),\n",
       " ('surf', 0.9999999403953552),\n",
       " ('ham', 0.9999999403953552),\n",
       " ('select', 0.9999998807907104)]"
      ]
     },
     "execution_count": 107,
     "metadata": {},
     "output_type": "execute_result"
    }
   ],
   "source": [
    "CBOW.most_similar('week', topn=5)"
   ]
  },
  {
   "cell_type": "code",
   "execution_count": 105,
   "metadata": {},
   "outputs": [
    {
     "name": "stderr",
     "output_type": "stream",
     "text": [
      "C:\\Users\\tpdud\\anaconda3\\lib\\site-packages\\ipykernel_launcher.py:1: DeprecationWarning: Call to deprecated `most_similar` (Method will be removed in 4.0.0, use self.wv.most_similar() instead).\n",
      "  \"\"\"Entry point for launching an IPython kernel.\n"
     ]
    },
    {
     "data": {
      "text/plain": [
       "[('practising', 1.0),\n",
       " ('aint', 1.0),\n",
       " ('bud', 1.0),\n",
       " ('enemy', 1.0),\n",
       " ('fine', 1.0)]"
      ]
     },
     "execution_count": 105,
     "metadata": {},
     "output_type": "execute_result"
    }
   ],
   "source": [
    "CBOW.most_similar('happy', topn=5)"
   ]
  },
  {
   "cell_type": "code",
   "execution_count": 108,
   "metadata": {},
   "outputs": [
    {
     "name": "stderr",
     "output_type": "stream",
     "text": [
      "C:\\Users\\tpdud\\anaconda3\\lib\\site-packages\\ipykernel_launcher.py:1: DeprecationWarning: Call to deprecated `most_similar` (Method will be removed in 4.0.0, use self.wv.most_similar() instead).\n",
      "  \"\"\"Entry point for launching an IPython kernel.\n"
     ]
    },
    {
     "data": {
      "text/plain": [
       "[('guaranteed', 1.0),\n",
       " ('dining', 1.0),\n",
       " ('reply', 1.0),\n",
       " ('biz', 1.0),\n",
       " ('ldew', 1.0)]"
      ]
     },
     "execution_count": 108,
     "metadata": {},
     "output_type": "execute_result"
    }
   ],
   "source": [
    "CBOW.most_similar('customer', topn=5)"
   ]
  },
  {
   "cell_type": "markdown",
   "metadata": {},
   "source": [
    "CBOW 유사도는 터무니없다. 유사하다 볼 수 없는 단어들만 나왔다. Skip_Gram에서는 window size 3 이외에 옵션 동일하게 돌려보았다."
   ]
  },
  {
   "cell_type": "code",
   "execution_count": 119,
   "metadata": {},
   "outputs": [],
   "source": [
    "Skip_Gram = Word2Vec(spam_token, size=2, window=3, min_count=1, workers=1, iter=1000, sg=1)\n",
    "Skip_Gram_words = Skip_Gram.wv.index2word\n",
    "Skip_Gram_vectors = Skip_Gram.wv.vectors\n",
    "\n",
    "Skip_Gram_df = pd.DataFrame(Skip_Gram_vectors, columns = ['x1', 'x2'])\n",
    "Skip_Gram_df['words'] = Skip_Gram_words\n",
    "Skip_Gram_df = Skip_Gram_df[['words', 'x1', 'x2']]"
   ]
  },
  {
   "cell_type": "code",
   "execution_count": 120,
   "metadata": {},
   "outputs": [
    {
     "name": "stderr",
     "output_type": "stream",
     "text": [
      "C:\\Users\\tpdud\\anaconda3\\lib\\site-packages\\ipykernel_launcher.py:1: DeprecationWarning: Call to deprecated `most_similar` (Method will be removed in 4.0.0, use self.wv.most_similar() instead).\n",
      "  \"\"\"Entry point for launching an IPython kernel.\n"
     ]
    },
    {
     "data": {
      "text/plain": [
       "[('chap', 0.9999998807907104),\n",
       " ('devils', 0.9999998807907104),\n",
       " ('intha', 0.9999996423721313),\n",
       " ('goal', 0.9999990463256836),\n",
       " ('ml', 0.999998927116394)]"
      ]
     },
     "execution_count": 120,
     "metadata": {},
     "output_type": "execute_result"
    }
   ],
   "source": [
    "Skip_Gram.most_similar('week', topn=5)"
   ]
  },
  {
   "cell_type": "code",
   "execution_count": 121,
   "metadata": {},
   "outputs": [
    {
     "name": "stderr",
     "output_type": "stream",
     "text": [
      "C:\\Users\\tpdud\\anaconda3\\lib\\site-packages\\ipykernel_launcher.py:1: DeprecationWarning: Call to deprecated `most_similar` (Method will be removed in 4.0.0, use self.wv.most_similar() instead).\n",
      "  \"\"\"Entry point for launching an IPython kernel.\n"
     ]
    },
    {
     "data": {
      "text/plain": [
       "[('imma', 1.0),\n",
       " ('offense', 1.0),\n",
       " ('felt', 1.0),\n",
       " ('impede', 0.9999999403953552),\n",
       " ('thing', 0.9999999403953552)]"
      ]
     },
     "execution_count": 121,
     "metadata": {},
     "output_type": "execute_result"
    }
   ],
   "source": [
    "Skip_Gram.most_similar('happy', topn=5)"
   ]
  },
  {
   "cell_type": "code",
   "execution_count": 122,
   "metadata": {},
   "outputs": [
    {
     "name": "stderr",
     "output_type": "stream",
     "text": [
      "C:\\Users\\tpdud\\anaconda3\\lib\\site-packages\\ipykernel_launcher.py:1: DeprecationWarning: Call to deprecated `most_similar` (Method will be removed in 4.0.0, use self.wv.most_similar() instead).\n",
      "  \"\"\"Entry point for launching an IPython kernel.\n"
     ]
    },
    {
     "data": {
      "text/plain": [
       "[('utele', 1.0),\n",
       " ('regalportfolio', 1.0),\n",
       " ('ny', 1.0),\n",
       " ('onto', 1.0),\n",
       " ('ringtoneking', 1.0)]"
      ]
     },
     "execution_count": 122,
     "metadata": {},
     "output_type": "execute_result"
    }
   ],
   "source": [
    "Skip_Gram.most_similar('customer', topn=5)"
   ]
  },
  {
   "cell_type": "markdown",
   "metadata": {},
   "source": [
    "CBOW에 비해 크게 낫다고 보기 어렵다. 옵션값을 늘려보기로 한다."
   ]
  },
  {
   "cell_type": "code",
   "execution_count": 130,
   "metadata": {},
   "outputs": [],
   "source": [
    "Skip_Gram = Word2Vec(spam_token, size=100, window=5, min_count=1, workers=1, iter=1000, sg=1)\n",
    "Skip_Gram_words = Skip_Gram.wv.index2word\n",
    "Skip_Gram_vectors = Skip_Gram.wv.vectors"
   ]
  },
  {
   "cell_type": "code",
   "execution_count": 131,
   "metadata": {},
   "outputs": [
    {
     "name": "stderr",
     "output_type": "stream",
     "text": [
      "C:\\Users\\tpdud\\anaconda3\\lib\\site-packages\\ipykernel_launcher.py:1: DeprecationWarning: Call to deprecated `most_similar` (Method will be removed in 4.0.0, use self.wv.most_similar() instead).\n",
      "  \"\"\"Entry point for launching an IPython kernel.\n"
     ]
    },
    {
     "data": {
      "text/plain": [
       "[('min', 0.32181063294410706),\n",
       " ('semester', 0.31971925497055054),\n",
       " ('month', 0.3171654939651489),\n",
       " ('wk', 0.30533984303474426),\n",
       " ('saturday', 0.3046000599861145)]"
      ]
     },
     "execution_count": 131,
     "metadata": {},
     "output_type": "execute_result"
    }
   ],
   "source": [
    "CBOW.most_similar('week', topn=5)"
   ]
  },
  {
   "cell_type": "code",
   "execution_count": 132,
   "metadata": {},
   "outputs": [
    {
     "name": "stderr",
     "output_type": "stream",
     "text": [
      "C:\\Users\\tpdud\\anaconda3\\lib\\site-packages\\ipykernel_launcher.py:1: DeprecationWarning: Call to deprecated `most_similar` (Method will be removed in 4.0.0, use self.wv.most_similar() instead).\n",
      "  \"\"\"Entry point for launching an IPython kernel.\n"
     ]
    },
    {
     "data": {
      "text/plain": [
       "[('merry', 0.3190174102783203),\n",
       " ('air', 0.3068758249282837),\n",
       " ('cabin', 0.3057338297367096),\n",
       " ('sweet', 0.2924387454986572),\n",
       " ('christmas', 0.2922725975513458)]"
      ]
     },
     "execution_count": 132,
     "metadata": {},
     "output_type": "execute_result"
    }
   ],
   "source": [
    "CBOW.most_similar('happy', topn=5)"
   ]
  },
  {
   "cell_type": "code",
   "execution_count": 133,
   "metadata": {},
   "outputs": [
    {
     "name": "stderr",
     "output_type": "stream",
     "text": [
      "C:\\Users\\tpdud\\anaconda3\\lib\\site-packages\\ipykernel_launcher.py:1: DeprecationWarning: Call to deprecated `most_similar` (Method will be removed in 4.0.0, use self.wv.most_similar() instead).\n",
      "  \"\"\"Entry point for launching an IPython kernel.\n"
     ]
    },
    {
     "data": {
      "text/plain": [
       "[('code', 0.3745417892932892),\n",
       " ('content', 0.32431474328041077),\n",
       " ('awaiting', 0.3172096908092499),\n",
       " ('unsubscribe', 0.30219221115112305),\n",
       " ('dating', 0.3000642657279968)]"
      ]
     },
     "execution_count": 133,
     "metadata": {},
     "output_type": "execute_result"
    }
   ],
   "source": [
    "CBOW.most_similar('customer', topn=5)"
   ]
  },
  {
   "cell_type": "markdown",
   "metadata": {},
   "source": [
    "임베딩 차원을 늘렸더니 week-(semester,month,saturday), happy-(merry,sweet, christmas), customer-(unsubscribe) 이렇게 유사한 단어들이 나오는 것을 확인할 수 있다.\n",
    "\n",
    "마지막으로 FastText를 돌려보기로 한다. 옵션값은 동일하게 두었다."
   ]
  },
  {
   "cell_type": "code",
   "execution_count": 86,
   "metadata": {},
   "outputs": [],
   "source": [
    "from gensim.models import FastText\n",
    "\n",
    "Fastext = FastText(spam_token, size=100, window=5, min_count=5, workers=4, sg=1)\n",
    "Fastext_words = Fastext.wv.index2word\n",
    "Fastext_vectors = Fastext.wv.vectors"
   ]
  },
  {
   "cell_type": "code",
   "execution_count": 137,
   "metadata": {},
   "outputs": [
    {
     "name": "stderr",
     "output_type": "stream",
     "text": [
      "C:\\Users\\tpdud\\anaconda3\\lib\\site-packages\\ipykernel_launcher.py:1: DeprecationWarning: Call to deprecated `most_similar` (Method will be removed in 4.0.0, use self.wv.most_similar() instead).\n",
      "  \"\"\"Entry point for launching an IPython kernel.\n"
     ]
    },
    {
     "data": {
      "text/plain": [
       "[('every', 0.9837372303009033),\n",
       " ('games', 0.9837229251861572),\n",
       " ('st', 0.9837208986282349),\n",
       " ('age', 0.9823904037475586),\n",
       " ('game', 0.9817243814468384)]"
      ]
     },
     "execution_count": 137,
     "metadata": {},
     "output_type": "execute_result"
    }
   ],
   "source": [
    "Fastext.most_similar('week', topn=5)"
   ]
  },
  {
   "cell_type": "code",
   "execution_count": 138,
   "metadata": {},
   "outputs": [
    {
     "name": "stderr",
     "output_type": "stream",
     "text": [
      "C:\\Users\\tpdud\\anaconda3\\lib\\site-packages\\ipykernel_launcher.py:1: DeprecationWarning: Call to deprecated `most_similar` (Method will be removed in 4.0.0, use self.wv.most_similar() instead).\n",
      "  \"\"\"Entry point for launching an IPython kernel.\n"
     ]
    },
    {
     "data": {
      "text/plain": [
       "[('have', 0.9907378554344177),\n",
       " ('love', 0.9884514808654785),\n",
       " ('hope', 0.9878665804862976),\n",
       " ('happen', 0.9867247939109802),\n",
       " ('morning', 0.9866987466812134)]"
      ]
     },
     "execution_count": 138,
     "metadata": {},
     "output_type": "execute_result"
    }
   ],
   "source": [
    "Fastext.most_similar('happy', topn=5)"
   ]
  },
  {
   "cell_type": "code",
   "execution_count": 139,
   "metadata": {},
   "outputs": [
    {
     "name": "stderr",
     "output_type": "stream",
     "text": [
      "C:\\Users\\tpdud\\anaconda3\\lib\\site-packages\\ipykernel_launcher.py:1: DeprecationWarning: Call to deprecated `most_similar` (Method will be removed in 4.0.0, use self.wv.most_similar() instead).\n",
      "  \"\"\"Entry point for launching an IPython kernel.\n"
     ]
    },
    {
     "data": {
      "text/plain": [
       "[('service', 0.9960663318634033),\n",
       " ('receive', 0.9956194162368774),\n",
       " ('offer', 0.9954560399055481),\n",
       " ('services', 0.9946961402893066),\n",
       " ('to', 0.9938416481018066)]"
      ]
     },
     "execution_count": 139,
     "metadata": {},
     "output_type": "execute_result"
    }
   ],
   "source": [
    "Fastext.most_similar('customer', topn=5)"
   ]
  },
  {
   "cell_type": "markdown",
   "metadata": {},
   "source": [
    "FastText에서는 week-(every), happy-(love, hope), customer-(service,receive,offer,services) 이렇게 유사한 단어가 뽑혔다.\n",
    "\n",
    "Fasttext가 미세하게 좀 더 유사한 단어를 보였다고 판단한다. 임베딩은 Fastext로 결정한다."
   ]
  },
  {
   "cell_type": "code",
   "execution_count": 16,
   "metadata": {},
   "outputs": [
    {
     "data": {
      "text/plain": [
       "(1708, 100)"
      ]
     },
     "execution_count": 16,
     "metadata": {},
     "output_type": "execute_result"
    }
   ],
   "source": [
    "Fastext_vectors.shape"
   ]
  },
  {
   "cell_type": "markdown",
   "metadata": {},
   "source": [
    "## 본인이 도출해낸 해석을 적어주세요!\n",
    "\n",
    "- Plot, Wordcloud, 이진 분류 모델, 유사도 뭐든 관계없으니 분명하고 인상적인 해석 부탁드려요!"
   ]
  },
  {
   "cell_type": "markdown",
   "metadata": {},
   "source": [
    "위에서 세가지 임베딩 모델의 유사도를 비교해보았다. 기본적으로 size 임베드 차원을 늘려줘야 좋은 결과를 보였고, Skip_Gram보다 FastText가 미세하게 좀 더 나은 결과를 보였다고 판단했다. week-(every), happy-(love, hope), customer-(service,receive,offer,services)  \n",
    "간단한 시각화와 분류 모델 학습을 진행해보기로 한다."
   ]
  },
  {
   "cell_type": "code",
   "execution_count": 115,
   "metadata": {},
   "outputs": [
    {
     "data": {
      "image/png": "[encoded data removed]",
      "text/plain": [
       "<Figure size 432x288 with 1 Axes>"
      ]
     },
     "metadata": {
      "needs_background": "light"
     },
     "output_type": "display_data"
    }
   ],
   "source": [
    "from wordcloud import WordCloud\n",
    "import matplotlib.pyplot as plt\n",
    "\n",
    "ham_index = spam.loc[spam.v1=='ham',].index\n",
    "\n",
    "ham_oneline = \"\"\n",
    "for i in ham_index:\n",
    "    for j in spam_token[i]:\n",
    "        ham_oneline = ham_oneline + j + \" \"\n",
    "\n",
    "wc = WordCloud(width=1000, height=600, background_color=\"white\", random_state=0)\n",
    "plt.imshow(wc.generate(ham_oneline))\n",
    "plt.axis(\"off\")\n",
    "plt.show()"
   ]
  },
  {
   "cell_type": "code",
   "execution_count": 116,
   "metadata": {},
   "outputs": [
    {
     "data": {
      "image/png": "[encoded data removed]",
      "text/plain": [
       "<Figure size 432x288 with 1 Axes>"
      ]
     },
     "metadata": {
      "needs_background": "light"
     },
     "output_type": "display_data"
    }
   ],
   "source": [
    "spam_index = spam.loc[spam.v1=='spam',].index\n",
    "\n",
    "spam_oneline = \"\"\n",
    "for i in spam_index:\n",
    "    for j in spam_token[i]:\n",
    "        spam_oneline = spam_oneline + j + \" \"\n",
    "\n",
    "wc = WordCloud(width=1000, height=600, background_color=\"white\", random_state=0)\n",
    "plt.imshow(wc.generate(spam_oneline))\n",
    "plt.axis(\"off\")\n",
    "plt.show()"
   ]
  },
  {
   "cell_type": "markdown",
   "metadata": {},
   "source": [
    "문서 전체적으로 많이 등장하는 단어를 살펴보기 위해 워드클라우드를 그려보았다.  \n",
    "spam이 아닌 데이터의 경우 주로 일상적인 텍스트 데이터이다보니 '오고가다', '시간, 시점', '감정'에 관한 단어가 많이 등장하는 것을 볼 수 있다.  \n",
    "그에 비해 spam인 데이터의 경우 'free', 'text', 'reply' 등 스팸이나 광고 관련 단어들이 많이 등장하는 것을 확인할 수 있다.  \n",
    "observation 별로 워드클라우드를 그려보는 건 의미가 없을 것 같아 (그냥 원래 데이터 문장을 보는거랑 다를 바 없다고 생각) 라벨링만 구분하여 전체 데이터로 워드클라우드를 그려보았다."
   ]
  },
  {
   "cell_type": "code",
   "execution_count": 76,
   "metadata": {},
   "outputs": [],
   "source": [
    "from sklearn.feature_extraction.text import TfidfVectorizer\n",
    "import string\n",
    "\n",
    "vectorizer = TfidfVectorizer(\"english\")\n",
    "\n",
    "spam_vector = []\n",
    "for i in spam_token:\n",
    "    sentence = \"\"\n",
    "    for j in i:sentence = sentence + j + \" \" \n",
    "    spam_vector.append(sentence)\n",
    "\n",
    "X_vector = vectorizer.fit_transform(spam_vector)"
   ]
  },
  {
   "cell_type": "code",
   "execution_count": 80,
   "metadata": {},
   "outputs": [
    {
     "data": {
      "text/plain": [
       "0.9820627802690582"
      ]
     },
     "execution_count": 80,
     "metadata": {},
     "output_type": "execute_result"
    }
   ],
   "source": [
    "from sklearn.model_selection import train_test_split\n",
    "from sklearn.svm import SVC\n",
    "from sklearn.metrics import accuracy_score\n",
    "\n",
    "X_train, X_test, y_train, y_test = train_test_split(X_vector,spam.v1,test_size=0.2, random_state=111)\n",
    "svc = SVC(kernel='rbf', gamma=1.0)\n",
    "svc.fit(X_train, y_train)\n",
    "prediction = svc.predict(X_test)\n",
    "accuracy_score(y_test,prediction)"
   ]
  },
  {
   "cell_type": "markdown",
   "metadata": {},
   "source": [
    "분류모델을 돌려보기 위해 TF-IDF로 벡터화를 진행해보았다. 앞서 이미 불용어와 특수문자 등은 처리를 해두었기 때문에 spam_token을 observation별로 다시 한 문장으로 묶어놓고 벡터화를 진행하였다.  \n",
    "이후 train과 test split, 모델은 SVM으로 이진 분류를 시도한 결과 0.98의 정확도를 얻을 수 있었다. 앞선 전처리가 어느정도 잘 된 것 같다."
   ]
  }
 ],
 "metadata": {
  "kernelspec": {
   "display_name": "Python 3",
   "language": "python",
   "name": "python3"
  },
  "language_info": {
   "codemirror_mode": {
    "name": "ipython",
    "version": 3
   },
   "file_extension": ".py",
   "mimetype": "text/x-python",
   "name": "python",
   "nbconvert_exporter": "python",
   "pygments_lexer": "ipython3",
   "version": "3.7.6"
  }
 },
 "nbformat": 4,
 "nbformat_minor": 4
}
