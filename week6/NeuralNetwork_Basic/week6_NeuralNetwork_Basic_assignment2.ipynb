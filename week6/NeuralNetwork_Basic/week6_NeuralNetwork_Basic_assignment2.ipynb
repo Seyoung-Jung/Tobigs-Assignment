{
 "cells": [
  {
   "cell_type": "markdown",
   "metadata": {},
   "source": [
    "# Tobig's 14기 6주차 Neural Network Assignment2\n",
    "### Made by 이지용"
   ]
  },
  {
   "cell_type": "code",
   "execution_count": 1,
   "metadata": {},
   "outputs": [],
   "source": [
    "import numpy as np\n",
    "from matplotlib import pyplot as plt"
   ]
  },
  {
   "cell_type": "markdown",
   "metadata": {},
   "source": [
    "## 데이터 불러오기"
   ]
  },
  {
   "cell_type": "markdown",
   "metadata": {},
   "source": [
    "학습에 쓰일 데이터는 keras의 cifar-10 데이터입니다.  \n",
    "32x32 이미지에 색상을 rgb 3가지로 분류한 데이터로 총 3072 차원입니다.  \n",
    "이 이미지를 10가지 카테고리로 분류했습니다.  \n",
    "https://www.cs.toronto.edu/~kriz/cifar.html"
   ]
  },
  {
   "cell_type": "code",
   "execution_count": 2,
   "metadata": {},
   "outputs": [],
   "source": [
    "x_train = np.load(\"./x_train_data.npy\")\n",
    "y_train = np.load(\"./y_train_data.npy\")\n",
    "x_test = np.load(\"./x_test_data.npy\")\n",
    "y_test = np.load(\"./y_test_data.npy\")"
   ]
  },
  {
   "cell_type": "code",
   "execution_count": 3,
   "metadata": {},
   "outputs": [
    {
     "data": {
      "text/plain": [
       "((5000, 3072), (5000,), (1000, 3072), (1000,))"
      ]
     },
     "execution_count": 3,
     "metadata": {},
     "output_type": "execute_result"
    }
   ],
   "source": [
    "x_train.shape, y_train.shape, x_test.shape, y_test.shape"
   ]
  },
  {
   "cell_type": "markdown",
   "metadata": {},
   "source": [
    "## 활성화 함수 클래스"
   ]
  },
  {
   "cell_type": "markdown",
   "metadata": {},
   "source": [
    "신경망에 사용될 함수들을 정의합니다."
   ]
  },
  {
   "cell_type": "markdown",
   "metadata": {},
   "source": [
    "### Activation Functions"
   ]
  },
  {
   "cell_type": "code",
   "execution_count": 3,
   "metadata": {},
   "outputs": [],
   "source": [
    "class sigmoid :\n",
    "    # sigmoid 함수입니다.\n",
    "    def forward(z) :\n",
    "        c = np.max(z)/2\n",
    "        return np.exp(c)/(np.exp(c)+np.exp(-z+c))\n",
    "    \n",
    "    # sigmoid 함수의 미분을 작성하세요\n",
    "    def backward(a) :\n",
    "        return a*(1-a)"
   ]
  },
  {
   "cell_type": "code",
   "execution_count": 106,
   "metadata": {},
   "outputs": [],
   "source": [
    "z = np.array([-1,2,3])"
   ]
  },
  {
   "cell_type": "code",
   "execution_count": 107,
   "metadata": {},
   "outputs": [
    {
     "data": {
      "text/plain": [
       "array([0.26894142, 0.88079708, 0.95257413])"
      ]
     },
     "execution_count": 107,
     "metadata": {},
     "output_type": "execute_result"
    }
   ],
   "source": [
    "sigmoid.forward(z)"
   ]
  },
  {
   "cell_type": "code",
   "execution_count": 108,
   "metadata": {},
   "outputs": [
    {
     "data": {
      "text/plain": [
       "array([-2, -2, -6])"
      ]
     },
     "execution_count": 108,
     "metadata": {},
     "output_type": "execute_result"
    }
   ],
   "source": [
    "sigmoid.backward(z)"
   ]
  },
  {
   "cell_type": "code",
   "execution_count": 4,
   "metadata": {},
   "outputs": [],
   "source": [
    "class relu :\n",
    "    # relu 함수를 작성하세요\n",
    "    def forward(z) :\n",
    "        return np.maximum(0,z), # z가 0보다 작을 경우 maximum값이 0이고, 0보다 클 경우 maximum으로 z를 반환한다.\n",
    "    \n",
    "    # relu 함수의 미분을 작성하세요\n",
    "    def backward(a) :\n",
    "        return np.where(a<0,0,1)"
   ]
  },
  {
   "cell_type": "code",
   "execution_count": 9,
   "metadata": {},
   "outputs": [
    {
     "data": {
      "text/plain": [
       "array([0, 2, 3])"
      ]
     },
     "execution_count": 9,
     "metadata": {},
     "output_type": "execute_result"
    }
   ],
   "source": [
    "relu.forward(z)"
   ]
  },
  {
   "cell_type": "code",
   "execution_count": 10,
   "metadata": {},
   "outputs": [
    {
     "data": {
      "text/plain": [
       "array([0, 1, 1])"
      ]
     },
     "execution_count": 10,
     "metadata": {},
     "output_type": "execute_result"
    }
   ],
   "source": [
    "relu.backward(z)"
   ]
  },
  {
   "cell_type": "markdown",
   "metadata": {},
   "source": [
    "### Output Activation Function"
   ]
  },
  {
   "cell_type": "markdown",
   "metadata": {},
   "source": [
    "softmax는 overflow 문제와 차원 문제 때문에 작성해두었습니다.\n",
    "이 부분은 softmax overflow문제에 대해 검색해보세요."
   ]
  },
  {
   "cell_type": "code",
   "execution_count": 5,
   "metadata": {},
   "outputs": [],
   "source": [
    "class softmax :\n",
    "    def forward(z) :\n",
    "        y = []\n",
    "        for zi in z :\n",
    "            #print(\"z\", z[0])\n",
    "            c = np.max(zi)\n",
    "            exp_zi = np.exp(zi-c)\n",
    "            sum_exp_zi = np.sum(exp_zi)\n",
    "            yi = exp_zi / sum_exp_zi\n",
    "            y.append(yi)\n",
    "            #print(\"y\", y[0])\n",
    "        #print(y[0])\n",
    "        return np.array(y)\n",
    "    \n",
    "    def backward(p, y) :\n",
    "        dp = p.copy()\n",
    "        for dpi, yi in zip(dp, y):\n",
    "            for k in range(dp.shape[1]):\n",
    "                if k == yi :\n",
    "                    dpi[k] -= 1  # y=1인 인덱스일 경우만 p-1 이고 나머지는 그대로이다.\n",
    "        return dp"
   ]
  },
  {
   "cell_type": "code",
   "execution_count": 7,
   "metadata": {},
   "outputs": [],
   "source": [
    "z = np.array([[np.log(1), np.log(3), np.log(4)]])\n",
    "p = np.array([[0.125, 0.375, 0.5]])\n",
    "y = np.array([2])"
   ]
  },
  {
   "cell_type": "code",
   "execution_count": 13,
   "metadata": {},
   "outputs": [
    {
     "data": {
      "text/plain": [
       "array([[0.125, 0.375, 0.5  ]])"
      ]
     },
     "execution_count": 13,
     "metadata": {},
     "output_type": "execute_result"
    }
   ],
   "source": [
    "softmax.forward(z)"
   ]
  },
  {
   "cell_type": "code",
   "execution_count": 14,
   "metadata": {},
   "outputs": [
    {
     "data": {
      "text/plain": [
       "array([[ 0.125,  0.375, -0.5  ]])"
      ]
     },
     "execution_count": 14,
     "metadata": {},
     "output_type": "execute_result"
    }
   ],
   "source": [
    "softmax.backward(p, y)"
   ]
  },
  {
   "cell_type": "markdown",
   "metadata": {},
   "source": [
    "### Loss Functions"
   ]
  },
  {
   "cell_type": "code",
   "execution_count": 6,
   "metadata": {},
   "outputs": [],
   "source": [
    "def cross_entropy(p, y) :\n",
    "    # cross entropy 함수를 작성하세요\n",
    "    loss = []\n",
    "    for pi, yi in zip(p, y) :\n",
    "        for k in range(p.shape[1]) :\n",
    "            if k == yi :\n",
    "                loss.append(-np.log(pi[k]+1e-8)) # 1e-8은 무한대로 발산하는 경우를 방지하기 위해 존재합니다\n",
    "    return loss  "
   ]
  },
  {
   "cell_type": "markdown",
   "metadata": {},
   "source": [
    "yi가 하나만 1이고 나머지는 0이기 때문에 1일 때의 logp값이 CE값이 된다."
   ]
  },
  {
   "cell_type": "code",
   "execution_count": 16,
   "metadata": {},
   "outputs": [
    {
     "data": {
      "text/plain": [
       "[0.6931471605599454]"
      ]
     },
     "execution_count": 16,
     "metadata": {},
     "output_type": "execute_result"
    }
   ],
   "source": [
    "cross_entropy(p, y)"
   ]
  },
  {
   "cell_type": "markdown",
   "metadata": {},
   "source": [
    "## 레이어 클래스"
   ]
  },
  {
   "cell_type": "markdown",
   "metadata": {},
   "source": [
    "각 레이어의 크기와 형태를 입력값과 출력값에 따라 정의합니다."
   ]
  },
  {
   "cell_type": "code",
   "execution_count": 7,
   "metadata": {},
   "outputs": [],
   "source": [
    "class Layer:\n",
    "    def __init__(self, input_size, output_size, std=1e-4) :\n",
    "        self.input_size = input_size\n",
    "        self.output_size = output_size\n",
    "        self.bias = np.random.randn(output_size)  # bias는 output값 하나하나에 더해지는 값이므로 output 개수만큼 존재한다.\n",
    "        self.weight = np.random.randn(input_size, output_size)*std # std는 가중치 초기화에서 표준편차를 줄이기 위해 존재합니다."
   ]
  },
  {
   "cell_type": "markdown",
   "metadata": {},
   "source": [
    "## 뉴럴넷 클래스"
   ]
  },
  {
   "cell_type": "markdown",
   "metadata": {},
   "source": [
    "각 메소드와 변수들의 역할을 주석에 달아주세요 "
   ]
  },
  {
   "cell_type": "code",
   "execution_count": 8,
   "metadata": {},
   "outputs": [],
   "source": [
    "class CustomNet:\n",
    "    # CustomNet을 선언할 때 생성되는 값들입니다.\n",
    "    def __init__(self, lr=0.0001, epoch=500, batch_size=200) :\n",
    "        self.lr = lr\n",
    "        self.epoch = epoch\n",
    "        self.batch_size = batch_size\n",
    "        self.loss_function = cross_entropy # mse로 대체 가능하지만 이번 과제는 분류이므로 cross_entropy로 넣었어요.\n",
    "        self.layers = []\n",
    "        self.activations = [softmax]\n",
    "        self.nodes = []\n",
    "    \n",
    "    # Layer를 추가할 때 호출합니다.\n",
    "    def addLayer(self, Layer) :\n",
    "        self.layers.append(Layer)\n",
    "        if not self.nodes :\n",
    "            self.nodes.append(np.zeros(Layer.input_size)) # nodes가 비었다는 건 첫번째 레이어이기 때문에 그 때만 input부터 넣어준다.\n",
    "        self.nodes.append(np.zeros(Layer.output_size)) # 첫번째 레이어에서 input을 넣은 이후에는 output을 넣어준다.\n",
    "    \n",
    "    # Activation Function을 추가할 때 호출합니다.\n",
    "    def addActivation(self, Activation):\n",
    "        tmp = self.activations.pop()\n",
    "        self.activations.append(Activation)\n",
    "        self.activations.append(tmp)\n",
    "        \n",
    "    # 순전파 함수\n",
    "    def _forward(self, X) :\n",
    "        self.nodes[0] = X.copy()\n",
    "        output = X.copy()\n",
    "        for i in range(len(self.layers)):\n",
    "            Layer = self.layers[i]\n",
    "            Activation = self.activations[i]\n",
    "            output = np.dot(output, Layer.weight)  # z = Wx+b 과 같이 연산되기 위해서 output과 weight 행렬곱을 취해준다.\n",
    "            output = output + Layer.bias  # z = Wx(output) + b\n",
    "            output = Activation.forward(output)  # a = f(z)와 같이 함수를 거쳐 활성화된 값을 얻는다.\n",
    "            self.nodes[i+1] = output  # 최종 output값을 nodes에 넣는다.\n",
    "        return output   \n",
    "    \n",
    "    # 역전파 함수\n",
    "    def _backward(self, X, output, y) :\n",
    "        for i in reversed(range(len(self.layers))):  # 가장 바깥의 레이어부터 진행한다.\n",
    "            a = self.nodes[i+1]  # 현재 레이어의 활성화된 output값이다.\n",
    "            Layer = self.layers[i]\n",
    "            Activation = self.activations[i]\n",
    "            if i+1 == len(self.layers):\n",
    "                error = Activation.backward(output, y)  # 가장 바깥 레이어일 경우, 즉 첫번째 반복문일 경우의 델타(error)를 구해준다.\n",
    "            else :\n",
    "                error *= Activation.backward(a)  # 이후 레이어에서는 기존에 구한 델타(error)에 활성화함수의 미분값을 곱해준다.\n",
    "            Layer.weight -= np.dot(error.T, self.nodes[i]).T*self.lr/X.shape[0]  # 델타(error)와 현재 레이어 input nodes값의 행렬곱을 이용해 가중치를 업데이트해준다.\n",
    "            Layer.bias -= error.sum(axis=0)*self.lr/X.shape[0]\n",
    "            error = np.dot(error, Layer.weight.T)  # 첫번째 레이어 이후에는 델타(error)에 다음 레이어 가중치가 곱해져야 하므로 반복문 마지막에 행렬곱으로 error를 업데이트해준다.\n",
    "    \n",
    "    # Accrucy를 반환합니다.\n",
    "    def _accuracy(self, output, y) :\n",
    "        pre_p = np.argmax(output, axis=1)\n",
    "        return np.sum(pre_p==y)/y.shape[0]\n",
    "    \n",
    "    # 데이터셋에 모델을 fit할때 호출합니다.\n",
    "    def fit(self, X, y, val_X, val_y):\n",
    "        history = {'val_acc': [],'val_loss': []}\n",
    "        N = X.shape[0]\n",
    "        for i in range(self.epoch) :\n",
    "            for j in range(N//self.batch_size) :\n",
    "                batch_mask = np.random.choice(N, self.batch_size)\n",
    "                X_batch = X[batch_mask]\n",
    "                y_batch = y[batch_mask]\n",
    "                output = self._forward(X_batch)\n",
    "                self._backward(X_batch, output, y_batch) # forward로 구한 output을 이용해 backward로 업데이트를 진행한다.\n",
    "            \n",
    "            #accuracy와 loss를 기록해둡시다.\n",
    "            output = self._forward(val_X)\n",
    "            history[\"val_acc\"].append(self._accuracy(output, val_y))\n",
    "            history[\"val_loss\"].append(sum(self.loss_function(output, val_y)))\n",
    "            \n",
    "            #중간중간 기록을 찍어볼 때 사용. 적절히 조절해 쓰세요.\n",
    "            if i % 50 == 0:\n",
    "                print(i, \"test accuracy :\", history[\"val_acc\"][-1])\n",
    "                print(i, \"test loss     :\", history[\"val_loss\"][-1])\n",
    "        return history"
   ]
  },
  {
   "cell_type": "code",
   "execution_count": 123,
   "metadata": {},
   "outputs": [],
   "source": [
    "# 하이퍼 파라미터를 적절히 조절해 뉴럴넷을 선언하세요\n",
    "nn = CustomNet(lr=0.05, epoch=60, batch_size=500)\n",
    "\n",
    "# 원하는 만큼 층과 활성화 함수를 쌓아 주세요. 기본적으로 2Layer를 예시로 적어드립니다.\n",
    "nn.addLayer(Layer(3072,1000))\n",
    "nn.addActivation(sigmoid)\n",
    "nn.addLayer(Layer(1000,10))"
   ]
  },
  {
   "cell_type": "code",
   "execution_count": 124,
   "metadata": {
    "scrolled": false
   },
   "outputs": [
    {
     "name": "stdout",
     "output_type": "stream",
     "text": [
      "(3072, 1000) (1000,)\n",
      "(1000, 10) (10,)\n"
     ]
    }
   ],
   "source": [
    "# 선언한 뉴럴넷의 구조입니다.\n",
    "for layer in nn.layers:\n",
    "    print(layer.weight.shape, layer.bias.shape)"
   ]
  },
  {
   "cell_type": "code",
   "execution_count": 125,
   "metadata": {
    "scrolled": true
   },
   "outputs": [
    {
     "name": "stdout",
     "output_type": "stream",
     "text": [
      "0 test accuracy : 0.23\n",
      "0 test loss     : 2133.8419477869907\n",
      "50 test accuracy : 0.388\n",
      "50 test loss     : 1817.1278713377326\n"
     ]
    }
   ],
   "source": [
    "history = nn.fit(x_train, y_train, x_test, y_test)  # lr=0.05, epoch=60, batch_size=500 가 가장 성능이 좋게 나왔다."
   ]
  },
  {
   "cell_type": "markdown",
   "metadata": {},
   "source": [
    "## Accuracy 그래프 그리기"
   ]
  },
  {
   "cell_type": "markdown",
   "metadata": {},
   "source": [
    "학습한 결과를 그래프로 찍어보세요. 가장 높은 Best Validation Accuracy를 찍은 분께 상품을 드립니다!"
   ]
  },
  {
   "cell_type": "code",
   "execution_count": 126,
   "metadata": {},
   "outputs": [
    {
     "data": {
      "image/png": "[encoded data removed]",
      "text/plain": [
       "<Figure size 432x288 with 2 Axes>"
      ]
     },
     "metadata": {
      "needs_background": "light"
     },
     "output_type": "display_data"
    },
    {
     "name": "stdout",
     "output_type": "stream",
     "text": [
      "Best Validation Accuracy :  0.406\n"
     ]
    }
   ],
   "source": [
    "fig = plt.figure()\n",
    "ax_acc = fig.add_subplot(111)\n",
    "\n",
    "# 에포크 숫자만큼 range(epoch)를 변경해주셔야 합니다~\n",
    "ax_acc.plot(range(60), history['val_acc'], label='정확도(%)', color='darkred')\n",
    "plt.xlabel('epochs')\n",
    "plt.ylabel('Validation Accuracy(%)')\n",
    "ax_acc.grid(linestyle='--', color='lavender')\n",
    "ax_loss = ax_acc.twinx()\n",
    "ax_loss.plot(range(60), history['val_loss'], label='오차', color='darkblue')\n",
    "plt.ylabel('Validation Loss')\n",
    "ax_loss.yaxis.tick_right()\n",
    "ax_loss.grid(linestyle='--', color='lavender')\n",
    "\n",
    "# 그래프 표시\n",
    "plt.show()\n",
    "\n",
    "# 최고 validation accuracy는?\n",
    "print(\"Best Validation Accuracy : \",max(history['val_acc']))"
   ]
  }
 ],
 "metadata": {
  "kernelspec": {
   "display_name": "Python 3",
   "language": "python",
   "name": "python3"
  },
  "language_info": {
   "codemirror_mode": {
    "name": "ipython",
    "version": 3
   },
   "file_extension": ".py",
   "mimetype": "text/x-python",
   "name": "python",
   "nbconvert_exporter": "python",
   "pygments_lexer": "ipython3",
   "version": "3.7.6"
  }
 },
 "nbformat": 4,
 "nbformat_minor": 4
}
