{
  "nbformat": 4,
  "nbformat_minor": 0,
  "metadata": {
    "colab": {
      "name": "Assignment_Kaggle_Competition.ipynb",
      "provenance": [],
      "collapsed_sections": [],
      "include_colab_link": true
    },
    "kernelspec": {
      "display_name": "Python 3",
      "language": "python",
      "name": "python3"
    },
    "language_info": {
      "codemirror_mode": {
        "name": "ipython",
        "version": 3
      },
      "file_extension": ".py",
      "mimetype": "text/x-python",
      "name": "python",
      "nbconvert_exporter": "python",
      "pygments_lexer": "ipython3",
      "version": "3.7.6"
    },
    "accelerator": "GPU"
  },
  "cells": [
    {
      "cell_type": "markdown",
      "metadata": {
        "id": "view-in-github",
        "colab_type": "text"
      },
      "source": [
        "<a href=\"https://colab.research.google.com/github/Seyoung-Jung/Tobigs-HW/blob/master/week4/Ensemble/Assignment_Kaggle_Competition.ipynb\" target=\"_parent\"><img src=\"https://colab.research.google.com/assets/colab-badge.svg\" alt=\"Open In Colab\"/></a>"
      ]
    },
    {
      "cell_type": "markdown",
      "metadata": {
        "colab_type": "text",
        "id": "lC65DrWswSZP"
      },
      "source": [
        "##  1. Data Loading\n",
        "\n"
      ]
    },
    {
      "cell_type": "code",
      "metadata": {
        "colab_type": "code",
        "id": "1Zwva1vcwcDt",
        "colab": {}
      },
      "source": [
        "# ready\n",
        "import pandas as pd\n",
        "import numpy as np\n",
        "import warnings\n",
        "warnings.filterwarnings('ignore')\n",
        "pd.options.display.max_rows = 999\n",
        "pd.options.display.max_columns = 999\n",
        "\n",
        "# visualization\n",
        "from matplotlib import pyplot as plt\n",
        "plt.style.use('seaborn')\n",
        "import seaborn as sns\n",
        "%matplotlib inline"
      ],
      "execution_count": 1,
      "outputs": []
    },
    {
      "cell_type": "code",
      "metadata": {
        "colab_type": "code",
        "id": "QZ2IkyRDOwJZ",
        "colab": {}
      },
      "source": [
        "# Load Data\n",
        "train = pd.read_csv('/content/drive/My Drive/Tobigs/week4_Ensemble/ggstore_train.csv')\n",
        "test = pd.read_csv('/content/drive/My Drive/Tobigs/week4_Ensemble/ggstore_test.csv')"
      ],
      "execution_count": 3,
      "outputs": []
    },
    {
      "cell_type": "markdown",
      "metadata": {
        "colab_type": "text",
        "id": "O9sFKQtepdaJ"
      },
      "source": [
        "## 2. EDA & Data Processing\n"
      ]
    },
    {
      "cell_type": "code",
      "metadata": {
        "colab_type": "code",
        "id": "nLtCAkpqPRkR",
        "colab": {
          "base_uri": "https://localhost:8080/",
          "height": 351
        },
        "outputId": "4fdd0a8f-8356-4a11-925b-c8d0af4b70e2"
      },
      "source": [
        "train.info()"
      ],
      "execution_count": null,
      "outputs": [
        {
          "output_type": "stream",
          "text": [
            "<class 'pandas.core.frame.DataFrame'>\n",
            "RangeIndex: 5616 entries, 0 to 5615\n",
            "Data columns (total 12 columns):\n",
            " #   Column          Non-Null Count  Dtype  \n",
            "---  ------          --------------  -----  \n",
            " 0   App             5616 non-null   object \n",
            " 1   Category        5616 non-null   object \n",
            " 2   Rating          5616 non-null   float64\n",
            " 3   Reviews         5616 non-null   int64  \n",
            " 4   Size            5616 non-null   float64\n",
            " 5   Installs        5616 non-null   float64\n",
            " 6   Type            5616 non-null   int64  \n",
            " 7   Price           5616 non-null   float64\n",
            " 8   Content Rating  5616 non-null   object \n",
            " 9   Genres          5616 non-null   object \n",
            " 10  Last Updated    5616 non-null   object \n",
            " 11  Id              5616 non-null   int64  \n",
            "dtypes: float64(4), int64(3), object(5)\n",
            "memory usage: 526.6+ KB\n"
          ],
          "name": "stdout"
        }
      ]
    },
    {
      "cell_type": "code",
      "metadata": {
        "colab_type": "code",
        "id": "j12Aq9eyPWer",
        "colab": {
          "base_uri": "https://localhost:8080/",
          "height": 334
        },
        "outputId": "66a73225-8030-42b8-9120-6900c06afbc5"
      },
      "source": [
        "test.info()"
      ],
      "execution_count": null,
      "outputs": [
        {
          "output_type": "stream",
          "text": [
            "<class 'pandas.core.frame.DataFrame'>\n",
            "RangeIndex: 1404 entries, 0 to 1403\n",
            "Data columns (total 11 columns):\n",
            " #   Column          Non-Null Count  Dtype  \n",
            "---  ------          --------------  -----  \n",
            " 0   App             1404 non-null   object \n",
            " 1   Category        1404 non-null   object \n",
            " 2   Reviews         1404 non-null   int64  \n",
            " 3   Size            1404 non-null   float64\n",
            " 4   Installs        1404 non-null   float64\n",
            " 5   Type            1404 non-null   int64  \n",
            " 6   Price           1404 non-null   float64\n",
            " 7   Content Rating  1404 non-null   object \n",
            " 8   Genres          1404 non-null   object \n",
            " 9   Last Updated    1404 non-null   object \n",
            " 10  Id              1404 non-null   int64  \n",
            "dtypes: float64(3), int64(3), object(5)\n",
            "memory usage: 120.8+ KB\n"
          ],
          "name": "stdout"
        }
      ]
    },
    {
      "cell_type": "markdown",
      "metadata": {
        "colab_type": "text",
        "id": "ZH3FrJenVv3w"
      },
      "source": [
        "#### 연속형 변수"
      ]
    },
    {
      "cell_type": "code",
      "metadata": {
        "colab_type": "code",
        "id": "dNWUelNeCrtE",
        "colab": {
          "base_uri": "https://localhost:8080/",
          "height": 620
        },
        "outputId": "0676b692-ac61-487f-e835-5082ac9add72"
      },
      "source": [
        "# 연속형 변수 분포 확인\n",
        "continuous = train[['Reviews','Size','Installs','Price']]\n",
        "continuous.hist(bins=30,figsize=(10,10))\n",
        "plt.show()"
      ],
      "execution_count": 4,
      "outputs": [
        {
          "output_type": "display_data",
          "data": {
            "image/png": "[encoded data removed]",
            "text/plain": [
              "<Figure size 720x720 with 4 Axes>"
            ]
          },
          "metadata": {
            "tags": [],
            "needs_background": "light"
          }
        }
      ]
    },
    {
      "cell_type": "markdown",
      "metadata": {
        "id": "bp_BuRdKduoN",
        "colab_type": "text"
      },
      "source": [
        "Size는 값이 넓게 퍼져있고, 나머지는 매우 좁은 분포를 띄고 있다."
      ]
    },
    {
      "cell_type": "code",
      "metadata": {
        "colab_type": "code",
        "id": "ddVD7xqEEvwm",
        "colab": {
          "base_uri": "https://localhost:8080/",
          "height": 504
        },
        "outputId": "0c18925f-94e7-4aa9-adc3-aa5f37410587"
      },
      "source": [
        "# 연속형 변수 heatmap 상관관계 시각화\n",
        "plt.figure(figsize=(16,8))\n",
        "sns.heatmap(continuous.corr(), annot=True)\n",
        "plt.title('continuous variables corr heatmap', fontsize=20)\n",
        "\n",
        "plt.show()"
      ],
      "execution_count": null,
      "outputs": [
        {
          "output_type": "display_data",
          "data": {
            "image/png": "[encoded data removed]",
            "text/plain": [
              "<Figure size 1152x576 with 2 Axes>"
            ]
          },
          "metadata": {
            "tags": [],
            "needs_background": "light"
          }
        }
      ]
    },
    {
      "cell_type": "markdown",
      "metadata": {
        "id": "A67vtLXTd54D",
        "colab_type": "text"
      },
      "source": [
        "연속형 변수들 간에 0.6을 넘는 상관관계는 보이지 않으므로 문제 없다고 판단한다."
      ]
    },
    {
      "cell_type": "markdown",
      "metadata": {
        "colab_type": "text",
        "id": "Jv__R6hmVxtJ"
      },
      "source": [
        "### 연속형 변수 이상치 확인\n"
      ]
    },
    {
      "cell_type": "code",
      "metadata": {
        "colab_type": "code",
        "id": "FcgKI0SgVtFj",
        "colab": {
          "base_uri": "https://localhost:8080/",
          "height": 350
        },
        "outputId": "2e855dec-e08b-4b4c-b84f-445a3ad4453b"
      },
      "source": [
        "# Installs\n",
        "plt.figure(figsize=(10,5))\n",
        "plt.scatter(x = continuous['Installs'], y = continuous['Rating'])"
      ],
      "execution_count": null,
      "outputs": [
        {
          "output_type": "execute_result",
          "data": {
            "text/plain": [
              "<matplotlib.collections.PathCollection at 0x7fac11edc898>"
            ]
          },
          "metadata": {
            "tags": []
          },
          "execution_count": 10
        },
        {
          "output_type": "display_data",
          "data": {
            "image/png": "[encoded data removed]",
            "text/plain": [
              "<Figure size 720x360 with 1 Axes>"
            ]
          },
          "metadata": {
            "tags": [],
            "needs_background": "light"
          }
        }
      ]
    },
    {
      "cell_type": "code",
      "metadata": {
        "colab_type": "code",
        "id": "LQmhU9_IaeEX",
        "colab": {
          "base_uri": "https://localhost:8080/",
          "height": 350
        },
        "outputId": "eca14f92-36bd-4c2f-d493-2eb91006ff80"
      },
      "source": [
        "# Reviews\n",
        "plt.figure(figsize=(10,5))\n",
        "plt.scatter(x = continuous['Reviews'], y = continuous['Rating'])"
      ],
      "execution_count": null,
      "outputs": [
        {
          "output_type": "execute_result",
          "data": {
            "text/plain": [
              "<matplotlib.collections.PathCollection at 0x7fac12400b38>"
            ]
          },
          "metadata": {
            "tags": []
          },
          "execution_count": 11
        },
        {
          "output_type": "display_data",
          "data": {
            "image/png": "[encoded data removed]",
            "text/plain": [
              "<Figure size 720x360 with 1 Axes>"
            ]
          },
          "metadata": {
            "tags": [],
            "needs_background": "light"
          }
        }
      ]
    },
    {
      "cell_type": "code",
      "metadata": {
        "colab_type": "code",
        "id": "83qne8GQanME",
        "colab": {
          "base_uri": "https://localhost:8080/",
          "height": 338
        },
        "outputId": "f5edff5e-1e40-450b-868b-2013f66acef0"
      },
      "source": [
        "# Size\n",
        "plt.figure(figsize=(10,5))\n",
        "plt.scatter(x = continuous['Size'], y = continuous['Rating'])"
      ],
      "execution_count": null,
      "outputs": [
        {
          "output_type": "execute_result",
          "data": {
            "text/plain": [
              "<matplotlib.collections.PathCollection at 0x7fac1255fda0>"
            ]
          },
          "metadata": {
            "tags": []
          },
          "execution_count": 12
        },
        {
          "output_type": "display_data",
          "data": {
            "image/png": "[encoded data removed]",
            "text/plain": [
              "<Figure size 720x360 with 1 Axes>"
            ]
          },
          "metadata": {
            "tags": [],
            "needs_background": "light"
          }
        }
      ]
    },
    {
      "cell_type": "code",
      "metadata": {
        "colab_type": "code",
        "id": "EA5O7b-0a-d9",
        "colab": {
          "base_uri": "https://localhost:8080/",
          "height": 338
        },
        "outputId": "0adc7bee-7629-45df-d13a-77bf1caaeaad"
      },
      "source": [
        "# Price\n",
        "plt.figure(figsize=(10,5))\n",
        "plt.scatter(x = continuous['Price'], y = continuous['Rating'])"
      ],
      "execution_count": null,
      "outputs": [
        {
          "output_type": "execute_result",
          "data": {
            "text/plain": [
              "<matplotlib.collections.PathCollection at 0x7fac1244a668>"
            ]
          },
          "metadata": {
            "tags": []
          },
          "execution_count": 13
        },
        {
          "output_type": "display_data",
          "data": {
            "image/png": "[encoded data removed]",
            "text/plain": [
              "<Figure size 720x360 with 1 Axes>"
            ]
          },
          "metadata": {
            "tags": [],
            "needs_background": "light"
          }
        }
      ]
    },
    {
      "cell_type": "markdown",
      "metadata": {
        "colab_type": "text",
        "id": "FmeLsHYUfabp"
      },
      "source": [
        "IQR 기준이면 너무 많은 데이터를 이상치라고 판단하는 손실이 오므로, 눈으로 확인한 큰 outlier만 처리한다.\n"
      ]
    },
    {
      "cell_type": "code",
      "metadata": {
        "colab_type": "code",
        "id": "zYBPk_CAfjWg",
        "colab": {
          "base_uri": "https://localhost:8080/",
          "height": 70
        },
        "outputId": "364a7890-481c-4494-ef62-abce9f773605"
      },
      "source": [
        "out_installs = continuous[continuous['Installs'] > 200000000]\n",
        "out_price = continuous[continuous['Price'] > 250]\n",
        "out_reviews = continuous[continuous['Reviews'] > 15000000]\n",
        "print(len(out_installs))\n",
        "print(len(out_price))\n",
        "print(len(out_reviews))"
      ],
      "execution_count": null,
      "outputs": [
        {
          "output_type": "stream",
          "text": [
            "10\n",
            "15\n",
            "5\n"
          ],
          "name": "stdout"
        }
      ]
    },
    {
      "cell_type": "code",
      "metadata": {
        "colab_type": "code",
        "id": "XTavoQj8-R0C",
        "colab": {}
      },
      "source": [
        "continuous.loc[continuous[continuous.Installs>200000000].index,'Installs'] = None\n",
        "continuous.Installs = continuous.Installs.fillna(np.mean(continuous.Installs))\n",
        "\n",
        "continuous.loc[continuous[continuous.Price>250].index,'Price'] = None\n",
        "continuous.Price = continuous.Price.fillna(np.mean(continuous.Price))\n",
        "\n",
        "continuous.loc[continuous[continuous.Reviews>15000000].index,'Reviews'] = None\n",
        "continuous.Reviews = continuous.Reviews.fillna(np.mean(continuous.Reviews))"
      ],
      "execution_count": 5,
      "outputs": []
    },
    {
      "cell_type": "markdown",
      "metadata": {
        "colab_type": "text",
        "id": "3g2Bdes3gdRG"
      },
      "source": [
        "이상치는 제거하지 않고 평균값으로 대체해주어 데이터를 손실하지 않기로 한다."
      ]
    },
    {
      "cell_type": "code",
      "metadata": {
        "id": "ohcXrJAiLZph",
        "colab_type": "code",
        "colab": {}
      },
      "source": [
        "from sklearn.preprocessing import StandardScaler\n",
        "\n",
        "scal = StandardScaler()\n",
        "scal_continuous = scal.fit_transform(continuous)"
      ],
      "execution_count": 6,
      "outputs": []
    },
    {
      "cell_type": "markdown",
      "metadata": {
        "id": "WXLp87EPNeEi",
        "colab_type": "text"
      },
      "source": [
        "연속형 변수 scaling까지 마친다."
      ]
    },
    {
      "cell_type": "markdown",
      "metadata": {
        "colab_type": "text",
        "id": "HY1Rp1x7JXfl"
      },
      "source": [
        "### 범주형 변수 확인  \n",
        "Category, Content Rating, Genres 확인"
      ]
    },
    {
      "cell_type": "code",
      "metadata": {
        "colab_type": "code",
        "id": "F2gvDbeLJYCv",
        "colab": {
          "base_uri": "https://localhost:8080/",
          "height": 615
        },
        "outputId": "9589749a-bf01-419b-b64e-fb328a939ec9"
      },
      "source": [
        "category_count = train['Category'].value_counts()\n",
        "category_count"
      ],
      "execution_count": null,
      "outputs": [
        {
          "output_type": "execute_result",
          "data": {
            "text/plain": [
              "FAMILY                 1102\n",
              "GAME                    657\n",
              "TOOLS                   463\n",
              "MEDICAL                 253\n",
              "PERSONALIZATION         227\n",
              "LIFESTYLE               220\n",
              "FINANCE                 201\n",
              "PHOTOGRAPHY             175\n",
              "PRODUCTIVITY            173\n",
              "HEALTH_AND_FITNESS      172\n",
              "BUSINESS                166\n",
              "COMMUNICATION           153\n",
              "SPORTS                  143\n",
              "SHOPPING                139\n",
              "SOCIAL                  122\n",
              "DATING                  121\n",
              "NEWS_AND_MAGAZINES      114\n",
              "BOOKS_AND_REFERENCE     109\n",
              "TRAVEL_AND_LOCAL        108\n",
              "VIDEO_PLAYERS            90\n",
              "EDUCATION                88\n",
              "MAPS_AND_NAVIGATION      76\n",
              "FOOD_AND_DRINK           69\n",
              "ENTERTAINMENT            64\n",
              "ART_AND_DESIGN           57\n",
              "LIBRARIES_AND_DEMO       57\n",
              "AUTO_AND_VEHICLES        55\n",
              "HOUSE_AND_HOME           48\n",
              "COMICS                   46\n",
              "PARENTING                43\n",
              "WEATHER                  37\n",
              "BEAUTY                   34\n",
              "EVENTS                   34\n",
              "Name: Category, dtype: int64"
            ]
          },
          "metadata": {
            "tags": []
          },
          "execution_count": 94
        }
      ]
    },
    {
      "cell_type": "code",
      "metadata": {
        "colab_type": "code",
        "id": "RqD8ZWnu2Sd8",
        "colab": {
          "base_uri": "https://localhost:8080/",
          "height": 555
        },
        "outputId": "69426bb7-48db-4553-e16f-4d2dc4196e21"
      },
      "source": [
        "# Category 시각화\n",
        "fig = plt.figure(figsize=(16,8)) \n",
        "plt.pie(category_count,labels=category_count.index,autopct='%1.1f%%', shadow=True)\n",
        "plt.title('Category',size = 20)\n",
        "plt.legend()\n",
        "plt.show()"
      ],
      "execution_count": null,
      "outputs": [
        {
          "output_type": "display_data",
          "data": {
            "image/png": "[encoded data removed]",
            "text/plain": [
              "<Figure size 1152x576 with 1 Axes>"
            ]
          },
          "metadata": {
            "tags": []
          }
        }
      ]
    },
    {
      "cell_type": "code",
      "metadata": {
        "id": "0ALxJghcl2AA",
        "colab_type": "code",
        "colab": {
          "base_uri": "https://localhost:8080/",
          "height": 122
        },
        "outputId": "4f53750e-4351-4262-d5b4-ebcbb735f4ae"
      },
      "source": [
        "# extra = train['Category'].value_counts().keys()[train['Category'].value_counts()<100]\n",
        "# for i in range(len(train)):\n",
        "#     if train.Category[i] in extra:train.Category[i] = 'EXTRA'\n",
        "\n",
        "# dummy1 = pd.get_dummies(train.Category)\n",
        "# dummy1.drop(dummy1.columns[-1], axis=1, inplace=True) ## 범주를 구분해주도록 필요한 가변수의 개수는 범주개수-1이므로 하나 제거\n",
        "# dummy1"
      ],
      "execution_count": null,
      "outputs": [
        {
          "output_type": "execute_result",
          "data": {
            "text/plain": [
              "Index(['BOOKS_AND_REFERENCE', 'BUSINESS', 'COMMUNICATION', 'DATING', 'EXTRA',\n",
              "       'FAMILY', 'FINANCE', 'GAME', 'HEALTH_AND_FITNESS', 'LIFESTYLE',\n",
              "       'MEDICAL', 'NEWS_AND_MAGAZINES', 'PERSONALIZATION', 'PHOTOGRAPHY',\n",
              "       'PRODUCTIVITY', 'SHOPPING', 'SOCIAL', 'SPORTS', 'TOOLS',\n",
              "       'TRAVEL_AND_LOCAL'],\n",
              "      dtype='object')"
            ]
          },
          "metadata": {
            "tags": []
          },
          "execution_count": 97
        }
      ]
    },
    {
      "cell_type": "code",
      "metadata": {
        "colab_type": "code",
        "id": "8Vy2TKjoDTS0",
        "colab": {
          "base_uri": "https://localhost:8080/",
          "height": 422
        },
        "outputId": "0f638297-ae64-4a9f-eb68-f41ab8b47377"
      },
      "source": [
        "dummy1 = pd.get_dummies(train.Category)\n",
        "dummy1.drop(train['Category'].value_counts().keys()[train['Category'].value_counts()<100], axis=1, inplace=True)\n",
        "dummy1"
      ],
      "execution_count": 7,
      "outputs": [
        {
          "output_type": "execute_result",
          "data": {
            "text/html": [
              "<div>\n",
              "<style scoped>\n",
              "    .dataframe tbody tr th:only-of-type {\n",
              "        vertical-align: middle;\n",
              "    }\n",
              "\n",
              "    .dataframe tbody tr th {\n",
              "        vertical-align: top;\n",
              "    }\n",
              "\n",
              "    .dataframe thead th {\n",
              "        text-align: right;\n",
              "    }\n",
              "</style>\n",
              "<table border=\"1\" class=\"dataframe\">\n",
              "  <thead>\n",
              "    <tr style=\"text-align: right;\">\n",
              "      <th></th>\n",
              "      <th>BOOKS_AND_REFERENCE</th>\n",
              "      <th>BUSINESS</th>\n",
              "      <th>COMMUNICATION</th>\n",
              "      <th>DATING</th>\n",
              "      <th>FAMILY</th>\n",
              "      <th>FINANCE</th>\n",
              "      <th>GAME</th>\n",
              "      <th>HEALTH_AND_FITNESS</th>\n",
              "      <th>LIFESTYLE</th>\n",
              "      <th>MEDICAL</th>\n",
              "      <th>NEWS_AND_MAGAZINES</th>\n",
              "      <th>PERSONALIZATION</th>\n",
              "      <th>PHOTOGRAPHY</th>\n",
              "      <th>PRODUCTIVITY</th>\n",
              "      <th>SHOPPING</th>\n",
              "      <th>SOCIAL</th>\n",
              "      <th>SPORTS</th>\n",
              "      <th>TOOLS</th>\n",
              "      <th>TRAVEL_AND_LOCAL</th>\n",
              "    </tr>\n",
              "  </thead>\n",
              "  <tbody>\n",
              "    <tr>\n",
              "      <th>0</th>\n",
              "      <td>0</td>\n",
              "      <td>0</td>\n",
              "      <td>0</td>\n",
              "      <td>0</td>\n",
              "      <td>0</td>\n",
              "      <td>0</td>\n",
              "      <td>0</td>\n",
              "      <td>0</td>\n",
              "      <td>0</td>\n",
              "      <td>0</td>\n",
              "      <td>0</td>\n",
              "      <td>0</td>\n",
              "      <td>0</td>\n",
              "      <td>0</td>\n",
              "      <td>0</td>\n",
              "      <td>0</td>\n",
              "      <td>0</td>\n",
              "      <td>0</td>\n",
              "      <td>0</td>\n",
              "    </tr>\n",
              "    <tr>\n",
              "      <th>1</th>\n",
              "      <td>0</td>\n",
              "      <td>0</td>\n",
              "      <td>0</td>\n",
              "      <td>0</td>\n",
              "      <td>0</td>\n",
              "      <td>0</td>\n",
              "      <td>0</td>\n",
              "      <td>0</td>\n",
              "      <td>0</td>\n",
              "      <td>0</td>\n",
              "      <td>0</td>\n",
              "      <td>0</td>\n",
              "      <td>0</td>\n",
              "      <td>0</td>\n",
              "      <td>0</td>\n",
              "      <td>0</td>\n",
              "      <td>0</td>\n",
              "      <td>0</td>\n",
              "      <td>0</td>\n",
              "    </tr>\n",
              "    <tr>\n",
              "      <th>2</th>\n",
              "      <td>0</td>\n",
              "      <td>0</td>\n",
              "      <td>0</td>\n",
              "      <td>0</td>\n",
              "      <td>0</td>\n",
              "      <td>0</td>\n",
              "      <td>0</td>\n",
              "      <td>0</td>\n",
              "      <td>0</td>\n",
              "      <td>0</td>\n",
              "      <td>0</td>\n",
              "      <td>0</td>\n",
              "      <td>0</td>\n",
              "      <td>0</td>\n",
              "      <td>0</td>\n",
              "      <td>0</td>\n",
              "      <td>0</td>\n",
              "      <td>0</td>\n",
              "      <td>0</td>\n",
              "    </tr>\n",
              "    <tr>\n",
              "      <th>3</th>\n",
              "      <td>0</td>\n",
              "      <td>0</td>\n",
              "      <td>0</td>\n",
              "      <td>0</td>\n",
              "      <td>0</td>\n",
              "      <td>0</td>\n",
              "      <td>0</td>\n",
              "      <td>0</td>\n",
              "      <td>0</td>\n",
              "      <td>0</td>\n",
              "      <td>0</td>\n",
              "      <td>0</td>\n",
              "      <td>0</td>\n",
              "      <td>0</td>\n",
              "      <td>0</td>\n",
              "      <td>0</td>\n",
              "      <td>0</td>\n",
              "      <td>0</td>\n",
              "      <td>0</td>\n",
              "    </tr>\n",
              "    <tr>\n",
              "      <th>4</th>\n",
              "      <td>0</td>\n",
              "      <td>0</td>\n",
              "      <td>0</td>\n",
              "      <td>0</td>\n",
              "      <td>0</td>\n",
              "      <td>0</td>\n",
              "      <td>0</td>\n",
              "      <td>0</td>\n",
              "      <td>0</td>\n",
              "      <td>0</td>\n",
              "      <td>0</td>\n",
              "      <td>0</td>\n",
              "      <td>0</td>\n",
              "      <td>0</td>\n",
              "      <td>0</td>\n",
              "      <td>0</td>\n",
              "      <td>0</td>\n",
              "      <td>0</td>\n",
              "      <td>0</td>\n",
              "    </tr>\n",
              "    <tr>\n",
              "      <th>...</th>\n",
              "      <td>...</td>\n",
              "      <td>...</td>\n",
              "      <td>...</td>\n",
              "      <td>...</td>\n",
              "      <td>...</td>\n",
              "      <td>...</td>\n",
              "      <td>...</td>\n",
              "      <td>...</td>\n",
              "      <td>...</td>\n",
              "      <td>...</td>\n",
              "      <td>...</td>\n",
              "      <td>...</td>\n",
              "      <td>...</td>\n",
              "      <td>...</td>\n",
              "      <td>...</td>\n",
              "      <td>...</td>\n",
              "      <td>...</td>\n",
              "      <td>...</td>\n",
              "      <td>...</td>\n",
              "    </tr>\n",
              "    <tr>\n",
              "      <th>5611</th>\n",
              "      <td>0</td>\n",
              "      <td>0</td>\n",
              "      <td>0</td>\n",
              "      <td>0</td>\n",
              "      <td>0</td>\n",
              "      <td>0</td>\n",
              "      <td>1</td>\n",
              "      <td>0</td>\n",
              "      <td>0</td>\n",
              "      <td>0</td>\n",
              "      <td>0</td>\n",
              "      <td>0</td>\n",
              "      <td>0</td>\n",
              "      <td>0</td>\n",
              "      <td>0</td>\n",
              "      <td>0</td>\n",
              "      <td>0</td>\n",
              "      <td>0</td>\n",
              "      <td>0</td>\n",
              "    </tr>\n",
              "    <tr>\n",
              "      <th>5612</th>\n",
              "      <td>0</td>\n",
              "      <td>0</td>\n",
              "      <td>0</td>\n",
              "      <td>0</td>\n",
              "      <td>1</td>\n",
              "      <td>0</td>\n",
              "      <td>0</td>\n",
              "      <td>0</td>\n",
              "      <td>0</td>\n",
              "      <td>0</td>\n",
              "      <td>0</td>\n",
              "      <td>0</td>\n",
              "      <td>0</td>\n",
              "      <td>0</td>\n",
              "      <td>0</td>\n",
              "      <td>0</td>\n",
              "      <td>0</td>\n",
              "      <td>0</td>\n",
              "      <td>0</td>\n",
              "    </tr>\n",
              "    <tr>\n",
              "      <th>5613</th>\n",
              "      <td>0</td>\n",
              "      <td>0</td>\n",
              "      <td>0</td>\n",
              "      <td>0</td>\n",
              "      <td>0</td>\n",
              "      <td>0</td>\n",
              "      <td>1</td>\n",
              "      <td>0</td>\n",
              "      <td>0</td>\n",
              "      <td>0</td>\n",
              "      <td>0</td>\n",
              "      <td>0</td>\n",
              "      <td>0</td>\n",
              "      <td>0</td>\n",
              "      <td>0</td>\n",
              "      <td>0</td>\n",
              "      <td>0</td>\n",
              "      <td>0</td>\n",
              "      <td>0</td>\n",
              "    </tr>\n",
              "    <tr>\n",
              "      <th>5614</th>\n",
              "      <td>0</td>\n",
              "      <td>0</td>\n",
              "      <td>0</td>\n",
              "      <td>0</td>\n",
              "      <td>1</td>\n",
              "      <td>0</td>\n",
              "      <td>0</td>\n",
              "      <td>0</td>\n",
              "      <td>0</td>\n",
              "      <td>0</td>\n",
              "      <td>0</td>\n",
              "      <td>0</td>\n",
              "      <td>0</td>\n",
              "      <td>0</td>\n",
              "      <td>0</td>\n",
              "      <td>0</td>\n",
              "      <td>0</td>\n",
              "      <td>0</td>\n",
              "      <td>0</td>\n",
              "    </tr>\n",
              "    <tr>\n",
              "      <th>5615</th>\n",
              "      <td>0</td>\n",
              "      <td>0</td>\n",
              "      <td>0</td>\n",
              "      <td>0</td>\n",
              "      <td>0</td>\n",
              "      <td>0</td>\n",
              "      <td>1</td>\n",
              "      <td>0</td>\n",
              "      <td>0</td>\n",
              "      <td>0</td>\n",
              "      <td>0</td>\n",
              "      <td>0</td>\n",
              "      <td>0</td>\n",
              "      <td>0</td>\n",
              "      <td>0</td>\n",
              "      <td>0</td>\n",
              "      <td>0</td>\n",
              "      <td>0</td>\n",
              "      <td>0</td>\n",
              "    </tr>\n",
              "  </tbody>\n",
              "</table>\n",
              "<p>5616 rows × 19 columns</p>\n",
              "</div>"
            ],
            "text/plain": [
              "      BOOKS_AND_REFERENCE  BUSINESS  COMMUNICATION  DATING  FAMILY  FINANCE  \\\n",
              "0                       0         0              0       0       0        0   \n",
              "1                       0         0              0       0       0        0   \n",
              "2                       0         0              0       0       0        0   \n",
              "3                       0         0              0       0       0        0   \n",
              "4                       0         0              0       0       0        0   \n",
              "...                   ...       ...            ...     ...     ...      ...   \n",
              "5611                    0         0              0       0       0        0   \n",
              "5612                    0         0              0       0       1        0   \n",
              "5613                    0         0              0       0       0        0   \n",
              "5614                    0         0              0       0       1        0   \n",
              "5615                    0         0              0       0       0        0   \n",
              "\n",
              "      GAME  HEALTH_AND_FITNESS  LIFESTYLE  MEDICAL  NEWS_AND_MAGAZINES  \\\n",
              "0        0                   0          0        0                   0   \n",
              "1        0                   0          0        0                   0   \n",
              "2        0                   0          0        0                   0   \n",
              "3        0                   0          0        0                   0   \n",
              "4        0                   0          0        0                   0   \n",
              "...    ...                 ...        ...      ...                 ...   \n",
              "5611     1                   0          0        0                   0   \n",
              "5612     0                   0          0        0                   0   \n",
              "5613     1                   0          0        0                   0   \n",
              "5614     0                   0          0        0                   0   \n",
              "5615     1                   0          0        0                   0   \n",
              "\n",
              "      PERSONALIZATION  PHOTOGRAPHY  PRODUCTIVITY  SHOPPING  SOCIAL  SPORTS  \\\n",
              "0                   0            0             0         0       0       0   \n",
              "1                   0            0             0         0       0       0   \n",
              "2                   0            0             0         0       0       0   \n",
              "3                   0            0             0         0       0       0   \n",
              "4                   0            0             0         0       0       0   \n",
              "...               ...          ...           ...       ...     ...     ...   \n",
              "5611                0            0             0         0       0       0   \n",
              "5612                0            0             0         0       0       0   \n",
              "5613                0            0             0         0       0       0   \n",
              "5614                0            0             0         0       0       0   \n",
              "5615                0            0             0         0       0       0   \n",
              "\n",
              "      TOOLS  TRAVEL_AND_LOCAL  \n",
              "0         0                 0  \n",
              "1         0                 0  \n",
              "2         0                 0  \n",
              "3         0                 0  \n",
              "4         0                 0  \n",
              "...     ...               ...  \n",
              "5611      0                 0  \n",
              "5612      0                 0  \n",
              "5613      0                 0  \n",
              "5614      0                 0  \n",
              "5615      0                 0  \n",
              "\n",
              "[5616 rows x 19 columns]"
            ]
          },
          "metadata": {
            "tags": []
          },
          "execution_count": 7
        }
      ]
    },
    {
      "cell_type": "code",
      "metadata": {
        "id": "s2g7YuY7ES19",
        "colab_type": "code",
        "colab": {
          "base_uri": "https://localhost:8080/",
          "height": 34
        },
        "outputId": "1304aa4e-a75b-453a-feb7-cc6405ee9028"
      },
      "source": [
        "len(train['Category'].value_counts().keys()[train['Category'].value_counts()>=100])"
      ],
      "execution_count": null,
      "outputs": [
        {
          "output_type": "execute_result",
          "data": {
            "text/plain": [
              "19"
            ]
          },
          "metadata": {
            "tags": []
          },
          "execution_count": 106
        }
      ]
    },
    {
      "cell_type": "markdown",
      "metadata": {
        "id": "v5IaJCKgBSi-",
        "colab_type": "text"
      },
      "source": [
        "Category 변수는 해당 범주 데이터가 100개 미만인 경우 범주가 없는 경우로 취급하여, 전체 데이터를 더미화한 후 해당 칼럼을 삭제하였다.\n",
        "\n",
        "이와 같이 더미화한 이유는, 100개 미만인 경우를 'EXTRA'로 변환하여 전체 더미화를 한 후에 EXTRA 칼럼을 없앤 것과 동일한 결과를 보여 더 간단한 방법을 택하였다.\n",
        "\n",
        "EXTRA로 변환하면 총 범주 개수는 20개이지만, 범주를 구분해주도록 필요한 가변수의 개수는 범주개수-1이므로 EXTRA를 제거해도 무방하다.\n",
        "Category에서 데이터가 100개 이상인 범주는 19개로 맞는 결과를 보여주고 있다."
      ]
    },
    {
      "cell_type": "code",
      "metadata": {
        "colab_type": "code",
        "id": "yihiaxldJZQF",
        "colab": {
          "base_uri": "https://localhost:8080/",
          "height": 139
        },
        "outputId": "236fffa5-dd67-4876-e8b6-246827c2c684"
      },
      "source": [
        "con_rating_count = train['Content Rating'].value_counts()\n",
        "con_rating_count"
      ],
      "execution_count": null,
      "outputs": [
        {
          "output_type": "execute_result",
          "data": {
            "text/plain": [
              "Everyone           4531\n",
              "Teen                589\n",
              "Mature 17+          281\n",
              "Everyone 10+        212\n",
              "Adults only 18+       2\n",
              "Unrated               1\n",
              "Name: Content Rating, dtype: int64"
            ]
          },
          "metadata": {
            "tags": []
          },
          "execution_count": 19
        }
      ]
    },
    {
      "cell_type": "code",
      "metadata": {
        "colab_type": "code",
        "id": "yFzY7Rah3Goz",
        "colab": {
          "base_uri": "https://localhost:8080/",
          "height": 487
        },
        "outputId": "0b62005a-e2f1-4a47-ed8a-88d77c1d5080"
      },
      "source": [
        "# Content Rating 시각화\n",
        "fig = plt.figure(figsize=(16,8)) \n",
        "plt.pie(con_rating_count,labels=con_rating_count.index,autopct='%1.1f%%', shadow=True)\n",
        "plt.title('Content Rating',size = 20)\n",
        "plt.legend()\n",
        "plt.show()"
      ],
      "execution_count": null,
      "outputs": [
        {
          "output_type": "display_data",
          "data": {
            "image/png": "[encoded data removed]",
            "text/plain": [
              "<Figure size 1152x576 with 1 Axes>"
            ]
          },
          "metadata": {
            "tags": []
          }
        }
      ]
    },
    {
      "cell_type": "code",
      "metadata": {
        "colab_type": "code",
        "id": "zDCGiU_3F78q",
        "colab": {
          "base_uri": "https://localhost:8080/",
          "height": 402
        },
        "outputId": "4c0cea2c-1781-4c7e-9097-375e9381c50a"
      },
      "source": [
        "dummy2 = pd.get_dummies(train['Content Rating'])\n",
        "dummy2.drop(['Adults only 18+', 'Unrated'], axis=1, inplace=True)\n",
        "dummy2"
      ],
      "execution_count": 8,
      "outputs": [
        {
          "output_type": "execute_result",
          "data": {
            "text/html": [
              "<div>\n",
              "<style scoped>\n",
              "    .dataframe tbody tr th:only-of-type {\n",
              "        vertical-align: middle;\n",
              "    }\n",
              "\n",
              "    .dataframe tbody tr th {\n",
              "        vertical-align: top;\n",
              "    }\n",
              "\n",
              "    .dataframe thead th {\n",
              "        text-align: right;\n",
              "    }\n",
              "</style>\n",
              "<table border=\"1\" class=\"dataframe\">\n",
              "  <thead>\n",
              "    <tr style=\"text-align: right;\">\n",
              "      <th></th>\n",
              "      <th>Everyone</th>\n",
              "      <th>Everyone 10+</th>\n",
              "      <th>Mature 17+</th>\n",
              "      <th>Teen</th>\n",
              "    </tr>\n",
              "  </thead>\n",
              "  <tbody>\n",
              "    <tr>\n",
              "      <th>0</th>\n",
              "      <td>1</td>\n",
              "      <td>0</td>\n",
              "      <td>0</td>\n",
              "      <td>0</td>\n",
              "    </tr>\n",
              "    <tr>\n",
              "      <th>1</th>\n",
              "      <td>1</td>\n",
              "      <td>0</td>\n",
              "      <td>0</td>\n",
              "      <td>0</td>\n",
              "    </tr>\n",
              "    <tr>\n",
              "      <th>2</th>\n",
              "      <td>1</td>\n",
              "      <td>0</td>\n",
              "      <td>0</td>\n",
              "      <td>0</td>\n",
              "    </tr>\n",
              "    <tr>\n",
              "      <th>3</th>\n",
              "      <td>0</td>\n",
              "      <td>0</td>\n",
              "      <td>0</td>\n",
              "      <td>1</td>\n",
              "    </tr>\n",
              "    <tr>\n",
              "      <th>4</th>\n",
              "      <td>1</td>\n",
              "      <td>0</td>\n",
              "      <td>0</td>\n",
              "      <td>0</td>\n",
              "    </tr>\n",
              "    <tr>\n",
              "      <th>...</th>\n",
              "      <td>...</td>\n",
              "      <td>...</td>\n",
              "      <td>...</td>\n",
              "      <td>...</td>\n",
              "    </tr>\n",
              "    <tr>\n",
              "      <th>5611</th>\n",
              "      <td>1</td>\n",
              "      <td>0</td>\n",
              "      <td>0</td>\n",
              "      <td>0</td>\n",
              "    </tr>\n",
              "    <tr>\n",
              "      <th>5612</th>\n",
              "      <td>1</td>\n",
              "      <td>0</td>\n",
              "      <td>0</td>\n",
              "      <td>0</td>\n",
              "    </tr>\n",
              "    <tr>\n",
              "      <th>5613</th>\n",
              "      <td>0</td>\n",
              "      <td>0</td>\n",
              "      <td>1</td>\n",
              "      <td>0</td>\n",
              "    </tr>\n",
              "    <tr>\n",
              "      <th>5614</th>\n",
              "      <td>1</td>\n",
              "      <td>0</td>\n",
              "      <td>0</td>\n",
              "      <td>0</td>\n",
              "    </tr>\n",
              "    <tr>\n",
              "      <th>5615</th>\n",
              "      <td>0</td>\n",
              "      <td>0</td>\n",
              "      <td>1</td>\n",
              "      <td>0</td>\n",
              "    </tr>\n",
              "  </tbody>\n",
              "</table>\n",
              "<p>5616 rows × 4 columns</p>\n",
              "</div>"
            ],
            "text/plain": [
              "      Everyone  Everyone 10+  Mature 17+  Teen\n",
              "0            1             0           0     0\n",
              "1            1             0           0     0\n",
              "2            1             0           0     0\n",
              "3            0             0           0     1\n",
              "4            1             0           0     0\n",
              "...        ...           ...         ...   ...\n",
              "5611         1             0           0     0\n",
              "5612         1             0           0     0\n",
              "5613         0             0           1     0\n",
              "5614         1             0           0     0\n",
              "5615         0             0           1     0\n",
              "\n",
              "[5616 rows x 4 columns]"
            ]
          },
          "metadata": {
            "tags": []
          },
          "execution_count": 8
        }
      ]
    },
    {
      "cell_type": "markdown",
      "metadata": {
        "id": "7EF7li11CTL5",
        "colab_type": "text"
      },
      "source": [
        "Content Rating 변수는 극히 일부인 Adults only 18+과 Unrated만 제외하고 더미변수화하였다."
      ]
    },
    {
      "cell_type": "code",
      "metadata": {
        "colab_type": "code",
        "id": "N-asnXvKJZKa",
        "colab": {
          "base_uri": "https://localhost:8080/",
          "height": 1000
        },
        "outputId": "7dea5226-9fd2-4605-adf0-ae02b808eb31"
      },
      "source": [
        "genres_count = train['Genres'].value_counts()\n",
        "genres_count"
      ],
      "execution_count": null,
      "outputs": [
        {
          "output_type": "execute_result",
          "data": {
            "text/plain": [
              "Tools                                    463\n",
              "Entertainment                            337\n",
              "Education                                309\n",
              "Medical                                  253\n",
              "Personalization                          227\n",
              "Lifestyle                                219\n",
              "Action                                   214\n",
              "Finance                                  201\n",
              "Photography                              175\n",
              "Productivity                             173\n",
              "Health & Fitness                         172\n",
              "Business                                 166\n",
              "Communication                            153\n",
              "Sports                                   149\n",
              "Shopping                                 139\n",
              "Arcade                                   129\n",
              "Social                                   122\n",
              "Dating                                   121\n",
              "News & Magazines                         114\n",
              "Simulation                               110\n",
              "Books & Reference                        109\n",
              "Travel & Local                           107\n",
              "Video Players & Editors                   90\n",
              "Casual                                    89\n",
              "Role Playing                              79\n",
              "Maps & Navigation                         76\n",
              "Food & Drink                              69\n",
              "Strategy                                  68\n",
              "Puzzle                                    61\n",
              "Libraries & Demo                          57\n",
              "Auto & Vehicles                           55\n",
              "Adventure                                 53\n",
              "Art & Design                              51\n",
              "House & Home                              48\n",
              "Comics                                    45\n",
              "Racing                                    43\n",
              "Weather                                   37\n",
              "Events                                    34\n",
              "Parenting                                 34\n",
              "Beauty                                    34\n",
              "Board                                     30\n",
              "Education;Education                       30\n",
              "Educational;Education                     27\n",
              "Card                                      26\n",
              "Casino                                    22\n",
              "Trivia                                    22\n",
              "Casual;Pretend Play                       20\n",
              "Education;Pretend Play                    15\n",
              "Word                                      15\n",
              "Music                                     15\n",
              "Board;Brain Games                         13\n",
              "Racing;Action & Adventure                 12\n",
              "Arcade;Action & Adventure                 12\n",
              "Puzzle;Brain Games                        12\n",
              "Casual;Brain Games                        11\n",
              "Action;Action & Adventure                 10\n",
              "Educational                               10\n",
              "Casual;Action & Adventure                 10\n",
              "Entertainment;Music & Video                9\n",
              "Educational;Pretend Play                   7\n",
              "Simulation;Action & Adventure              7\n",
              "Casual;Creativity                          6\n",
              "Adventure;Action & Adventure               5\n",
              "Art & Design;Creativity                    5\n",
              "Entertainment;Brain Games                  5\n",
              "Parenting;Music & Video                    5\n",
              "Educational;Brain Games                    5\n",
              "Education;Creativity                       4\n",
              "Board;Action & Adventure                   3\n",
              "Parenting;Education                        3\n",
              "Education;Action & Adventure               3\n",
              "Casual;Education                           3\n",
              "Role Playing;Action & Adventure            3\n",
              "Educational;Creativity                     3\n",
              "Puzzle;Action & Adventure                  3\n",
              "Music;Music & Video                        2\n",
              "Simulation;Pretend Play                    2\n",
              "Strategy;Action & Adventure                2\n",
              "Educational;Action & Adventure             2\n",
              "Education;Music & Video                    2\n",
              "Card;Action & Adventure                    2\n",
              "Entertainment;Creativity                   2\n",
              "Role Playing;Pretend Play                  2\n",
              "Entertainment;Action & Adventure           2\n",
              "Parenting;Brain Games                      1\n",
              "Health & Fitness;Education                 1\n",
              "Art & Design;Pretend Play                  1\n",
              "Education;Brain Games                      1\n",
              "Simulation;Education                       1\n",
              "Video Players & Editors;Music & Video      1\n",
              "Board;Pretend Play                         1\n",
              "Entertainment;Education                    1\n",
              "Travel & Local;Action & Adventure          1\n",
              "Lifestyle;Pretend Play                     1\n",
              "Casual;Music & Video                       1\n",
              "Comics;Creativity                          1\n",
              "Books & Reference;Education                1\n",
              "Entertainment;Pretend Play                 1\n",
              "Music & Audio;Music & Video                1\n",
              "Puzzle;Creativity                          1\n",
              "Video Players & Editors;Creativity         1\n",
              "Adventure;Brain Games                      1\n",
              "Adventure;Education                        1\n",
              "Health & Fitness;Action & Adventure        1\n",
              "Arcade;Pretend Play                        1\n",
              "Sports;Action & Adventure                  1\n",
              "Name: Genres, dtype: int64"
            ]
          },
          "metadata": {
            "tags": []
          },
          "execution_count": 21
        }
      ]
    },
    {
      "cell_type": "code",
      "metadata": {
        "colab_type": "code",
        "id": "4fyzxtL53Xx7",
        "colab": {
          "base_uri": "https://localhost:8080/",
          "height": 1000
        },
        "outputId": "4c13890a-b1b7-4a77-e0f8-88b0daf5019f"
      },
      "source": [
        "# Genrs 시각화\n",
        "fig = plt.figure(figsize=(16,8)) \n",
        "plt.pie(genres_count,labels=genres_count.index,autopct='%1.1f%%', shadow=True)\n",
        "plt.title('Genrs',size = 20)\n",
        "plt.legend()\n",
        "plt.show()"
      ],
      "execution_count": null,
      "outputs": [
        {
          "output_type": "display_data",
          "data": {
            "image/png": "[encoded data removed]",
            "text/plain": [
              "<Figure size 1152x576 with 1 Axes>"
            ]
          },
          "metadata": {
            "tags": []
          }
        }
      ]
    },
    {
      "cell_type": "markdown",
      "metadata": {
        "id": "8BXORmnLHBHm",
        "colab_type": "text"
      },
      "source": [
        "Genres 변수는 범주가 너무 많아 학습에 큰 영향을 주지 못할 것이라 판단하여 더미화하지 않는다."
      ]
    },
    {
      "cell_type": "markdown",
      "metadata": {
        "id": "nygZHqNRIx1f",
        "colab_type": "text"
      },
      "source": [
        "App, Id, Last Updeated 변수들은 행별 메타 데이터같은 역할이라 학습에 필요하지 않아 가져오지 않고, 스케일링한 연속형 변수와 더미변수, Type 변수만 X_train 데이터로 만든다."
      ]
    },
    {
      "cell_type": "code",
      "metadata": {
        "id": "b2bEFneFGzSe",
        "colab_type": "code",
        "colab": {}
      },
      "source": [
        "X = pd.concat([pd.DataFrame(scal_continuous, columns=continuous.columns), train.Type, dummy1, dummy2], axis=1)\n",
        "y = train.Rating"
      ],
      "execution_count": 9,
      "outputs": []
    },
    {
      "cell_type": "code",
      "metadata": {
        "id": "XwBcRomtHq98",
        "colab_type": "code",
        "colab": {
          "base_uri": "https://localhost:8080/",
          "height": 438
        },
        "outputId": "5a1a7733-f1a1-45f6-e5a9-fd5fd0f74761"
      },
      "source": [
        "X"
      ],
      "execution_count": 10,
      "outputs": [
        {
          "output_type": "execute_result",
          "data": {
            "text/html": [
              "<div>\n",
              "<style scoped>\n",
              "    .dataframe tbody tr th:only-of-type {\n",
              "        vertical-align: middle;\n",
              "    }\n",
              "\n",
              "    .dataframe tbody tr th {\n",
              "        vertical-align: top;\n",
              "    }\n",
              "\n",
              "    .dataframe thead th {\n",
              "        text-align: right;\n",
              "    }\n",
              "</style>\n",
              "<table border=\"1\" class=\"dataframe\">\n",
              "  <thead>\n",
              "    <tr style=\"text-align: right;\">\n",
              "      <th></th>\n",
              "      <th>Reviews</th>\n",
              "      <th>Size</th>\n",
              "      <th>Installs</th>\n",
              "      <th>Price</th>\n",
              "      <th>Type</th>\n",
              "      <th>BOOKS_AND_REFERENCE</th>\n",
              "      <th>BUSINESS</th>\n",
              "      <th>COMMUNICATION</th>\n",
              "      <th>DATING</th>\n",
              "      <th>FAMILY</th>\n",
              "      <th>FINANCE</th>\n",
              "      <th>GAME</th>\n",
              "      <th>HEALTH_AND_FITNESS</th>\n",
              "      <th>LIFESTYLE</th>\n",
              "      <th>MEDICAL</th>\n",
              "      <th>NEWS_AND_MAGAZINES</th>\n",
              "      <th>PERSONALIZATION</th>\n",
              "      <th>PHOTOGRAPHY</th>\n",
              "      <th>PRODUCTIVITY</th>\n",
              "      <th>SHOPPING</th>\n",
              "      <th>SOCIAL</th>\n",
              "      <th>SPORTS</th>\n",
              "      <th>TOOLS</th>\n",
              "      <th>TRAVEL_AND_LOCAL</th>\n",
              "      <th>Everyone</th>\n",
              "      <th>Everyone 10+</th>\n",
              "      <th>Mature 17+</th>\n",
              "      <th>Teen</th>\n",
              "    </tr>\n",
              "  </thead>\n",
              "  <tbody>\n",
              "    <tr>\n",
              "      <th>0</th>\n",
              "      <td>-0.196740</td>\n",
              "      <td>-0.124487</td>\n",
              "      <td>-0.288457</td>\n",
              "      <td>-0.165832</td>\n",
              "      <td>0</td>\n",
              "      <td>0</td>\n",
              "      <td>0</td>\n",
              "      <td>0</td>\n",
              "      <td>0</td>\n",
              "      <td>0</td>\n",
              "      <td>0</td>\n",
              "      <td>0</td>\n",
              "      <td>0</td>\n",
              "      <td>0</td>\n",
              "      <td>0</td>\n",
              "      <td>0</td>\n",
              "      <td>0</td>\n",
              "      <td>0</td>\n",
              "      <td>0</td>\n",
              "      <td>0</td>\n",
              "      <td>0</td>\n",
              "      <td>0</td>\n",
              "      <td>0</td>\n",
              "      <td>0</td>\n",
              "      <td>1</td>\n",
              "      <td>0</td>\n",
              "      <td>0</td>\n",
              "      <td>0</td>\n",
              "    </tr>\n",
              "    <tr>\n",
              "      <th>1</th>\n",
              "      <td>-0.195640</td>\n",
              "      <td>-0.344337</td>\n",
              "      <td>-0.254237</td>\n",
              "      <td>-0.165832</td>\n",
              "      <td>0</td>\n",
              "      <td>0</td>\n",
              "      <td>0</td>\n",
              "      <td>0</td>\n",
              "      <td>0</td>\n",
              "      <td>0</td>\n",
              "      <td>0</td>\n",
              "      <td>0</td>\n",
              "      <td>0</td>\n",
              "      <td>0</td>\n",
              "      <td>0</td>\n",
              "      <td>0</td>\n",
              "      <td>0</td>\n",
              "      <td>0</td>\n",
              "      <td>0</td>\n",
              "      <td>0</td>\n",
              "      <td>0</td>\n",
              "      <td>0</td>\n",
              "      <td>0</td>\n",
              "      <td>0</td>\n",
              "      <td>1</td>\n",
              "      <td>0</td>\n",
              "      <td>0</td>\n",
              "      <td>0</td>\n",
              "    </tr>\n",
              "    <tr>\n",
              "      <th>2</th>\n",
              "      <td>-0.077741</td>\n",
              "      <td>-0.577377</td>\n",
              "      <td>0.060029</td>\n",
              "      <td>-0.165832</td>\n",
              "      <td>0</td>\n",
              "      <td>0</td>\n",
              "      <td>0</td>\n",
              "      <td>0</td>\n",
              "      <td>0</td>\n",
              "      <td>0</td>\n",
              "      <td>0</td>\n",
              "      <td>0</td>\n",
              "      <td>0</td>\n",
              "      <td>0</td>\n",
              "      <td>0</td>\n",
              "      <td>0</td>\n",
              "      <td>0</td>\n",
              "      <td>0</td>\n",
              "      <td>0</td>\n",
              "      <td>0</td>\n",
              "      <td>0</td>\n",
              "      <td>0</td>\n",
              "      <td>0</td>\n",
              "      <td>0</td>\n",
              "      <td>1</td>\n",
              "      <td>0</td>\n",
              "      <td>0</td>\n",
              "      <td>0</td>\n",
              "    </tr>\n",
              "    <tr>\n",
              "      <th>3</th>\n",
              "      <td>0.096816</td>\n",
              "      <td>0.139332</td>\n",
              "      <td>3.202684</td>\n",
              "      <td>-0.165832</td>\n",
              "      <td>0</td>\n",
              "      <td>0</td>\n",
              "      <td>0</td>\n",
              "      <td>0</td>\n",
              "      <td>0</td>\n",
              "      <td>0</td>\n",
              "      <td>0</td>\n",
              "      <td>0</td>\n",
              "      <td>0</td>\n",
              "      <td>0</td>\n",
              "      <td>0</td>\n",
              "      <td>0</td>\n",
              "      <td>0</td>\n",
              "      <td>0</td>\n",
              "      <td>0</td>\n",
              "      <td>0</td>\n",
              "      <td>0</td>\n",
              "      <td>0</td>\n",
              "      <td>0</td>\n",
              "      <td>0</td>\n",
              "      <td>0</td>\n",
              "      <td>0</td>\n",
              "      <td>0</td>\n",
              "      <td>1</td>\n",
              "    </tr>\n",
              "    <tr>\n",
              "      <th>4</th>\n",
              "      <td>-0.195640</td>\n",
              "      <td>-0.836799</td>\n",
              "      <td>-0.282171</td>\n",
              "      <td>-0.165832</td>\n",
              "      <td>0</td>\n",
              "      <td>0</td>\n",
              "      <td>0</td>\n",
              "      <td>0</td>\n",
              "      <td>0</td>\n",
              "      <td>0</td>\n",
              "      <td>0</td>\n",
              "      <td>0</td>\n",
              "      <td>0</td>\n",
              "      <td>0</td>\n",
              "      <td>0</td>\n",
              "      <td>0</td>\n",
              "      <td>0</td>\n",
              "      <td>0</td>\n",
              "      <td>0</td>\n",
              "      <td>0</td>\n",
              "      <td>0</td>\n",
              "      <td>0</td>\n",
              "      <td>0</td>\n",
              "      <td>0</td>\n",
              "      <td>1</td>\n",
              "      <td>0</td>\n",
              "      <td>0</td>\n",
              "      <td>0</td>\n",
              "    </tr>\n",
              "    <tr>\n",
              "      <th>...</th>\n",
              "      <td>...</td>\n",
              "      <td>...</td>\n",
              "      <td>...</td>\n",
              "      <td>...</td>\n",
              "      <td>...</td>\n",
              "      <td>...</td>\n",
              "      <td>...</td>\n",
              "      <td>...</td>\n",
              "      <td>...</td>\n",
              "      <td>...</td>\n",
              "      <td>...</td>\n",
              "      <td>...</td>\n",
              "      <td>...</td>\n",
              "      <td>...</td>\n",
              "      <td>...</td>\n",
              "      <td>...</td>\n",
              "      <td>...</td>\n",
              "      <td>...</td>\n",
              "      <td>...</td>\n",
              "      <td>...</td>\n",
              "      <td>...</td>\n",
              "      <td>...</td>\n",
              "      <td>...</td>\n",
              "      <td>...</td>\n",
              "      <td>...</td>\n",
              "      <td>...</td>\n",
              "      <td>...</td>\n",
              "      <td>...</td>\n",
              "    </tr>\n",
              "    <tr>\n",
              "      <th>5611</th>\n",
              "      <td>-0.064528</td>\n",
              "      <td>-0.665317</td>\n",
              "      <td>-0.219318</td>\n",
              "      <td>-0.165832</td>\n",
              "      <td>0</td>\n",
              "      <td>0</td>\n",
              "      <td>0</td>\n",
              "      <td>0</td>\n",
              "      <td>0</td>\n",
              "      <td>0</td>\n",
              "      <td>0</td>\n",
              "      <td>1</td>\n",
              "      <td>0</td>\n",
              "      <td>0</td>\n",
              "      <td>0</td>\n",
              "      <td>0</td>\n",
              "      <td>0</td>\n",
              "      <td>0</td>\n",
              "      <td>0</td>\n",
              "      <td>0</td>\n",
              "      <td>0</td>\n",
              "      <td>0</td>\n",
              "      <td>0</td>\n",
              "      <td>0</td>\n",
              "      <td>1</td>\n",
              "      <td>0</td>\n",
              "      <td>0</td>\n",
              "      <td>0</td>\n",
              "    </tr>\n",
              "    <tr>\n",
              "      <th>5612</th>\n",
              "      <td>-0.190802</td>\n",
              "      <td>0.842850</td>\n",
              "      <td>-0.219318</td>\n",
              "      <td>-0.165832</td>\n",
              "      <td>0</td>\n",
              "      <td>0</td>\n",
              "      <td>0</td>\n",
              "      <td>0</td>\n",
              "      <td>0</td>\n",
              "      <td>1</td>\n",
              "      <td>0</td>\n",
              "      <td>0</td>\n",
              "      <td>0</td>\n",
              "      <td>0</td>\n",
              "      <td>0</td>\n",
              "      <td>0</td>\n",
              "      <td>0</td>\n",
              "      <td>0</td>\n",
              "      <td>0</td>\n",
              "      <td>0</td>\n",
              "      <td>0</td>\n",
              "      <td>0</td>\n",
              "      <td>0</td>\n",
              "      <td>0</td>\n",
              "      <td>1</td>\n",
              "      <td>0</td>\n",
              "      <td>0</td>\n",
              "      <td>0</td>\n",
              "    </tr>\n",
              "    <tr>\n",
              "      <th>5613</th>\n",
              "      <td>-0.196758</td>\n",
              "      <td>-0.696096</td>\n",
              "      <td>-0.288457</td>\n",
              "      <td>-0.165832</td>\n",
              "      <td>0</td>\n",
              "      <td>0</td>\n",
              "      <td>0</td>\n",
              "      <td>0</td>\n",
              "      <td>0</td>\n",
              "      <td>0</td>\n",
              "      <td>0</td>\n",
              "      <td>1</td>\n",
              "      <td>0</td>\n",
              "      <td>0</td>\n",
              "      <td>0</td>\n",
              "      <td>0</td>\n",
              "      <td>0</td>\n",
              "      <td>0</td>\n",
              "      <td>0</td>\n",
              "      <td>0</td>\n",
              "      <td>0</td>\n",
              "      <td>0</td>\n",
              "      <td>0</td>\n",
              "      <td>0</td>\n",
              "      <td>0</td>\n",
              "      <td>0</td>\n",
              "      <td>1</td>\n",
              "      <td>0</td>\n",
              "    </tr>\n",
              "    <tr>\n",
              "      <th>5614</th>\n",
              "      <td>-0.192080</td>\n",
              "      <td>1.678277</td>\n",
              "      <td>-0.282171</td>\n",
              "      <td>-0.165832</td>\n",
              "      <td>0</td>\n",
              "      <td>0</td>\n",
              "      <td>0</td>\n",
              "      <td>0</td>\n",
              "      <td>0</td>\n",
              "      <td>1</td>\n",
              "      <td>0</td>\n",
              "      <td>0</td>\n",
              "      <td>0</td>\n",
              "      <td>0</td>\n",
              "      <td>0</td>\n",
              "      <td>0</td>\n",
              "      <td>0</td>\n",
              "      <td>0</td>\n",
              "      <td>0</td>\n",
              "      <td>0</td>\n",
              "      <td>0</td>\n",
              "      <td>0</td>\n",
              "      <td>0</td>\n",
              "      <td>0</td>\n",
              "      <td>1</td>\n",
              "      <td>0</td>\n",
              "      <td>0</td>\n",
              "      <td>0</td>\n",
              "    </tr>\n",
              "    <tr>\n",
              "      <th>5615</th>\n",
              "      <td>-0.196932</td>\n",
              "      <td>0.403151</td>\n",
              "      <td>-0.289148</td>\n",
              "      <td>2.097007</td>\n",
              "      <td>1</td>\n",
              "      <td>0</td>\n",
              "      <td>0</td>\n",
              "      <td>0</td>\n",
              "      <td>0</td>\n",
              "      <td>0</td>\n",
              "      <td>0</td>\n",
              "      <td>1</td>\n",
              "      <td>0</td>\n",
              "      <td>0</td>\n",
              "      <td>0</td>\n",
              "      <td>0</td>\n",
              "      <td>0</td>\n",
              "      <td>0</td>\n",
              "      <td>0</td>\n",
              "      <td>0</td>\n",
              "      <td>0</td>\n",
              "      <td>0</td>\n",
              "      <td>0</td>\n",
              "      <td>0</td>\n",
              "      <td>0</td>\n",
              "      <td>0</td>\n",
              "      <td>1</td>\n",
              "      <td>0</td>\n",
              "    </tr>\n",
              "  </tbody>\n",
              "</table>\n",
              "<p>5616 rows × 28 columns</p>\n",
              "</div>"
            ],
            "text/plain": [
              "       Reviews      Size  Installs     Price  Type  BOOKS_AND_REFERENCE  \\\n",
              "0    -0.196740 -0.124487 -0.288457 -0.165832     0                    0   \n",
              "1    -0.195640 -0.344337 -0.254237 -0.165832     0                    0   \n",
              "2    -0.077741 -0.577377  0.060029 -0.165832     0                    0   \n",
              "3     0.096816  0.139332  3.202684 -0.165832     0                    0   \n",
              "4    -0.195640 -0.836799 -0.282171 -0.165832     0                    0   \n",
              "...        ...       ...       ...       ...   ...                  ...   \n",
              "5611 -0.064528 -0.665317 -0.219318 -0.165832     0                    0   \n",
              "5612 -0.190802  0.842850 -0.219318 -0.165832     0                    0   \n",
              "5613 -0.196758 -0.696096 -0.288457 -0.165832     0                    0   \n",
              "5614 -0.192080  1.678277 -0.282171 -0.165832     0                    0   \n",
              "5615 -0.196932  0.403151 -0.289148  2.097007     1                    0   \n",
              "\n",
              "      BUSINESS  COMMUNICATION  DATING  FAMILY  FINANCE  GAME  \\\n",
              "0            0              0       0       0        0     0   \n",
              "1            0              0       0       0        0     0   \n",
              "2            0              0       0       0        0     0   \n",
              "3            0              0       0       0        0     0   \n",
              "4            0              0       0       0        0     0   \n",
              "...        ...            ...     ...     ...      ...   ...   \n",
              "5611         0              0       0       0        0     1   \n",
              "5612         0              0       0       1        0     0   \n",
              "5613         0              0       0       0        0     1   \n",
              "5614         0              0       0       1        0     0   \n",
              "5615         0              0       0       0        0     1   \n",
              "\n",
              "      HEALTH_AND_FITNESS  LIFESTYLE  MEDICAL  NEWS_AND_MAGAZINES  \\\n",
              "0                      0          0        0                   0   \n",
              "1                      0          0        0                   0   \n",
              "2                      0          0        0                   0   \n",
              "3                      0          0        0                   0   \n",
              "4                      0          0        0                   0   \n",
              "...                  ...        ...      ...                 ...   \n",
              "5611                   0          0        0                   0   \n",
              "5612                   0          0        0                   0   \n",
              "5613                   0          0        0                   0   \n",
              "5614                   0          0        0                   0   \n",
              "5615                   0          0        0                   0   \n",
              "\n",
              "      PERSONALIZATION  PHOTOGRAPHY  PRODUCTIVITY  SHOPPING  SOCIAL  SPORTS  \\\n",
              "0                   0            0             0         0       0       0   \n",
              "1                   0            0             0         0       0       0   \n",
              "2                   0            0             0         0       0       0   \n",
              "3                   0            0             0         0       0       0   \n",
              "4                   0            0             0         0       0       0   \n",
              "...               ...          ...           ...       ...     ...     ...   \n",
              "5611                0            0             0         0       0       0   \n",
              "5612                0            0             0         0       0       0   \n",
              "5613                0            0             0         0       0       0   \n",
              "5614                0            0             0         0       0       0   \n",
              "5615                0            0             0         0       0       0   \n",
              "\n",
              "      TOOLS  TRAVEL_AND_LOCAL  Everyone  Everyone 10+  Mature 17+  Teen  \n",
              "0         0                 0         1             0           0     0  \n",
              "1         0                 0         1             0           0     0  \n",
              "2         0                 0         1             0           0     0  \n",
              "3         0                 0         0             0           0     1  \n",
              "4         0                 0         1             0           0     0  \n",
              "...     ...               ...       ...           ...         ...   ...  \n",
              "5611      0                 0         1             0           0     0  \n",
              "5612      0                 0         1             0           0     0  \n",
              "5613      0                 0         0             0           1     0  \n",
              "5614      0                 0         1             0           0     0  \n",
              "5615      0                 0         0             0           1     0  \n",
              "\n",
              "[5616 rows x 28 columns]"
            ]
          },
          "metadata": {
            "tags": []
          },
          "execution_count": 10
        }
      ]
    },
    {
      "cell_type": "code",
      "metadata": {
        "id": "P7PK5K2UJCmn",
        "colab_type": "code",
        "colab": {
          "base_uri": "https://localhost:8080/",
          "height": 228
        },
        "outputId": "01affc69-bf12-4545-8959-2a25ead40b12"
      },
      "source": [
        "y"
      ],
      "execution_count": null,
      "outputs": [
        {
          "output_type": "execute_result",
          "data": {
            "text/plain": [
              "0       4.1\n",
              "1       3.9\n",
              "2       4.7\n",
              "3       4.5\n",
              "4       4.3\n",
              "       ... \n",
              "5611    4.1\n",
              "5612    4.0\n",
              "5613    4.3\n",
              "5614    4.5\n",
              "5615    4.6\n",
              "Name: Rating, Length: 5616, dtype: float64"
            ]
          },
          "metadata": {
            "tags": []
          },
          "execution_count": 12
        }
      ]
    },
    {
      "cell_type": "markdown",
      "metadata": {
        "id": "PTv5eWH8QejX",
        "colab_type": "text"
      },
      "source": [
        "test 데이터도 X_train과 동일하게 전처리해준다."
      ]
    },
    {
      "cell_type": "code",
      "metadata": {
        "id": "ATI6OrdGOLo7",
        "colab_type": "code",
        "colab": {
          "base_uri": "https://localhost:8080/",
          "height": 438
        },
        "outputId": "c9fdc17b-dca3-498c-d4ba-1c9bd4f717ac"
      },
      "source": [
        "test_id = test.Id\n",
        "\n",
        "continuous = test[['Reviews','Size','Installs','Price']]\n",
        "scal_continuous = scal.transform(continuous)\n",
        "dummy1 = pd.get_dummies(test.Category)\n",
        "dummy1.drop(['VIDEO_PLAYERS', 'MAPS_AND_NAVIGATION', 'FOOD_AND_DRINK', 'ART_AND_DESIGN', 'LIBRARIES_AND_DEMO',\n",
        "       'AUTO_AND_VEHICLES', 'HOUSE_AND_HOME', 'COMICS', 'PARENTING', 'WEATHER', 'BEAUTY', 'EVENTS'], axis=1, inplace=True)\n",
        "dummy2 = pd.get_dummies(test['Content Rating'])\n",
        "test = pd.concat([pd.DataFrame(scal_continuous, columns=continuous.columns), test.Type, dummy1, dummy2], axis=1)\n",
        "test"
      ],
      "execution_count": 11,
      "outputs": [
        {
          "output_type": "execute_result",
          "data": {
            "text/html": [
              "<div>\n",
              "<style scoped>\n",
              "    .dataframe tbody tr th:only-of-type {\n",
              "        vertical-align: middle;\n",
              "    }\n",
              "\n",
              "    .dataframe tbody tr th {\n",
              "        vertical-align: top;\n",
              "    }\n",
              "\n",
              "    .dataframe thead th {\n",
              "        text-align: right;\n",
              "    }\n",
              "</style>\n",
              "<table border=\"1\" class=\"dataframe\">\n",
              "  <thead>\n",
              "    <tr style=\"text-align: right;\">\n",
              "      <th></th>\n",
              "      <th>Reviews</th>\n",
              "      <th>Size</th>\n",
              "      <th>Installs</th>\n",
              "      <th>Price</th>\n",
              "      <th>Type</th>\n",
              "      <th>BOOKS_AND_REFERENCE</th>\n",
              "      <th>BUSINESS</th>\n",
              "      <th>COMMUNICATION</th>\n",
              "      <th>DATING</th>\n",
              "      <th>FAMILY</th>\n",
              "      <th>FINANCE</th>\n",
              "      <th>GAME</th>\n",
              "      <th>HEALTH_AND_FITNESS</th>\n",
              "      <th>LIFESTYLE</th>\n",
              "      <th>MEDICAL</th>\n",
              "      <th>NEWS_AND_MAGAZINES</th>\n",
              "      <th>PERSONALIZATION</th>\n",
              "      <th>PHOTOGRAPHY</th>\n",
              "      <th>PRODUCTIVITY</th>\n",
              "      <th>SHOPPING</th>\n",
              "      <th>SOCIAL</th>\n",
              "      <th>SPORTS</th>\n",
              "      <th>TOOLS</th>\n",
              "      <th>TRAVEL_AND_LOCAL</th>\n",
              "      <th>Everyone</th>\n",
              "      <th>Everyone 10+</th>\n",
              "      <th>Mature 17+</th>\n",
              "      <th>Teen</th>\n",
              "    </tr>\n",
              "  </thead>\n",
              "  <tbody>\n",
              "    <tr>\n",
              "      <th>0</th>\n",
              "      <td>-0.195315</td>\n",
              "      <td>-0.770844</td>\n",
              "      <td>-0.282171</td>\n",
              "      <td>-0.165832</td>\n",
              "      <td>0</td>\n",
              "      <td>0</td>\n",
              "      <td>0</td>\n",
              "      <td>0</td>\n",
              "      <td>0</td>\n",
              "      <td>0</td>\n",
              "      <td>0</td>\n",
              "      <td>0</td>\n",
              "      <td>0</td>\n",
              "      <td>0</td>\n",
              "      <td>0</td>\n",
              "      <td>0</td>\n",
              "      <td>0</td>\n",
              "      <td>0</td>\n",
              "      <td>1</td>\n",
              "      <td>0</td>\n",
              "      <td>0</td>\n",
              "      <td>0</td>\n",
              "      <td>0</td>\n",
              "      <td>0</td>\n",
              "      <td>1</td>\n",
              "      <td>0</td>\n",
              "      <td>0</td>\n",
              "      <td>0</td>\n",
              "    </tr>\n",
              "    <tr>\n",
              "      <th>1</th>\n",
              "      <td>-0.196593</td>\n",
              "      <td>-0.893960</td>\n",
              "      <td>-0.288457</td>\n",
              "      <td>-0.165832</td>\n",
              "      <td>0</td>\n",
              "      <td>0</td>\n",
              "      <td>0</td>\n",
              "      <td>0</td>\n",
              "      <td>0</td>\n",
              "      <td>1</td>\n",
              "      <td>0</td>\n",
              "      <td>0</td>\n",
              "      <td>0</td>\n",
              "      <td>0</td>\n",
              "      <td>0</td>\n",
              "      <td>0</td>\n",
              "      <td>0</td>\n",
              "      <td>0</td>\n",
              "      <td>0</td>\n",
              "      <td>0</td>\n",
              "      <td>0</td>\n",
              "      <td>0</td>\n",
              "      <td>0</td>\n",
              "      <td>0</td>\n",
              "      <td>1</td>\n",
              "      <td>0</td>\n",
              "      <td>0</td>\n",
              "      <td>0</td>\n",
              "    </tr>\n",
              "    <tr>\n",
              "      <th>2</th>\n",
              "      <td>-0.196708</td>\n",
              "      <td>2.030036</td>\n",
              "      <td>-0.288457</td>\n",
              "      <td>-0.165832</td>\n",
              "      <td>0</td>\n",
              "      <td>0</td>\n",
              "      <td>0</td>\n",
              "      <td>0</td>\n",
              "      <td>0</td>\n",
              "      <td>0</td>\n",
              "      <td>0</td>\n",
              "      <td>1</td>\n",
              "      <td>0</td>\n",
              "      <td>0</td>\n",
              "      <td>0</td>\n",
              "      <td>0</td>\n",
              "      <td>0</td>\n",
              "      <td>0</td>\n",
              "      <td>0</td>\n",
              "      <td>0</td>\n",
              "      <td>0</td>\n",
              "      <td>0</td>\n",
              "      <td>0</td>\n",
              "      <td>0</td>\n",
              "      <td>1</td>\n",
              "      <td>0</td>\n",
              "      <td>0</td>\n",
              "      <td>0</td>\n",
              "    </tr>\n",
              "    <tr>\n",
              "      <th>3</th>\n",
              "      <td>-0.196853</td>\n",
              "      <td>-0.907151</td>\n",
              "      <td>-0.289085</td>\n",
              "      <td>2.097007</td>\n",
              "      <td>1</td>\n",
              "      <td>0</td>\n",
              "      <td>0</td>\n",
              "      <td>0</td>\n",
              "      <td>0</td>\n",
              "      <td>0</td>\n",
              "      <td>0</td>\n",
              "      <td>0</td>\n",
              "      <td>1</td>\n",
              "      <td>0</td>\n",
              "      <td>0</td>\n",
              "      <td>0</td>\n",
              "      <td>0</td>\n",
              "      <td>0</td>\n",
              "      <td>0</td>\n",
              "      <td>0</td>\n",
              "      <td>0</td>\n",
              "      <td>0</td>\n",
              "      <td>0</td>\n",
              "      <td>0</td>\n",
              "      <td>1</td>\n",
              "      <td>0</td>\n",
              "      <td>0</td>\n",
              "      <td>0</td>\n",
              "    </tr>\n",
              "    <tr>\n",
              "      <th>4</th>\n",
              "      <td>-0.196372</td>\n",
              "      <td>-0.432276</td>\n",
              "      <td>-0.288457</td>\n",
              "      <td>1.643532</td>\n",
              "      <td>1</td>\n",
              "      <td>0</td>\n",
              "      <td>0</td>\n",
              "      <td>0</td>\n",
              "      <td>0</td>\n",
              "      <td>1</td>\n",
              "      <td>0</td>\n",
              "      <td>0</td>\n",
              "      <td>0</td>\n",
              "      <td>0</td>\n",
              "      <td>0</td>\n",
              "      <td>0</td>\n",
              "      <td>0</td>\n",
              "      <td>0</td>\n",
              "      <td>0</td>\n",
              "      <td>0</td>\n",
              "      <td>0</td>\n",
              "      <td>0</td>\n",
              "      <td>0</td>\n",
              "      <td>0</td>\n",
              "      <td>1</td>\n",
              "      <td>0</td>\n",
              "      <td>0</td>\n",
              "      <td>0</td>\n",
              "    </tr>\n",
              "    <tr>\n",
              "      <th>...</th>\n",
              "      <td>...</td>\n",
              "      <td>...</td>\n",
              "      <td>...</td>\n",
              "      <td>...</td>\n",
              "      <td>...</td>\n",
              "      <td>...</td>\n",
              "      <td>...</td>\n",
              "      <td>...</td>\n",
              "      <td>...</td>\n",
              "      <td>...</td>\n",
              "      <td>...</td>\n",
              "      <td>...</td>\n",
              "      <td>...</td>\n",
              "      <td>...</td>\n",
              "      <td>...</td>\n",
              "      <td>...</td>\n",
              "      <td>...</td>\n",
              "      <td>...</td>\n",
              "      <td>...</td>\n",
              "      <td>...</td>\n",
              "      <td>...</td>\n",
              "      <td>...</td>\n",
              "      <td>...</td>\n",
              "      <td>...</td>\n",
              "      <td>...</td>\n",
              "      <td>...</td>\n",
              "      <td>...</td>\n",
              "      <td>...</td>\n",
              "    </tr>\n",
              "    <tr>\n",
              "      <th>1399</th>\n",
              "      <td>-0.196897</td>\n",
              "      <td>-0.932697</td>\n",
              "      <td>-0.289085</td>\n",
              "      <td>-0.165832</td>\n",
              "      <td>0</td>\n",
              "      <td>1</td>\n",
              "      <td>0</td>\n",
              "      <td>0</td>\n",
              "      <td>0</td>\n",
              "      <td>0</td>\n",
              "      <td>0</td>\n",
              "      <td>0</td>\n",
              "      <td>0</td>\n",
              "      <td>0</td>\n",
              "      <td>0</td>\n",
              "      <td>0</td>\n",
              "      <td>0</td>\n",
              "      <td>0</td>\n",
              "      <td>0</td>\n",
              "      <td>0</td>\n",
              "      <td>0</td>\n",
              "      <td>0</td>\n",
              "      <td>0</td>\n",
              "      <td>0</td>\n",
              "      <td>1</td>\n",
              "      <td>0</td>\n",
              "      <td>0</td>\n",
              "      <td>0</td>\n",
              "    </tr>\n",
              "    <tr>\n",
              "      <th>1400</th>\n",
              "      <td>-0.196947</td>\n",
              "      <td>-0.845593</td>\n",
              "      <td>-0.289120</td>\n",
              "      <td>-0.165832</td>\n",
              "      <td>0</td>\n",
              "      <td>0</td>\n",
              "      <td>0</td>\n",
              "      <td>0</td>\n",
              "      <td>0</td>\n",
              "      <td>1</td>\n",
              "      <td>0</td>\n",
              "      <td>0</td>\n",
              "      <td>0</td>\n",
              "      <td>0</td>\n",
              "      <td>0</td>\n",
              "      <td>0</td>\n",
              "      <td>0</td>\n",
              "      <td>0</td>\n",
              "      <td>0</td>\n",
              "      <td>0</td>\n",
              "      <td>0</td>\n",
              "      <td>0</td>\n",
              "      <td>0</td>\n",
              "      <td>0</td>\n",
              "      <td>1</td>\n",
              "      <td>0</td>\n",
              "      <td>0</td>\n",
              "      <td>0</td>\n",
              "    </tr>\n",
              "    <tr>\n",
              "      <th>1401</th>\n",
              "      <td>-0.196905</td>\n",
              "      <td>1.370488</td>\n",
              "      <td>-0.288806</td>\n",
              "      <td>-0.165832</td>\n",
              "      <td>0</td>\n",
              "      <td>0</td>\n",
              "      <td>0</td>\n",
              "      <td>0</td>\n",
              "      <td>0</td>\n",
              "      <td>1</td>\n",
              "      <td>0</td>\n",
              "      <td>0</td>\n",
              "      <td>0</td>\n",
              "      <td>0</td>\n",
              "      <td>0</td>\n",
              "      <td>0</td>\n",
              "      <td>0</td>\n",
              "      <td>0</td>\n",
              "      <td>0</td>\n",
              "      <td>0</td>\n",
              "      <td>0</td>\n",
              "      <td>0</td>\n",
              "      <td>0</td>\n",
              "      <td>0</td>\n",
              "      <td>1</td>\n",
              "      <td>0</td>\n",
              "      <td>0</td>\n",
              "      <td>0</td>\n",
              "    </tr>\n",
              "    <tr>\n",
              "      <th>1402</th>\n",
              "      <td>-0.196951</td>\n",
              "      <td>-0.801623</td>\n",
              "      <td>-0.289148</td>\n",
              "      <td>-0.165832</td>\n",
              "      <td>0</td>\n",
              "      <td>0</td>\n",
              "      <td>0</td>\n",
              "      <td>0</td>\n",
              "      <td>0</td>\n",
              "      <td>1</td>\n",
              "      <td>0</td>\n",
              "      <td>0</td>\n",
              "      <td>0</td>\n",
              "      <td>0</td>\n",
              "      <td>0</td>\n",
              "      <td>0</td>\n",
              "      <td>0</td>\n",
              "      <td>0</td>\n",
              "      <td>0</td>\n",
              "      <td>0</td>\n",
              "      <td>0</td>\n",
              "      <td>0</td>\n",
              "      <td>0</td>\n",
              "      <td>0</td>\n",
              "      <td>1</td>\n",
              "      <td>0</td>\n",
              "      <td>0</td>\n",
              "      <td>0</td>\n",
              "    </tr>\n",
              "    <tr>\n",
              "      <th>1403</th>\n",
              "      <td>0.345660</td>\n",
              "      <td>-0.124487</td>\n",
              "      <td>0.409213</td>\n",
              "      <td>-0.165832</td>\n",
              "      <td>0</td>\n",
              "      <td>0</td>\n",
              "      <td>0</td>\n",
              "      <td>0</td>\n",
              "      <td>0</td>\n",
              "      <td>0</td>\n",
              "      <td>0</td>\n",
              "      <td>0</td>\n",
              "      <td>0</td>\n",
              "      <td>1</td>\n",
              "      <td>0</td>\n",
              "      <td>0</td>\n",
              "      <td>0</td>\n",
              "      <td>0</td>\n",
              "      <td>0</td>\n",
              "      <td>0</td>\n",
              "      <td>0</td>\n",
              "      <td>0</td>\n",
              "      <td>0</td>\n",
              "      <td>0</td>\n",
              "      <td>1</td>\n",
              "      <td>0</td>\n",
              "      <td>0</td>\n",
              "      <td>0</td>\n",
              "    </tr>\n",
              "  </tbody>\n",
              "</table>\n",
              "<p>1404 rows × 28 columns</p>\n",
              "</div>"
            ],
            "text/plain": [
              "       Reviews      Size  Installs     Price  Type  BOOKS_AND_REFERENCE  \\\n",
              "0    -0.195315 -0.770844 -0.282171 -0.165832     0                    0   \n",
              "1    -0.196593 -0.893960 -0.288457 -0.165832     0                    0   \n",
              "2    -0.196708  2.030036 -0.288457 -0.165832     0                    0   \n",
              "3    -0.196853 -0.907151 -0.289085  2.097007     1                    0   \n",
              "4    -0.196372 -0.432276 -0.288457  1.643532     1                    0   \n",
              "...        ...       ...       ...       ...   ...                  ...   \n",
              "1399 -0.196897 -0.932697 -0.289085 -0.165832     0                    1   \n",
              "1400 -0.196947 -0.845593 -0.289120 -0.165832     0                    0   \n",
              "1401 -0.196905  1.370488 -0.288806 -0.165832     0                    0   \n",
              "1402 -0.196951 -0.801623 -0.289148 -0.165832     0                    0   \n",
              "1403  0.345660 -0.124487  0.409213 -0.165832     0                    0   \n",
              "\n",
              "      BUSINESS  COMMUNICATION  DATING  FAMILY  FINANCE  GAME  \\\n",
              "0            0              0       0       0        0     0   \n",
              "1            0              0       0       1        0     0   \n",
              "2            0              0       0       0        0     1   \n",
              "3            0              0       0       0        0     0   \n",
              "4            0              0       0       1        0     0   \n",
              "...        ...            ...     ...     ...      ...   ...   \n",
              "1399         0              0       0       0        0     0   \n",
              "1400         0              0       0       1        0     0   \n",
              "1401         0              0       0       1        0     0   \n",
              "1402         0              0       0       1        0     0   \n",
              "1403         0              0       0       0        0     0   \n",
              "\n",
              "      HEALTH_AND_FITNESS  LIFESTYLE  MEDICAL  NEWS_AND_MAGAZINES  \\\n",
              "0                      0          0        0                   0   \n",
              "1                      0          0        0                   0   \n",
              "2                      0          0        0                   0   \n",
              "3                      1          0        0                   0   \n",
              "4                      0          0        0                   0   \n",
              "...                  ...        ...      ...                 ...   \n",
              "1399                   0          0        0                   0   \n",
              "1400                   0          0        0                   0   \n",
              "1401                   0          0        0                   0   \n",
              "1402                   0          0        0                   0   \n",
              "1403                   0          1        0                   0   \n",
              "\n",
              "      PERSONALIZATION  PHOTOGRAPHY  PRODUCTIVITY  SHOPPING  SOCIAL  SPORTS  \\\n",
              "0                   0            0             1         0       0       0   \n",
              "1                   0            0             0         0       0       0   \n",
              "2                   0            0             0         0       0       0   \n",
              "3                   0            0             0         0       0       0   \n",
              "4                   0            0             0         0       0       0   \n",
              "...               ...          ...           ...       ...     ...     ...   \n",
              "1399                0            0             0         0       0       0   \n",
              "1400                0            0             0         0       0       0   \n",
              "1401                0            0             0         0       0       0   \n",
              "1402                0            0             0         0       0       0   \n",
              "1403                0            0             0         0       0       0   \n",
              "\n",
              "      TOOLS  TRAVEL_AND_LOCAL  Everyone  Everyone 10+  Mature 17+  Teen  \n",
              "0         0                 0         1             0           0     0  \n",
              "1         0                 0         1             0           0     0  \n",
              "2         0                 0         1             0           0     0  \n",
              "3         0                 0         1             0           0     0  \n",
              "4         0                 0         1             0           0     0  \n",
              "...     ...               ...       ...           ...         ...   ...  \n",
              "1399      0                 0         1             0           0     0  \n",
              "1400      0                 0         1             0           0     0  \n",
              "1401      0                 0         1             0           0     0  \n",
              "1402      0                 0         1             0           0     0  \n",
              "1403      0                 0         1             0           0     0  \n",
              "\n",
              "[1404 rows x 28 columns]"
            ]
          },
          "metadata": {
            "tags": []
          },
          "execution_count": 11
        }
      ]
    },
    {
      "cell_type": "markdown",
      "metadata": {
        "colab_type": "text",
        "id": "MFbt54emN67y"
      },
      "source": [
        "## 3. Base Model Tuning\n"
      ]
    },
    {
      "cell_type": "code",
      "metadata": {
        "colab_type": "code",
        "id": "CyQWjevTRxCX",
        "colab": {}
      },
      "source": [
        "# sklearn \n",
        "from sklearn.linear_model import LinearRegression, Lasso\n",
        "from sklearn.tree import DecisionTreeRegressor\n",
        "from sklearn.neighbors import KNeighborsRegressor\n",
        "from sklearn.svm import SVR\n",
        "from sklearn.ensemble import RandomForestRegressor, GradientBoostingRegressor\n",
        "import xgboost\n",
        "import lightgbm\n",
        "\n",
        "from sklearn.base import BaseEstimator, TransformerMixin, RegressorMixin, clone\n",
        "from sklearn.model_selection import KFold, cross_val_score, train_test_split\n",
        "from sklearn.metrics import mean_squared_error\n",
        "from sklearn.metrics import accuracy_score"
      ],
      "execution_count": 12,
      "outputs": []
    },
    {
      "cell_type": "code",
      "metadata": {
        "colab_type": "code",
        "id": "DmIuwnfEuaih",
        "colab": {}
      },
      "source": [
        "# target 분리, data split\n",
        "X_train, X_test, y_train, y_test = train_test_split(X,y, train_size = 0.7)"
      ],
      "execution_count": 14,
      "outputs": []
    },
    {
      "cell_type": "code",
      "metadata": {
        "colab_type": "code",
        "id": "fTBQh9nBSjz8",
        "colab": {}
      },
      "source": [
        "n_folds = 5\n",
        "# train = X\n",
        "def rmse_cv(model):\n",
        "  kf = KFold(n_folds, shuffle=True, random_state=42).get_n_splits(X_train.values)\n",
        "  rmse = np.sqrt(-cross_val_score(model, X_train.values, y_train, scoring='neg_mean_squared_error', cv=kf))\n",
        "  return (rmse)"
      ],
      "execution_count": 15,
      "outputs": []
    },
    {
      "cell_type": "code",
      "metadata": {
        "colab_type": "code",
        "id": "nE2C0xbwd6cB",
        "colab": {}
      },
      "source": [
        "def rmse(y,y_pred):\n",
        "  return np.sqrt(mean_squared_error(y,y_pred))"
      ],
      "execution_count": 16,
      "outputs": []
    },
    {
      "cell_type": "code",
      "metadata": {
        "colab_type": "code",
        "id": "LWmKH9zUSj4t",
        "colab": {
          "base_uri": "https://localhost:8080/",
          "height": 70
        },
        "outputId": "54db9ae7-b701-48e3-98b8-2b3fe8deae11"
      },
      "source": [
        "lr = LinearRegression()\n",
        "score = rmse_cv(lr)\n",
        "print(\"\\nLinear Regression score: {:.4f} ({:.4f})\\n\".format(score.mean(), score.std()))"
      ],
      "execution_count": 17,
      "outputs": [
        {
          "output_type": "stream",
          "text": [
            "\n",
            "Linear Regression score: 0.5361 (0.0143)\n",
            "\n"
          ],
          "name": "stdout"
        }
      ]
    },
    {
      "cell_type": "code",
      "metadata": {
        "id": "9zv_Vua4c-JA",
        "colab_type": "code",
        "colab": {
          "base_uri": "https://localhost:8080/",
          "height": 70
        },
        "outputId": "a218a5a9-f011-4f71-adf9-b38e7bf12eba"
      },
      "source": [
        "lasso = Lasso(alpha =0.005)\n",
        "score = rmse_cv(lasso)\n",
        "print(\"\\nLasso score: {:.4f} ({:.4f})\\n\".format(score.mean(), score.std()))"
      ],
      "execution_count": 18,
      "outputs": [
        {
          "output_type": "stream",
          "text": [
            "\n",
            "Lasso score: 0.5372 (0.0155)\n",
            "\n"
          ],
          "name": "stdout"
        }
      ]
    },
    {
      "cell_type": "code",
      "metadata": {
        "colab_type": "code",
        "id": "TpiXRQ5yUd7o",
        "colab": {
          "base_uri": "https://localhost:8080/",
          "height": 70
        },
        "outputId": "83aacf37-bc18-4e2d-faf5-a4edb51a2e30"
      },
      "source": [
        "dt = DecisionTreeRegressor(max_depth=5)\n",
        "score = rmse_cv(dt)\n",
        "print(\"\\nDecisionTree Regressor score: {:.4f} ({:.4f})\\n\".format(score.mean(), score.std()))"
      ],
      "execution_count": 19,
      "outputs": [
        {
          "output_type": "stream",
          "text": [
            "\n",
            "DecisionTree Regressor score: 0.5304 (0.0127)\n",
            "\n"
          ],
          "name": "stdout"
        }
      ]
    },
    {
      "cell_type": "code",
      "metadata": {
        "colab_type": "code",
        "id": "k-lP-p6WVec-",
        "colab": {
          "base_uri": "https://localhost:8080/",
          "height": 70
        },
        "outputId": "e6d8047c-e4cf-4d7f-878e-eee559dfcb83"
      },
      "source": [
        "knn = KNeighborsRegressor(n_neighbors = 9)\n",
        "score = rmse_cv(knn)\n",
        "print(\"\\nKNeighbors Regressor score: {:.4f} ({:.4f})\\n\".format(score.mean(), score.std()))"
      ],
      "execution_count": 20,
      "outputs": [
        {
          "output_type": "stream",
          "text": [
            "\n",
            "KNeighbors Regressor score: 0.5540 (0.0153)\n",
            "\n"
          ],
          "name": "stdout"
        }
      ]
    },
    {
      "cell_type": "code",
      "metadata": {
        "colab_type": "code",
        "id": "YWcGZvFVUd_M",
        "colab": {
          "base_uri": "https://localhost:8080/",
          "height": 70
        },
        "outputId": "9eb86c78-38e3-4ac7-cfa8-31e464eacc15"
      },
      "source": [
        "svm_lin = SVR(kernel='linear')\n",
        "score = rmse_cv(svm_lin)\n",
        "print(\"\\nSVR linear score: {:.4f} ({:.4f})\\n\".format(score.mean(), score.std()))"
      ],
      "execution_count": 21,
      "outputs": [
        {
          "output_type": "stream",
          "text": [
            "\n",
            "SVR linear score: 0.5467 (0.0170)\n",
            "\n"
          ],
          "name": "stdout"
        }
      ]
    },
    {
      "cell_type": "code",
      "metadata": {
        "colab_type": "code",
        "id": "5t0ioOUwLCO-",
        "colab": {
          "base_uri": "https://localhost:8080/",
          "height": 70
        },
        "outputId": "d0e8f595-8c3a-42f5-9b49-6422556b1927"
      },
      "source": [
        "svm_rbf = SVR(kernel='rbf', gamma='scale')\n",
        "score = rmse_cv(svm_rbf)\n",
        "print(\"\\nSVR rbf score: {:.4f} ({:.4f})\\n\".format(score.mean(), score.std()))"
      ],
      "execution_count": 22,
      "outputs": [
        {
          "output_type": "stream",
          "text": [
            "\n",
            "SVR rbf score: 0.5406 (0.0184)\n",
            "\n"
          ],
          "name": "stdout"
        }
      ]
    },
    {
      "cell_type": "code",
      "metadata": {
        "colab_type": "code",
        "id": "mSvViEOZSj7j",
        "colab": {
          "base_uri": "https://localhost:8080/",
          "height": 70
        },
        "outputId": "56b65896-359f-4886-9285-46490dfad202"
      },
      "source": [
        "rf = RandomForestRegressor(n_estimators=100)\n",
        "score = rmse_cv(rf)\n",
        "print(\"\\nRandomForest Regressor score: {:.4f} ({:.4f})\\n\".format(score.mean(), score.std()))"
      ],
      "execution_count": 23,
      "outputs": [
        {
          "output_type": "stream",
          "text": [
            "\n",
            "RandomForest Regressor score: 0.5269 (0.0119)\n",
            "\n"
          ],
          "name": "stdout"
        }
      ]
    },
    {
      "cell_type": "code",
      "metadata": {
        "colab_type": "code",
        "id": "c3Cj_IlJon4o",
        "colab": {
          "base_uri": "https://localhost:8080/",
          "height": 70
        },
        "outputId": "06e89bd8-ff8b-44fe-de1b-803ea3259294"
      },
      "source": [
        "gbm = GradientBoostingRegressor(n_estimators = 100, learning_rate=0.05,\n",
        "                                              min_samples_leaf=15, min_samples_split=10)\n",
        "score = rmse_cv(gbm)\n",
        "print(\"\\nGradientBoosting Regressor score: {:.4f} ({:.4f})\\n\".format(score.mean(), score.std()))"
      ],
      "execution_count": 24,
      "outputs": [
        {
          "output_type": "stream",
          "text": [
            "\n",
            "GradientBoosting Regressor score: 0.5111 (0.0124)\n",
            "\n"
          ],
          "name": "stdout"
        }
      ]
    },
    {
      "cell_type": "code",
      "metadata": {
        "colab_type": "code",
        "id": "4LKwJRrlpn2h",
        "colab": {
          "base_uri": "https://localhost:8080/",
          "height": 158
        },
        "outputId": "388b6e2f-b4f6-40b0-ebb7-743498757019"
      },
      "source": [
        "xgb = xgboost.XGBRegressor(n_estimators=100, learning_rate=0.05)\n",
        "score = rmse_cv(xgb)\n",
        "print(\"\\nXGB Regressor score: {:.4f} ({:.4f})\\n\".format(score.mean(), score.std()))"
      ],
      "execution_count": 25,
      "outputs": [
        {
          "output_type": "stream",
          "text": [
            "[07:09:16] WARNING: /workspace/src/objective/regression_obj.cu:152: reg:linear is now deprecated in favor of reg:squarederror.\n",
            "[07:09:17] WARNING: /workspace/src/objective/regression_obj.cu:152: reg:linear is now deprecated in favor of reg:squarederror.\n",
            "[07:09:18] WARNING: /workspace/src/objective/regression_obj.cu:152: reg:linear is now deprecated in favor of reg:squarederror.\n",
            "[07:09:18] WARNING: /workspace/src/objective/regression_obj.cu:152: reg:linear is now deprecated in favor of reg:squarederror.\n",
            "[07:09:18] WARNING: /workspace/src/objective/regression_obj.cu:152: reg:linear is now deprecated in favor of reg:squarederror.\n",
            "\n",
            "XGB Regressor score: 0.5141 (0.0115)\n",
            "\n"
          ],
          "name": "stdout"
        }
      ]
    },
    {
      "cell_type": "code",
      "metadata": {
        "colab_type": "code",
        "id": "I5y2lzj9dUNb",
        "colab": {
          "base_uri": "https://localhost:8080/",
          "height": 70
        },
        "outputId": "8449b396-f993-4a29-cdc1-a2255d68fb06"
      },
      "source": [
        "lgb = lightgbm.LGBMRegressor(objective='regression', num_leaves=5, learning_rate=0.05, n_estimators=500, feature_fraction=0.3) \n",
        "score = rmse_cv(lgb)\n",
        "print(\"\\nLGBM Regressor score: {:.4f} ({:.4f})\\n\".format(score.mean(), score.std()))"
      ],
      "execution_count": 26,
      "outputs": [
        {
          "output_type": "stream",
          "text": [
            "\n",
            "LGBM Regressor score: 0.5135 (0.0114)\n",
            "\n"
          ],
          "name": "stdout"
        }
      ]
    },
    {
      "cell_type": "markdown",
      "metadata": {
        "id": "liushjPjm9Cm",
        "colab_type": "text"
      },
      "source": [
        "베이스 모델 튜닝 결과 rmse가 작게 나온 decisiontree, randomforest, gradientboostingregressor, lgbmregressor를 선택하여 stacking을 진행한다. (xgb는 stacking 단계에서 계속 오류가 떠서 제외하고 그 다음으로 rmse가 낮은 모델을 선택하였다. 큰 차이는 없다.)"
      ]
    },
    {
      "cell_type": "markdown",
      "metadata": {
        "colab_type": "text",
        "id": "pGA8MQ1rbDqG"
      },
      "source": [
        "# 4. Stacking models   \n",
        "basic & cv 기반"
      ]
    },
    {
      "cell_type": "markdown",
      "metadata": {
        "colab_type": "text",
        "id": "q2H12DIhbgFM"
      },
      "source": [
        "* Averaged base models class"
      ]
    },
    {
      "cell_type": "code",
      "metadata": {
        "colab_type": "code",
        "id": "areDHI-rbgbA",
        "colab": {}
      },
      "source": [
        "class AveragingModels(BaseEstimator, RegressorMixin, TransformerMixin):\n",
        "    def __init__(self, models):\n",
        "        self.models = models\n",
        "        \n",
        "    # we define clones of the original models to fit the data in\n",
        "    def fit(self, X_train, y_train):\n",
        "        self.models_ = [clone(x) for x in self.models]\n",
        "        \n",
        "        # Train cloned base models\n",
        "        for model in self.models_:\n",
        "            model.fit(X, y)\n",
        "\n",
        "        return self\n",
        "    \n",
        "    #Now we do the predictions for cloned models and average them\n",
        "    def predict(self, X_test):\n",
        "        predictions = np.column_stack([\n",
        "            model.predict(X_test) for model in self.models_\n",
        "        ])\n",
        "        return np.mean(predictions, axis=1)   "
      ],
      "execution_count": 27,
      "outputs": []
    },
    {
      "cell_type": "code",
      "metadata": {
        "colab_type": "code",
        "id": "3D4KlZEebgqA",
        "colab": {
          "base_uri": "https://localhost:8080/",
          "height": 52
        },
        "outputId": "8bff2f34-b437-4e10-d243-146def86f850"
      },
      "source": [
        "averaged_models = AveragingModels(models = (rf,gbm,dt,lgb))\n",
        "\n",
        "score = rmse_cv(averaged_models)\n",
        "print(\" Averaged base models score: {:.4f} ({:.4f})\\n\".format(score.mean(), score.std()))"
      ],
      "execution_count": 28,
      "outputs": [
        {
          "output_type": "stream",
          "text": [
            " Averaged base models score: 0.4153 (0.0132)\n",
            "\n"
          ],
          "name": "stdout"
        }
      ]
    },
    {
      "cell_type": "markdown",
      "metadata": {
        "id": "VueQ381nB15J",
        "colab_type": "text"
      },
      "source": [
        "단순 평균 합산한 rmse 결과는 0.4153으로 나왔다. 하지만 이는 베이스 모델들의 예측값을 한 번 더 학습해서 예측한게 아닌 단순 평균 합산이기 때문에 온전한 Stacking이라고 보기에는 한계가 있다. 오히려 Voting에 가깝지 않나하는 생각이 든다."
      ]
    },
    {
      "cell_type": "markdown",
      "metadata": {
        "colab_type": "text",
        "id": "LOD_NBS_Wv5F"
      },
      "source": [
        "* KFold 기반 Stacking"
      ]
    },
    {
      "cell_type": "code",
      "metadata": {
        "colab_type": "code",
        "id": "ab5OYUtdWwIY",
        "colab": {}
      },
      "source": [
        "def get_stacking_data(model, X_train, y_train, X_test, n_folds=10):\n",
        "  kfold = KFold(n_splits = n_folds, random_state = 1004)\n",
        "  \n",
        "  # 최종 모델에서 사용할 데이터 셋 세팅 (0 값으로)\n",
        "  # 만약 shape가 (100,10)이었으면 폴드의 검증 과정 중 저장할 데이터는 (100,1)으로 한다.\n",
        "  train_fold_predict = np.zeros((X_train.shape[0],1))\n",
        "  # test 는 X_test 값을 이용해서 매 폴드마다 예측을 하기 때문에 (100, fold갯수) 모양이다.\n",
        "  # 해당 폴드마다 X_test의 예측 값을 fold 에 넣는다! meta model 이 쓸꺼임\n",
        "  test_predict = np.zeros((X_test.shape[0], n_folds))\n",
        "  print('model : ',model.__class__.__name__)\n",
        "  \n",
        "  for cnt, (train_index, valid_index) in enumerate(kfold.split(X_train)):\n",
        "    X_train_ = X_train.iloc[train_index]\n",
        "    y_train_ = y_train.iloc[train_index]\n",
        "    X_valid = X_train.iloc[valid_index]\n",
        "\n",
        "    # 학습\n",
        "    model.fit(X_train_,y_train_)\n",
        "    # 해당 폴드에서 학습된 모델에다가 검증 데이터 (X_valid)로 예측 후 저장\n",
        "    train_fold_predict[valid_index,:] = model.predict(X_valid).reshape(-1,1)\n",
        "    # 해당 폴드에서 생성된 모델에게 원본 테스트 데이터 (X_test)를 이용해서 예측하고 저장\n",
        "    test_predict[:,cnt] = model.predict(X_test)\n",
        "  \n",
        "  # for 문이 끝나면 test_pred는 평균을 내서 하나로 합친다.\n",
        "  test_predict_mean = np.mean(test_predict, axis=1).reshape(-1,1)\n",
        "  \n",
        "  return train_fold_predict, test_predict_mean"
      ],
      "execution_count": 29,
      "outputs": []
    },
    {
      "cell_type": "code",
      "metadata": {
        "colab_type": "code",
        "id": "on-MwJWgZnde",
        "colab": {
          "base_uri": "https://localhost:8080/",
          "height": 70
        },
        "outputId": "65f9618a-5704-4de0-e8db-0aac8435ac5e"
      },
      "source": [
        "# 앙상블 수행 gbm, dt, lgb ->  rf\n",
        "gbm_train, gbm_test = get_stacking_data(gbm, X_train, y_train, X_test)\n",
        "dt_train, dt_test = get_stacking_data(dt, X_train, y_train, X_test)\n",
        "lgb_train, lgb_test = get_stacking_data(lgb, X_train, y_train, X_test)"
      ],
      "execution_count": 30,
      "outputs": [
        {
          "output_type": "stream",
          "text": [
            "model :  GradientBoostingRegressor\n",
            "model :  DecisionTreeRegressor\n",
            "model :  LGBMRegressor\n"
          ],
          "name": "stdout"
        }
      ]
    },
    {
      "cell_type": "code",
      "metadata": {
        "colab_type": "code",
        "id": "TJNKko0ZcMeU",
        "colab": {
          "base_uri": "https://localhost:8080/",
          "height": 52
        },
        "outputId": "badda15a-e2aa-4c77-ec8a-ecd1472177f3"
      },
      "source": [
        "# return 된 kfold 결과와 X_test 결과를 skacking\n",
        "new_X_train = np.concatenate((gbm_train,dt_train,lgb_train), axis=1)\n",
        "new_X_test = np.concatenate((gbm_test,dt_test,lgb_test), axis=1)\n",
        "\n",
        "print('원본 : ', X_train.shape, X_test.shape)\n",
        "print('새로운 : ', new_X_train.shape, new_X_test.shape)"
      ],
      "execution_count": 31,
      "outputs": [
        {
          "output_type": "stream",
          "text": [
            "원본 :  (3931, 28) (1685, 28)\n",
            "새로운 :  (3931, 3) (1685, 3)\n"
          ],
          "name": "stdout"
        }
      ]
    },
    {
      "cell_type": "code",
      "metadata": {
        "colab_type": "code",
        "id": "bDQTa3A_cMu-",
        "colab": {
          "base_uri": "https://localhost:8080/",
          "height": 52
        },
        "outputId": "c623e6ec-9b5b-4375-b795-bc226f17b84a"
      },
      "source": [
        "# 최종 모델 훈련\n",
        "rf.fit(new_X_train,y_train)\n",
        "stack_pred = rf.predict(new_X_test)\n",
        "\n",
        "print(\"\\n Final score: {:.4f}\".format(rmse(y_test,stack_pred)))"
      ],
      "execution_count": 32,
      "outputs": [
        {
          "output_type": "stream",
          "text": [
            "\n",
            " Final score: 0.5438\n"
          ],
          "name": "stdout"
        }
      ]
    },
    {
      "cell_type": "markdown",
      "metadata": {
        "id": "KyiZku7mCASx",
        "colab_type": "text"
      },
      "source": [
        "kfold 기반 stacking의 rmse는 0.5438로 나왔다."
      ]
    },
    {
      "cell_type": "markdown",
      "metadata": {
        "colab_type": "text",
        "id": "vEBmtZh4rTOc"
      },
      "source": [
        "* StackingAveragedModels  "
      ]
    },
    {
      "cell_type": "code",
      "metadata": {
        "colab_type": "code",
        "id": "3rAiFOKD89fw",
        "colab": {}
      },
      "source": [
        "class StackingAveragedModels(BaseEstimator, RegressorMixin, TransformerMixin):\n",
        "    def __init__(self, base_models, meta_model, n_folds=5):\n",
        "        self.base_models = base_models\n",
        "        self.meta_model = meta_model\n",
        "        self.n_folds = n_folds\n",
        "   \n",
        "    # We again fit the data on clones of the original models\n",
        "    def fit(self, X, y):\n",
        "        self.base_models_ = [list() for x in self.base_models]\n",
        "        self.meta_model_ = clone(self.meta_model)\n",
        "        kfold = KFold(n_splits=self.n_folds, shuffle=True, random_state=156)\n",
        "        \n",
        "        # Train cloned base models then create out-of-fold predictions\n",
        "        # that are needed to train the cloned meta-model\n",
        "        out_of_fold_predictions = np.zeros((X.shape[0], len(self.base_models)))\n",
        "        for i, model in enumerate(self.base_models):\n",
        "            for train_index, holdout_index in kfold.split(X, y):\n",
        "                instance = clone(model)\n",
        "                self.base_models_[i].append(instance)\n",
        "                instance.fit(X.iloc[train_index], y.iloc[train_index])\n",
        "                y_pred = instance.predict(X.iloc[holdout_index])\n",
        "                out_of_fold_predictions[holdout_index, i] = y_pred\n",
        "                \n",
        "        # Now train the cloned  meta-model using the out-of-fold predictions as new feature\n",
        "        self.meta_model_.fit(out_of_fold_predictions, y)\n",
        "        return self\n",
        "   \n",
        "    #Do the predictions of all base models on the test data and use the averaged predictions as \n",
        "    #meta-features for the final prediction which is done by the meta-model \n",
        "    def predict(self, X):\n",
        "        meta_features = np.column_stack([\n",
        "            np.column_stack([model.predict(X) for model in base_models]).mean(axis=1)\n",
        "            for base_models in self.base_models_ ])\n",
        "        return self.meta_model_.predict(meta_features)"
      ],
      "execution_count": 33,
      "outputs": []
    },
    {
      "cell_type": "code",
      "metadata": {
        "colab_type": "code",
        "id": "KCSdUTtezhUj",
        "colab": {
          "base_uri": "https://localhost:8080/",
          "height": 34
        },
        "outputId": "02c0bc08-799b-4fa0-9c41-c9541c38345d"
      },
      "source": [
        "stacked_averaged_models = StackingAveragedModels(base_models = [dt, gbm, lgb],\n",
        "                                                 meta_model = rf)\n",
        "\n",
        "stacked_averaged_models.fit(X, y)\n",
        "stacked_train_pred = stacked_averaged_models.predict(X)\n",
        "stacked_pred = stacked_averaged_models.predict(test.values)\n",
        "print(rmse(y, stacked_train_pred))"
      ],
      "execution_count": 34,
      "outputs": [
        {
          "output_type": "stream",
          "text": [
            "0.5182573478871911\n"
          ],
          "name": "stdout"
        }
      ]
    },
    {
      "cell_type": "code",
      "metadata": {
        "colab_type": "code",
        "id": "dsMMfRzjqb3Y",
        "colab": {
          "base_uri": "https://localhost:8080/",
          "height": 34
        },
        "outputId": "a49bd8de-9796-4fe9-93ee-1e87cca53a16"
      },
      "source": [
        "stacked_averaged_models = StackingAveragedModels(base_models = [rf, gbm, lgb],\n",
        "                                                 meta_model = dt)\n",
        "\n",
        "stacked_averaged_models.fit(X, y)\n",
        "stacked_train_pred = stacked_averaged_models.predict(X)\n",
        "stacked_pred = stacked_averaged_models.predict(test.values)\n",
        "print(rmse(y, stacked_train_pred))"
      ],
      "execution_count": 35,
      "outputs": [
        {
          "output_type": "stream",
          "text": [
            "0.4721957192341187\n"
          ],
          "name": "stdout"
        }
      ]
    },
    {
      "cell_type": "code",
      "metadata": {
        "colab_type": "code",
        "id": "DigsJdyCzfz7",
        "colab": {
          "base_uri": "https://localhost:8080/",
          "height": 34
        },
        "outputId": "0a8e54e3-eb29-4745-cc08-f51a01f614ae"
      },
      "source": [
        "stacked_averaged_models = StackingAveragedModels(base_models = [rf, dt, lgb],\n",
        "                                                 meta_model = gbm)\n",
        "\n",
        "stacked_averaged_models.fit(X, y)\n",
        "stacked_train_pred = stacked_averaged_models.predict(X)\n",
        "stacked_pred = stacked_averaged_models.predict(test.values)\n",
        "print(rmse(y, stacked_train_pred))"
      ],
      "execution_count": 36,
      "outputs": [
        {
          "output_type": "stream",
          "text": [
            "0.4485692111115051\n"
          ],
          "name": "stdout"
        }
      ]
    },
    {
      "cell_type": "code",
      "metadata": {
        "colab_type": "code",
        "id": "9-rRa-bWzrX4",
        "colab": {
          "base_uri": "https://localhost:8080/",
          "height": 34
        },
        "outputId": "795407f1-78e0-4a18-9e9c-d2c949c1985b"
      },
      "source": [
        "stacked_averaged_models = StackingAveragedModels(base_models = [rf, gbm, dt],\n",
        "                                                 meta_model =lgb)\n",
        "\n",
        "stacked_averaged_models.fit(X, y)\n",
        "stacked_train_pred = stacked_averaged_models.predict(X)\n",
        "stacked_pred = stacked_averaged_models.predict(test.values)\n",
        "print(rmse(y, stacked_train_pred))"
      ],
      "execution_count": 48,
      "outputs": [
        {
          "output_type": "stream",
          "text": [
            "0.44141224063962203\n"
          ],
          "name": "stdout"
        }
      ]
    },
    {
      "cell_type": "markdown",
      "metadata": {
        "id": "IktnNt3i0XbY",
        "colab_type": "text"
      },
      "source": [
        "base model을 rf, gbm, dt로 두고 meta model을 lgb로 두는 게 0.4414로 가장 낮은 rmse를 보였다."
      ]
    },
    {
      "cell_type": "markdown",
      "metadata": {
        "colab_type": "text",
        "id": "D73333fi8aef"
      },
      "source": [
        "* sklearn.ensemble.StackingRegressor  \n",
        "https://scikit-learn.org/stable/modules/generated/sklearn.ensemble.StackingRegressor.html"
      ]
    },
    {
      "cell_type": "code",
      "metadata": {
        "colab_type": "code",
        "id": "J3sFk5Y88ate",
        "colab": {}
      },
      "source": [
        "from sklearn.ensemble import StackingRegressor"
      ],
      "execution_count": 38,
      "outputs": []
    },
    {
      "cell_type": "code",
      "metadata": {
        "colab_type": "code",
        "id": "MYe6rMY78nBy",
        "colab": {
          "base_uri": "https://localhost:8080/",
          "height": 615
        },
        "outputId": "83066a1b-d401-4d15-fc1d-55e7803d77e1"
      },
      "source": [
        "# 파라미터 설정\n",
        "estimators = [\n",
        "              ('rf',rf),\n",
        "              ('gbm',gbm),\n",
        "              ('dt',dt)\n",
        "]\n",
        "              \n",
        "# Stacking\n",
        "reg = StackingRegressor(\n",
        "    estimators = estimators,\n",
        "    final_estimator = lgb,\n",
        "    cv = 10,\n",
        "    n_jobs=3,\n",
        "    verbose=3\n",
        "    )\n",
        "\n",
        "# fit\n",
        "reg.fit(X_train, y_train)"
      ],
      "execution_count": 39,
      "outputs": [
        {
          "output_type": "execute_result",
          "data": {
            "text/plain": [
              "StackingRegressor(cv=10,\n",
              "                  estimators=[('rf',\n",
              "                               RandomForestRegressor(bootstrap=True,\n",
              "                                                     ccp_alpha=0.0,\n",
              "                                                     criterion='mse',\n",
              "                                                     max_depth=None,\n",
              "                                                     max_features='auto',\n",
              "                                                     max_leaf_nodes=None,\n",
              "                                                     max_samples=None,\n",
              "                                                     min_impurity_decrease=0.0,\n",
              "                                                     min_impurity_split=None,\n",
              "                                                     min_samples_leaf=1,\n",
              "                                                     min_samples_split=2,\n",
              "                                                     min_weight_fraction_leaf=0.0,\n",
              "                                                     n_estimators=100,\n",
              "                                                     n_jobs=None,\n",
              "                                                     oob_score=False,\n",
              "                                                     random...\n",
              "                                                feature_fraction=0.3,\n",
              "                                                importance_type='split',\n",
              "                                                learning_rate=0.05,\n",
              "                                                max_depth=-1,\n",
              "                                                min_child_samples=20,\n",
              "                                                min_child_weight=0.001,\n",
              "                                                min_split_gain=0.0,\n",
              "                                                n_estimators=500, n_jobs=-1,\n",
              "                                                num_leaves=5,\n",
              "                                                objective='regression',\n",
              "                                                random_state=None,\n",
              "                                                reg_alpha=0.0, reg_lambda=0.0,\n",
              "                                                silent=True, subsample=1.0,\n",
              "                                                subsample_for_bin=200000,\n",
              "                                                subsample_freq=0),\n",
              "                  n_jobs=3, passthrough=False, verbose=3)"
            ]
          },
          "metadata": {
            "tags": []
          },
          "execution_count": 39
        }
      ]
    },
    {
      "cell_type": "code",
      "metadata": {
        "colab_type": "code",
        "id": "8lp4HUeo_tV2",
        "colab": {
          "base_uri": "https://localhost:8080/",
          "height": 34
        },
        "outputId": "603f86e7-c7d4-476f-9c87-87809e0d4fcd"
      },
      "source": [
        "# rmse\n",
        "rmse(y_test,reg.predict(X_test))"
      ],
      "execution_count": 40,
      "outputs": [
        {
          "output_type": "execute_result",
          "data": {
            "text/plain": [
              "0.522467965153284"
            ]
          },
          "metadata": {
            "tags": []
          },
          "execution_count": 40
        }
      ]
    },
    {
      "cell_type": "markdown",
      "metadata": {
        "id": "Icavxj1ECS21",
        "colab_type": "text"
      },
      "source": [
        "StackingRegressor를 통한 stacking의 rmse는 0.5225로 나왔다. 똑같은 베이스 모델을 사용한 결과이니 StackingRegressor보단 앞의 meta model 구현 클래스(StackingAveragedModels)로 Stacking 하는 것이 더 좋은 성능을 보이고 있다고 판단한다."
      ]
    },
    {
      "cell_type": "markdown",
      "metadata": {
        "colab_type": "text",
        "id": "N5lxtPLWSZqx"
      },
      "source": [
        "* Stacking with gridsearch"
      ]
    },
    {
      "cell_type": "code",
      "metadata": {
        "colab_type": "code",
        "id": "6qEHjZuTSZ19",
        "colab": {}
      },
      "source": [
        "# from sklearn.model_selection import GridSearchCV\n",
        "\n",
        "# reg1 = DecisionTreeRegressor()\n",
        "# reg2 = RandomForestRegressor(n_estimators=1000)\n",
        "# reg3 = GradientBoostingRegressor(n_estimators = 1000)\n",
        "\n",
        "# estimators = [\n",
        "#               ('reg1',reg1),\n",
        "#               ('reg2',reg2),\n",
        "#               ('reg3',reg3)\n",
        "# ]\n",
        "\n",
        "# sreg = StackingRegressor(estimators=estimators, \n",
        "#                             final_estimator=lgb, cv = 10,  n_jobs=3, verbose=3)\n",
        "\n",
        "# params = {'DecisionTreeRegressor__max_depth': [5, 10],\n",
        "#           'GradientBoostingRegressor__learning_rate':[0.05, 0.005],\n",
        "#           'GradientBoostingRegressor__min_samples_leaf':[10,50,100],\n",
        "#           'GradientBoostingRegressor__min_samples_split':[10,50,100]\n",
        "#           }\n",
        "\n",
        "# grid = GridSearchCV(estimator=sreg, \n",
        "#                     param_grid=params, \n",
        "#                     cv=5,\n",
        "#                     refit=True)\n",
        "# grid.fit(X, y)\n",
        "\n",
        "# print('Best parameters:', grid.best_params_)"
      ],
      "execution_count": 42,
      "outputs": []
    },
    {
      "cell_type": "code",
      "metadata": {
        "id": "b9LLxA-NY46k",
        "colab_type": "code",
        "colab": {
          "base_uri": "https://localhost:8080/",
          "height": 34
        },
        "outputId": "0e825881-b207-4361-8139-4856f62d5154"
      },
      "source": [
        "reg1 = DecisionTreeRegressor()\n",
        "param = {'max_depth':[5,10]}\n",
        "reg1 = GridSearchCV(reg1, param, cv=5)\n",
        "reg1.fit(X, y)\n",
        "\n",
        "print(\"best parameters : \", reg1.best_params_)"
      ],
      "execution_count": 43,
      "outputs": [
        {
          "output_type": "stream",
          "text": [
            "best parameters :  {'max_depth': 5}\n"
          ],
          "name": "stdout"
        }
      ]
    },
    {
      "cell_type": "code",
      "metadata": {
        "id": "9AzeP40tY-s_",
        "colab_type": "code",
        "colab": {
          "base_uri": "https://localhost:8080/",
          "height": 34
        },
        "outputId": "fdf53da2-6b7c-4b47-90f1-625e1e489212"
      },
      "source": [
        "reg2 = RandomForestRegressor()\n",
        "param = {'n_estimators':[100,1000]}\n",
        "reg2 = GridSearchCV(reg2, param, cv=5)\n",
        "reg2.fit(X, y)\n",
        "\n",
        "print(\"best parameters : \", reg2.best_params_)"
      ],
      "execution_count": null,
      "outputs": [
        {
          "output_type": "stream",
          "text": [
            "best parameters :  {'n_estimators': 1000}\n"
          ],
          "name": "stdout"
        }
      ]
    },
    {
      "cell_type": "code",
      "metadata": {
        "id": "2_yREYEDaHEI",
        "colab_type": "code",
        "colab": {
          "base_uri": "https://localhost:8080/",
          "height": 34
        },
        "outputId": "68e40342-9221-4295-d7ee-076d87f4a718"
      },
      "source": [
        "reg3 = GradientBoostingRegressor(n_estimators = 1000)\n",
        "param = {'learning_rate':[0.05,0.005], 'min_samples_leaf':[15,30], 'min_samples_split':[10,20]}\n",
        "reg3 = GridSearchCV(reg3, param, cv=5)\n",
        "reg3.fit(X, y)\n",
        "\n",
        "print(\"best parameters : \", reg3.best_params_)"
      ],
      "execution_count": null,
      "outputs": [
        {
          "output_type": "stream",
          "text": [
            "best parameters :  {'learning_rate': 0.005, 'min_samples_leaf': 30, 'min_samples_split': 20}\n"
          ],
          "name": "stdout"
        }
      ]
    },
    {
      "cell_type": "code",
      "metadata": {
        "id": "CgKPujDActzW",
        "colab_type": "code",
        "colab": {}
      },
      "source": [
        "reg1 = DecisionTreeRegressor(max_depth=5)\n",
        "reg2 = RandomForestRegressor(n_estimators=1000)\n",
        "reg3 = GradientBoostingRegressor(n_estimators=1000, learning_rate=0.005, min_samples_leaf=30, min_samples_split=20)"
      ],
      "execution_count": 44,
      "outputs": []
    },
    {
      "cell_type": "code",
      "metadata": {
        "id": "OTTGfWCZaGvG",
        "colab_type": "code",
        "colab": {
          "base_uri": "https://localhost:8080/",
          "height": 34
        },
        "outputId": "c81b9d7d-66eb-4a66-cbbd-6fe188fd76f7"
      },
      "source": [
        "estimators = [\n",
        "              ('reg1',reg1),\n",
        "              ('reg2',reg2),\n",
        "              ('reg3',reg3)\n",
        "]\n",
        "\n",
        "sreg = StackingRegressor(estimators=estimators, final_estimator=lgb, cv = 10,  n_jobs=3, verbose=3)\n",
        "\n",
        "sreg.fit(X_train, y_train)\n",
        "\n",
        "rmse(y_test,sreg.predict(X_test))"
      ],
      "execution_count": 45,
      "outputs": [
        {
          "output_type": "execute_result",
          "data": {
            "text/plain": [
              "0.5283419347036113"
            ]
          },
          "metadata": {
            "tags": []
          },
          "execution_count": 45
        }
      ]
    },
    {
      "cell_type": "markdown",
      "metadata": {
        "id": "yyQyphKXf-o0",
        "colab_type": "text"
      },
      "source": [
        "gridSearch에 의한 best parameter로 돌려봐도 rmse가 크게 낮아지지 않으므로, 앞의 meta model 클래스(StackingAverageModels)로 Stacking 한 예측값을 최종 제출로 결정한다."
      ]
    },
    {
      "cell_type": "code",
      "metadata": {
        "colab_type": "code",
        "id": "x2-DsC-4eKlp",
        "colab": {
          "base_uri": "https://localhost:8080/",
          "height": 34
        },
        "outputId": "795407f1-78e0-4a18-9e9c-d2c949c1985b"
      },
      "source": [
        "# stacked_averaged_models = StackingAveragedModels(base_models = [rf, gbm, dt],\n",
        "#                                                  meta_model =lgb)\n",
        "\n",
        "# stacked_averaged_models.fit(X, y)\n",
        "# stacked_train_pred = stacked_averaged_models.predict(X)\n",
        "# stacked_pred = stacked_averaged_models.predict(test.values)\n",
        "# print(rmse(y, stacked_train_pred))"
      ],
      "execution_count": null,
      "outputs": [
        {
          "output_type": "stream",
          "text": [
            "0.44141224063962203\n"
          ],
          "name": "stdout"
        }
      ]
    },
    {
      "cell_type": "markdown",
      "metadata": {
        "colab_type": "text",
        "id": "m6BumBpd807W"
      },
      "source": [
        "# 5. Final Training and Prediction  \n"
      ]
    },
    {
      "cell_type": "markdown",
      "metadata": {
        "colab_type": "text",
        "id": "YZ0WATEsfwOc"
      },
      "source": [
        "* Ensemble prediction"
      ]
    },
    {
      "cell_type": "code",
      "metadata": {
        "colab_type": "code",
        "id": "3PBVY2z6xA4h",
        "colab": {}
      },
      "source": [
        "ensemble = stacked_pred"
      ],
      "execution_count": 49,
      "outputs": []
    },
    {
      "cell_type": "markdown",
      "metadata": {
        "colab_type": "text",
        "id": "qYorws6y89V6"
      },
      "source": [
        "* Submission"
      ]
    },
    {
      "cell_type": "code",
      "metadata": {
        "colab_type": "code",
        "id": "TcdolW8grs3r",
        "colab": {}
      },
      "source": [
        "sub = pd.DataFrame()\n",
        "sub['Id'] = test_id\n",
        "sub['Rating'] = ensemble\n",
        "sub.to_csv('submission.csv',index=False)"
      ],
      "execution_count": 50,
      "outputs": []
    },
    {
      "cell_type": "code",
      "metadata": {
        "colab_type": "code",
        "id": "UjzYE1oRqzID",
        "colab": {
          "base_uri": "https://localhost:8080/",
          "height": 195
        },
        "outputId": "762fcd1d-927f-4173-c72e-3a3d722fea81"
      },
      "source": [
        "sub.head()"
      ],
      "execution_count": null,
      "outputs": [
        {
          "output_type": "execute_result",
          "data": {
            "text/html": [
              "<div>\n",
              "<style scoped>\n",
              "    .dataframe tbody tr th:only-of-type {\n",
              "        vertical-align: middle;\n",
              "    }\n",
              "\n",
              "    .dataframe tbody tr th {\n",
              "        vertical-align: top;\n",
              "    }\n",
              "\n",
              "    .dataframe thead th {\n",
              "        text-align: right;\n",
              "    }\n",
              "</style>\n",
              "<table border=\"1\" class=\"dataframe\">\n",
              "  <thead>\n",
              "    <tr style=\"text-align: right;\">\n",
              "      <th></th>\n",
              "      <th>Id</th>\n",
              "      <th>Rating</th>\n",
              "    </tr>\n",
              "  </thead>\n",
              "  <tbody>\n",
              "    <tr>\n",
              "      <th>0</th>\n",
              "      <td>5617</td>\n",
              "      <td>4.017166</td>\n",
              "    </tr>\n",
              "    <tr>\n",
              "      <th>1</th>\n",
              "      <td>5618</td>\n",
              "      <td>4.195670</td>\n",
              "    </tr>\n",
              "    <tr>\n",
              "      <th>2</th>\n",
              "      <td>5619</td>\n",
              "      <td>3.900068</td>\n",
              "    </tr>\n",
              "    <tr>\n",
              "      <th>3</th>\n",
              "      <td>5620</td>\n",
              "      <td>3.837866</td>\n",
              "    </tr>\n",
              "    <tr>\n",
              "      <th>4</th>\n",
              "      <td>5621</td>\n",
              "      <td>4.208459</td>\n",
              "    </tr>\n",
              "  </tbody>\n",
              "</table>\n",
              "</div>"
            ],
            "text/plain": [
              "     Id    Rating\n",
              "0  5617  4.017166\n",
              "1  5618  4.195670\n",
              "2  5619  3.900068\n",
              "3  5620  3.837866\n",
              "4  5621  4.208459"
            ]
          },
          "metadata": {
            "tags": []
          },
          "execution_count": 179
        }
      ]
    }
  ]
}