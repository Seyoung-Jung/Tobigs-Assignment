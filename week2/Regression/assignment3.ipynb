{
 "cells": [
  {
   "cell_type": "markdown",
   "metadata": {},
   "source": [
    "# Assignment3"
   ]
  },
  {
   "cell_type": "markdown",
   "metadata": {},
   "source": [
    "1. sklearn 패키지를 사용해 로지스틱 회귀모형으로 데이터를 분석해 주세요 \n",
    "2. 성능지표를 계산하고 이에 대해 해석해 주세요 \n",
    "   - sklearn : mean accuracy, f1 score 등 다양한 성능지표 계산 \n",
    "   - confusion matrix : tp, fp, fn, tn 값을 통해 성능지표 계산  \n",
    "3. 로지스틱 회귀분석은 cutoff 설정 값에 따라 classification의 성능이 달라집니다.      \n",
    "   해당 데이터셋에 걸맞는 cutoff value를 찾아보고, 이를 기반으로 예측을 진행해 성능을 평가해 주세요.\n",
    "4. **해석을 상세하게 달아주세요 !**"
   ]
  },
  {
   "cell_type": "markdown",
   "metadata": {},
   "source": [
    "## Data "
   ]
  },
  {
   "cell_type": "markdown",
   "metadata": {},
   "source": [
    "출처 : https://www.kaggle.com/mlg-ulb/creditcardfraud\n",
    "\n",
    "\n",
    "* V1 ~ V28 : 비식별화 된 개인정보 \n",
    "* **Class** : Target 변수  \n",
    "  - 1 : fraudulent transactions (사기)\n",
    "  - 0 : otherwise "
   ]
  },
  {
   "cell_type": "code",
   "execution_count": 1,
   "metadata": {},
   "outputs": [],
   "source": [
    "import pandas as pd\n",
    "import numpy as np"
   ]
  },
  {
   "cell_type": "code",
   "execution_count": 2,
   "metadata": {},
   "outputs": [],
   "source": [
    "credit = pd.read_csv(\"assignment3_creditcard.csv\")"
   ]
  },
  {
   "cell_type": "code",
   "execution_count": 3,
   "metadata": {},
   "outputs": [
    {
     "data": {
      "text/html": [
       "<div>\n",
       "<style scoped>\n",
       "    .dataframe tbody tr th:only-of-type {\n",
       "        vertical-align: middle;\n",
       "    }\n",
       "\n",
       "    .dataframe tbody tr th {\n",
       "        vertical-align: top;\n",
       "    }\n",
       "\n",
       "    .dataframe thead th {\n",
       "        text-align: right;\n",
       "    }\n",
       "</style>\n",
       "<table border=\"1\" class=\"dataframe\">\n",
       "  <thead>\n",
       "    <tr style=\"text-align: right;\">\n",
       "      <th></th>\n",
       "      <th>V1</th>\n",
       "      <th>V2</th>\n",
       "      <th>V3</th>\n",
       "      <th>V4</th>\n",
       "      <th>V5</th>\n",
       "      <th>V6</th>\n",
       "      <th>V7</th>\n",
       "      <th>V8</th>\n",
       "      <th>V9</th>\n",
       "      <th>V10</th>\n",
       "      <th>...</th>\n",
       "      <th>V20</th>\n",
       "      <th>V21</th>\n",
       "      <th>V22</th>\n",
       "      <th>V23</th>\n",
       "      <th>V24</th>\n",
       "      <th>V25</th>\n",
       "      <th>V26</th>\n",
       "      <th>V27</th>\n",
       "      <th>V28</th>\n",
       "      <th>Class</th>\n",
       "    </tr>\n",
       "  </thead>\n",
       "  <tbody>\n",
       "    <tr>\n",
       "      <th>0</th>\n",
       "      <td>-1.848212</td>\n",
       "      <td>2.384900</td>\n",
       "      <td>0.379573</td>\n",
       "      <td>1.048381</td>\n",
       "      <td>-0.845070</td>\n",
       "      <td>2.537837</td>\n",
       "      <td>-4.542983</td>\n",
       "      <td>-10.201458</td>\n",
       "      <td>-1.504967</td>\n",
       "      <td>-2.234167</td>\n",
       "      <td>...</td>\n",
       "      <td>2.585817</td>\n",
       "      <td>-5.291690</td>\n",
       "      <td>0.859364</td>\n",
       "      <td>0.423231</td>\n",
       "      <td>-0.506985</td>\n",
       "      <td>1.020052</td>\n",
       "      <td>-0.627751</td>\n",
       "      <td>-0.017753</td>\n",
       "      <td>0.280982</td>\n",
       "      <td>0</td>\n",
       "    </tr>\n",
       "    <tr>\n",
       "      <th>1</th>\n",
       "      <td>2.071805</td>\n",
       "      <td>-0.477943</td>\n",
       "      <td>-1.444444</td>\n",
       "      <td>-0.548657</td>\n",
       "      <td>0.010036</td>\n",
       "      <td>-0.582242</td>\n",
       "      <td>-0.042878</td>\n",
       "      <td>-0.247160</td>\n",
       "      <td>1.171923</td>\n",
       "      <td>-0.342382</td>\n",
       "      <td>...</td>\n",
       "      <td>-0.077306</td>\n",
       "      <td>0.042858</td>\n",
       "      <td>0.390125</td>\n",
       "      <td>0.041569</td>\n",
       "      <td>0.598427</td>\n",
       "      <td>0.098803</td>\n",
       "      <td>0.979686</td>\n",
       "      <td>-0.093244</td>\n",
       "      <td>-0.065615</td>\n",
       "      <td>0</td>\n",
       "    </tr>\n",
       "    <tr>\n",
       "      <th>2</th>\n",
       "      <td>-2.985294</td>\n",
       "      <td>-2.747472</td>\n",
       "      <td>1.194068</td>\n",
       "      <td>-0.003036</td>\n",
       "      <td>-1.151041</td>\n",
       "      <td>-0.263559</td>\n",
       "      <td>0.553500</td>\n",
       "      <td>0.635600</td>\n",
       "      <td>0.438545</td>\n",
       "      <td>-1.806488</td>\n",
       "      <td>...</td>\n",
       "      <td>1.345776</td>\n",
       "      <td>0.373760</td>\n",
       "      <td>-0.385777</td>\n",
       "      <td>1.197596</td>\n",
       "      <td>0.407229</td>\n",
       "      <td>0.008013</td>\n",
       "      <td>0.762362</td>\n",
       "      <td>-0.299024</td>\n",
       "      <td>-0.303929</td>\n",
       "      <td>0</td>\n",
       "    </tr>\n",
       "    <tr>\n",
       "      <th>3</th>\n",
       "      <td>-1.479452</td>\n",
       "      <td>1.542874</td>\n",
       "      <td>0.290895</td>\n",
       "      <td>0.838142</td>\n",
       "      <td>-0.529290</td>\n",
       "      <td>-0.717661</td>\n",
       "      <td>0.484516</td>\n",
       "      <td>0.545092</td>\n",
       "      <td>-0.780767</td>\n",
       "      <td>0.324804</td>\n",
       "      <td>...</td>\n",
       "      <td>0.038397</td>\n",
       "      <td>0.116771</td>\n",
       "      <td>0.405560</td>\n",
       "      <td>-0.116453</td>\n",
       "      <td>0.541275</td>\n",
       "      <td>-0.216665</td>\n",
       "      <td>-0.415578</td>\n",
       "      <td>0.027126</td>\n",
       "      <td>-0.150347</td>\n",
       "      <td>0</td>\n",
       "    </tr>\n",
       "    <tr>\n",
       "      <th>4</th>\n",
       "      <td>-0.281976</td>\n",
       "      <td>-0.309699</td>\n",
       "      <td>-2.162299</td>\n",
       "      <td>-0.851514</td>\n",
       "      <td>0.106167</td>\n",
       "      <td>-1.483888</td>\n",
       "      <td>1.930994</td>\n",
       "      <td>-0.843049</td>\n",
       "      <td>-1.249272</td>\n",
       "      <td>1.079608</td>\n",
       "      <td>...</td>\n",
       "      <td>-0.875516</td>\n",
       "      <td>-0.004199</td>\n",
       "      <td>1.015108</td>\n",
       "      <td>-0.026748</td>\n",
       "      <td>0.077115</td>\n",
       "      <td>-1.468822</td>\n",
       "      <td>0.751700</td>\n",
       "      <td>0.496732</td>\n",
       "      <td>0.331001</td>\n",
       "      <td>0</td>\n",
       "    </tr>\n",
       "  </tbody>\n",
       "</table>\n",
       "<p>5 rows × 29 columns</p>\n",
       "</div>"
      ],
      "text/plain": [
       "         V1        V2        V3        V4        V5        V6        V7  \\\n",
       "0 -1.848212  2.384900  0.379573  1.048381 -0.845070  2.537837 -4.542983   \n",
       "1  2.071805 -0.477943 -1.444444 -0.548657  0.010036 -0.582242 -0.042878   \n",
       "2 -2.985294 -2.747472  1.194068 -0.003036 -1.151041 -0.263559  0.553500   \n",
       "3 -1.479452  1.542874  0.290895  0.838142 -0.529290 -0.717661  0.484516   \n",
       "4 -0.281976 -0.309699 -2.162299 -0.851514  0.106167 -1.483888  1.930994   \n",
       "\n",
       "          V8        V9       V10  ...       V20       V21       V22       V23  \\\n",
       "0 -10.201458 -1.504967 -2.234167  ...  2.585817 -5.291690  0.859364  0.423231   \n",
       "1  -0.247160  1.171923 -0.342382  ... -0.077306  0.042858  0.390125  0.041569   \n",
       "2   0.635600  0.438545 -1.806488  ...  1.345776  0.373760 -0.385777  1.197596   \n",
       "3   0.545092 -0.780767  0.324804  ...  0.038397  0.116771  0.405560 -0.116453   \n",
       "4  -0.843049 -1.249272  1.079608  ... -0.875516 -0.004199  1.015108 -0.026748   \n",
       "\n",
       "        V24       V25       V26       V27       V28  Class  \n",
       "0 -0.506985  1.020052 -0.627751 -0.017753  0.280982      0  \n",
       "1  0.598427  0.098803  0.979686 -0.093244 -0.065615      0  \n",
       "2  0.407229  0.008013  0.762362 -0.299024 -0.303929      0  \n",
       "3  0.541275 -0.216665 -0.415578  0.027126 -0.150347      0  \n",
       "4  0.077115 -1.468822  0.751700  0.496732  0.331001      0  \n",
       "\n",
       "[5 rows x 29 columns]"
      ]
     },
     "execution_count": 3,
     "metadata": {},
     "output_type": "execute_result"
    }
   ],
   "source": [
    "credit.head()"
   ]
  },
  {
   "cell_type": "code",
   "execution_count": 4,
   "metadata": {
    "scrolled": true
   },
   "outputs": [
    {
     "data": {
      "text/html": [
       "<div>\n",
       "<style scoped>\n",
       "    .dataframe tbody tr th:only-of-type {\n",
       "        vertical-align: middle;\n",
       "    }\n",
       "\n",
       "    .dataframe tbody tr th {\n",
       "        vertical-align: top;\n",
       "    }\n",
       "\n",
       "    .dataframe thead th {\n",
       "        text-align: right;\n",
       "    }\n",
       "</style>\n",
       "<table border=\"1\" class=\"dataframe\">\n",
       "  <thead>\n",
       "    <tr style=\"text-align: right;\">\n",
       "      <th></th>\n",
       "      <th>0</th>\n",
       "      <th>1</th>\n",
       "      <th>2</th>\n",
       "      <th>3</th>\n",
       "      <th>4</th>\n",
       "      <th>5</th>\n",
       "      <th>6</th>\n",
       "      <th>7</th>\n",
       "      <th>8</th>\n",
       "      <th>9</th>\n",
       "      <th>...</th>\n",
       "      <th>19</th>\n",
       "      <th>20</th>\n",
       "      <th>21</th>\n",
       "      <th>22</th>\n",
       "      <th>23</th>\n",
       "      <th>24</th>\n",
       "      <th>25</th>\n",
       "      <th>26</th>\n",
       "      <th>27</th>\n",
       "      <th>Class</th>\n",
       "    </tr>\n",
       "  </thead>\n",
       "  <tbody>\n",
       "    <tr>\n",
       "      <th>0</th>\n",
       "      <td>-0.902180</td>\n",
       "      <td>1.442462</td>\n",
       "      <td>0.242076</td>\n",
       "      <td>0.682170</td>\n",
       "      <td>-0.545636</td>\n",
       "      <td>1.897453</td>\n",
       "      <td>-3.087657</td>\n",
       "      <td>-7.481774</td>\n",
       "      <td>-1.310739</td>\n",
       "      <td>-1.750813</td>\n",
       "      <td>...</td>\n",
       "      <td>3.586292</td>\n",
       "      <td>-6.258702</td>\n",
       "      <td>1.163043</td>\n",
       "      <td>0.721013</td>\n",
       "      <td>-0.838813</td>\n",
       "      <td>1.973207</td>\n",
       "      <td>-1.295843</td>\n",
       "      <td>-0.047097</td>\n",
       "      <td>0.941755</td>\n",
       "      <td>0</td>\n",
       "    </tr>\n",
       "    <tr>\n",
       "      <th>1</th>\n",
       "      <td>1.027442</td>\n",
       "      <td>-0.328926</td>\n",
       "      <td>-0.795394</td>\n",
       "      <td>-0.395393</td>\n",
       "      <td>0.029429</td>\n",
       "      <td>-0.432294</td>\n",
       "      <td>0.005620</td>\n",
       "      <td>-0.185605</td>\n",
       "      <td>1.049741</td>\n",
       "      <td>-0.240491</td>\n",
       "      <td>...</td>\n",
       "      <td>-0.110982</td>\n",
       "      <td>0.038445</td>\n",
       "      <td>0.528470</td>\n",
       "      <td>0.078108</td>\n",
       "      <td>0.993348</td>\n",
       "      <td>0.194594</td>\n",
       "      <td>2.026379</td>\n",
       "      <td>-0.237219</td>\n",
       "      <td>-0.226298</td>\n",
       "      <td>0</td>\n",
       "    </tr>\n",
       "    <tr>\n",
       "      <th>2</th>\n",
       "      <td>-1.461907</td>\n",
       "      <td>-1.733201</td>\n",
       "      <td>0.705348</td>\n",
       "      <td>-0.027248</td>\n",
       "      <td>-0.751404</td>\n",
       "      <td>-0.194335</td>\n",
       "      <td>0.415558</td>\n",
       "      <td>0.461429</td>\n",
       "      <td>0.403048</td>\n",
       "      <td>-1.409372</td>\n",
       "      <td>...</td>\n",
       "      <td>1.864714</td>\n",
       "      <td>0.429058</td>\n",
       "      <td>-0.520817</td>\n",
       "      <td>2.025422</td>\n",
       "      <td>0.676446</td>\n",
       "      <td>0.019311</td>\n",
       "      <td>1.577217</td>\n",
       "      <td>-0.755467</td>\n",
       "      <td>-1.029430</td>\n",
       "      <td>0</td>\n",
       "    </tr>\n",
       "    <tr>\n",
       "      <th>3</th>\n",
       "      <td>-0.720659</td>\n",
       "      <td>0.921458</td>\n",
       "      <td>0.191638</td>\n",
       "      <td>0.540317</td>\n",
       "      <td>-0.333272</td>\n",
       "      <td>-0.533410</td>\n",
       "      <td>0.368140</td>\n",
       "      <td>0.395090</td>\n",
       "      <td>-0.672139</td>\n",
       "      <td>0.292162</td>\n",
       "      <td>...</td>\n",
       "      <td>0.049651</td>\n",
       "      <td>0.125696</td>\n",
       "      <td>0.549344</td>\n",
       "      <td>-0.188079</td>\n",
       "      <td>0.898622</td>\n",
       "      <td>-0.414465</td>\n",
       "      <td>-0.857327</td>\n",
       "      <td>0.065929</td>\n",
       "      <td>-0.511850</td>\n",
       "      <td>0</td>\n",
       "    </tr>\n",
       "    <tr>\n",
       "      <th>4</th>\n",
       "      <td>-0.131203</td>\n",
       "      <td>-0.224824</td>\n",
       "      <td>-1.203698</td>\n",
       "      <td>-0.599739</td>\n",
       "      <td>0.094078</td>\n",
       "      <td>-1.105548</td>\n",
       "      <td>1.362418</td>\n",
       "      <td>-0.622372</td>\n",
       "      <td>-1.085267</td>\n",
       "      <td>0.894765</td>\n",
       "      <td>...</td>\n",
       "      <td>-1.219154</td>\n",
       "      <td>-0.017103</td>\n",
       "      <td>1.373663</td>\n",
       "      <td>-0.036971</td>\n",
       "      <td>0.129301</td>\n",
       "      <td>-2.831946</td>\n",
       "      <td>1.555181</td>\n",
       "      <td>1.248615</td>\n",
       "      <td>1.110322</td>\n",
       "      <td>0</td>\n",
       "    </tr>\n",
       "  </tbody>\n",
       "</table>\n",
       "<p>5 rows × 29 columns</p>\n",
       "</div>"
      ],
      "text/plain": [
       "          0         1         2         3         4         5         6  \\\n",
       "0 -0.902180  1.442462  0.242076  0.682170 -0.545636  1.897453 -3.087657   \n",
       "1  1.027442 -0.328926 -0.795394 -0.395393  0.029429 -0.432294  0.005620   \n",
       "2 -1.461907 -1.733201  0.705348 -0.027248 -0.751404 -0.194335  0.415558   \n",
       "3 -0.720659  0.921458  0.191638  0.540317 -0.333272 -0.533410  0.368140   \n",
       "4 -0.131203 -0.224824 -1.203698 -0.599739  0.094078 -1.105548  1.362418   \n",
       "\n",
       "          7         8         9  ...        19        20        21        22  \\\n",
       "0 -7.481774 -1.310739 -1.750813  ...  3.586292 -6.258702  1.163043  0.721013   \n",
       "1 -0.185605  1.049741 -0.240491  ... -0.110982  0.038445  0.528470  0.078108   \n",
       "2  0.461429  0.403048 -1.409372  ...  1.864714  0.429058 -0.520817  2.025422   \n",
       "3  0.395090 -0.672139  0.292162  ...  0.049651  0.125696  0.549344 -0.188079   \n",
       "4 -0.622372 -1.085267  0.894765  ... -1.219154 -0.017103  1.373663 -0.036971   \n",
       "\n",
       "         23        24        25        26        27  Class  \n",
       "0 -0.838813  1.973207 -1.295843 -0.047097  0.941755      0  \n",
       "1  0.993348  0.194594  2.026379 -0.237219 -0.226298      0  \n",
       "2  0.676446  0.019311  1.577217 -0.755467 -1.029430      0  \n",
       "3  0.898622 -0.414465 -0.857327  0.065929 -0.511850      0  \n",
       "4  0.129301 -2.831946  1.555181  1.248615  1.110322      0  \n",
       "\n",
       "[5 rows x 29 columns]"
      ]
     },
     "execution_count": 4,
     "metadata": {},
     "output_type": "execute_result"
    }
   ],
   "source": [
    "from sklearn.preprocessing import StandardScaler\n",
    "\n",
    "scaler = StandardScaler()\n",
    "data = pd.DataFrame(scaler.fit_transform(credit.iloc[:,:28])) ## X 데이터 스케일링\n",
    "\n",
    "data['Class'] = pd.Series(credit['Class'], dtype='category') ## y 데이터\n",
    "data.head()"
   ]
  },
  {
   "cell_type": "code",
   "execution_count": 5,
   "metadata": {},
   "outputs": [
    {
     "data": {
      "text/plain": [
       "0    28432\n",
       "1      246\n",
       "Name: Class, dtype: int64"
      ]
     },
     "execution_count": 5,
     "metadata": {},
     "output_type": "execute_result"
    }
   ],
   "source": [
    "data.Class.value_counts()"
   ]
  },
  {
   "cell_type": "markdown",
   "metadata": {},
   "source": [
    "## 1. Logistic Regression "
   ]
  },
  {
   "cell_type": "markdown",
   "metadata": {},
   "source": [
    "Modeling"
   ]
  },
  {
   "cell_type": "code",
   "execution_count": 6,
   "metadata": {},
   "outputs": [
    {
     "data": {
      "text/plain": [
       "array([[9.99162657e-01, 8.37342733e-04],\n",
       "       [9.99687212e-01, 3.12787618e-04],\n",
       "       [9.79470309e-01, 2.05296911e-02],\n",
       "       ...,\n",
       "       [9.99915594e-01, 8.44058313e-05],\n",
       "       [9.96014554e-01, 3.98544568e-03],\n",
       "       [9.99193219e-01, 8.06781183e-04]])"
      ]
     },
     "execution_count": 6,
     "metadata": {},
     "output_type": "execute_result"
    }
   ],
   "source": [
    "from sklearn.linear_model import LogisticRegression\n",
    "from sklearn.model_selection import train_test_split\n",
    "\n",
    "X = X = data.drop([\"Class\"], axis=1)\n",
    "y = data[\"Class\"]\n",
    "X_train, X_test, y_train, y_test = train_test_split(X, y, random_state = 0)\n",
    "\n",
    "classifier = LogisticRegression()\n",
    "classifier.fit(X_train, y_train)\n",
    "y_pred = classifier.predict(X_test)\n",
    "classifier.predict_proba(X_test)"
   ]
  },
  {
   "cell_type": "code",
   "execution_count": 7,
   "metadata": {},
   "outputs": [
    {
     "data": {
      "text/plain": [
       "0.997907949790795"
      ]
     },
     "execution_count": 7,
     "metadata": {},
     "output_type": "execute_result"
    }
   ],
   "source": [
    "classifier.score(X_test, y_test)"
   ]
  },
  {
   "cell_type": "markdown",
   "metadata": {},
   "source": [
    "## 2. Metrics Evaluation "
   ]
  },
  {
   "cell_type": "markdown",
   "metadata": {},
   "source": [
    "### 1) sklearn 패키지를 이용한 성능 평가지표 계산 "
   ]
  },
  {
   "cell_type": "code",
   "execution_count": 8,
   "metadata": {},
   "outputs": [],
   "source": [
    "from sklearn import metrics"
   ]
  },
  {
   "cell_type": "code",
   "execution_count": 9,
   "metadata": {},
   "outputs": [
    {
     "data": {
      "text/plain": [
       "0.997907949790795"
      ]
     },
     "execution_count": 9,
     "metadata": {},
     "output_type": "execute_result"
    }
   ],
   "source": [
    "metrics.accuracy_score(y_test, y_pred)"
   ]
  },
  {
   "cell_type": "code",
   "execution_count": 10,
   "metadata": {},
   "outputs": [
    {
     "data": {
      "text/plain": [
       "0.845360824742268"
      ]
     },
     "execution_count": 10,
     "metadata": {},
     "output_type": "execute_result"
    }
   ],
   "source": [
    "metrics.f1_score(y_test, y_pred)"
   ]
  },
  {
   "cell_type": "markdown",
   "metadata": {},
   "source": [
    "### 2) confusion matrix를 이용한 성능 평가지표 계산 "
   ]
  },
  {
   "cell_type": "code",
   "execution_count": 12,
   "metadata": {},
   "outputs": [
    {
     "data": {
      "text/plain": [
       "(7114, 4, 11, 41)"
      ]
     },
     "execution_count": 12,
     "metadata": {},
     "output_type": "execute_result"
    }
   ],
   "source": [
    "tn, fp, fn, tp = metrics.confusion_matrix(y_test, y_pred).flatten()\n",
    "(tn, fp, fn, tp)"
   ]
  },
  {
   "cell_type": "code",
   "execution_count": 13,
   "metadata": {},
   "outputs": [
    {
     "name": "stdout",
     "output_type": "stream",
     "text": [
      "accuracy:  0.997907949790795\n"
     ]
    }
   ],
   "source": [
    "accuracy = (tp+tn)/(tp+fn+fp+tn)\n",
    "print(\"accuracy: \", accuracy)"
   ]
  },
  {
   "cell_type": "code",
   "execution_count": 14,
   "metadata": {},
   "outputs": [],
   "source": [
    "precision = tp/(tp+fp)\n",
    "recall = tp/(tp+fn)\n",
    "specificity = tn/(fp+tn)\n",
    "f1_score = 2*precision*recall/(precision+recall)"
   ]
  },
  {
   "cell_type": "code",
   "execution_count": 15,
   "metadata": {},
   "outputs": [
    {
     "name": "stdout",
     "output_type": "stream",
     "text": [
      "precision:  0.9111111111111111\n",
      "recall:  0.7884615384615384\n",
      "specificity:  0.9994380443944928\n",
      "f1_score:  0.845360824742268\n"
     ]
    }
   ],
   "source": [
    "print(\"precision: \", precision)\n",
    "print(\"recall: \", recall)\n",
    "print(\"specificity: \", specificity)\n",
    "print(\"f1_score: \", f1_score)"
   ]
  },
  {
   "cell_type": "markdown",
   "metadata": {},
   "source": [
    "### 3) cut-off value 찾아보기 \n",
    "* fpr = fall-out = 1-specificity\n",
    "* tpr = sensitivity"
   ]
  },
  {
   "cell_type": "code",
   "execution_count": 35,
   "metadata": {},
   "outputs": [
    {
     "data": {
      "text/plain": [
       "(array([0.00000000e+00, 0.00000000e+00, 0.00000000e+00, 1.40488901e-04,\n",
       "        1.40488901e-04, 2.80977803e-04, 2.80977803e-04, 5.61955606e-04,\n",
       "        5.61955606e-04, 7.02444507e-04, 7.02444507e-04, 1.12391121e-03,\n",
       "        1.12391121e-03, 1.54537792e-03, 1.54537792e-03, 6.18151166e-03,\n",
       "        6.46248946e-03, 1.84040461e-02, 1.84040461e-02, 3.07670694e-02,\n",
       "        3.07670694e-02, 2.74936780e-01, 2.75217758e-01, 2.77325091e-01,\n",
       "        2.77606069e-01, 3.19190784e-01, 3.19612251e-01, 3.67518966e-01,\n",
       "        3.67799944e-01, 5.27395336e-01, 5.27676314e-01, 5.69963473e-01,\n",
       "        5.70384940e-01, 6.92048328e-01, 6.92329306e-01, 6.99634729e-01,\n",
       "        6.99915707e-01, 8.48271987e-01, 8.48552964e-01, 9.03062658e-01,\n",
       "        9.03343636e-01, 9.91851644e-01, 9.92132622e-01, 1.00000000e+00]),\n",
       " array([0.        , 0.01923077, 0.53846154, 0.53846154, 0.55769231,\n",
       "        0.55769231, 0.75      , 0.75      , 0.82692308, 0.82692308,\n",
       "        0.86538462, 0.86538462, 0.90384615, 0.90384615, 0.96153846,\n",
       "        0.96153846, 0.96153846, 0.96153846, 0.98076923, 0.98076923,\n",
       "        1.        , 1.        , 1.        , 1.        , 1.        ,\n",
       "        1.        , 1.        , 1.        , 1.        , 1.        ,\n",
       "        1.        , 1.        , 1.        , 1.        , 1.        ,\n",
       "        1.        , 1.        , 1.        , 1.        , 1.        ,\n",
       "        1.        , 1.        , 1.        , 1.        ]),\n",
       " array([2.00000000e+00, 1.00000000e+00, 9.95490771e-01, 9.94681392e-01,\n",
       "        9.86754543e-01, 9.85566972e-01, 6.31119424e-01, 6.03448480e-01,\n",
       "        4.32604403e-01, 3.90878903e-01, 2.59016614e-01, 1.74289874e-01,\n",
       "        1.31250321e-01, 9.71584933e-02, 9.38578475e-02, 2.76713276e-02,\n",
       "        2.75794052e-02, 1.38436808e-02, 1.36820361e-02, 9.93295361e-03,\n",
       "        9.93275197e-03, 1.40821338e-03, 1.40520855e-03, 1.39823816e-03,\n",
       "        1.39809288e-03, 1.16706523e-03, 1.16670506e-03, 9.94393692e-04,\n",
       "        9.94289292e-04, 6.02731866e-04, 6.02355872e-04, 5.13806820e-04,\n",
       "        5.13328723e-04, 3.33324173e-04, 3.33308669e-04, 3.23008473e-04,\n",
       "        3.22981986e-04, 1.47068271e-04, 1.46854241e-04, 9.29855695e-05,\n",
       "        9.29720792e-05, 7.58384065e-06, 7.43700662e-06, 1.66122301e-09]))"
      ]
     },
     "execution_count": 35,
     "metadata": {},
     "output_type": "execute_result"
    }
   ],
   "source": [
    "from sklearn.metrics import roc_curve\n",
    "\n",
    "fpr, tpr, thresholds = roc_curve(y_test,classifier.predict_proba(X_test)[:,1])\n",
    "fpr, tpr, thresholds"
   ]
  },
  {
   "cell_type": "code",
   "execution_count": 36,
   "metadata": {},
   "outputs": [
    {
     "data": {
      "image/png": "[encoded data removed]",
      "text/plain": [
       "<Figure size 432x288 with 1 Axes>"
      ]
     },
     "metadata": {
      "needs_background": "light"
     },
     "output_type": "display_data"
    }
   ],
   "source": [
    "import matplotlib.pyplot as plt\n",
    "\n",
    "plt.plot(fpr, tpr, 'o-') \n",
    "plt.plot([0, 1], [0, 1], 'k--')\n",
    "plt.plot([1-specificity], [recall], 'ro', ms=10) # 현재 cutoff value 값 \n",
    "plt.xlabel('1-Specificity')\n",
    "plt.ylabel('Sensitivity')\n",
    "plt.show()"
   ]
  },
  {
   "cell_type": "code",
   "execution_count": 37,
   "metadata": {},
   "outputs": [
    {
     "data": {
      "text/plain": [
       "0.9987950374997298"
      ]
     },
     "execution_count": 37,
     "metadata": {},
     "output_type": "execute_result"
    }
   ],
   "source": [
    "# roc curve 아래의 면적 \n",
    "auc = metrics.auc(fpr, tpr)\n",
    "auc"
   ]
  },
  {
   "cell_type": "markdown",
   "metadata": {},
   "source": [
    "## 3. 새로운 cutoff value로 모델 예측하기 "
   ]
  },
  {
   "cell_type": "code",
   "execution_count": 45,
   "metadata": {},
   "outputs": [],
   "source": [
    "optimal_idx = np.argmax(tpr-fpr)\n",
    "optimal_threshold = thresholds[optimal_idx]"
   ]
  },
  {
   "cell_type": "code",
   "execution_count": 46,
   "metadata": {},
   "outputs": [
    {
     "data": {
      "text/plain": [
       "0.009932751970760269"
      ]
     },
     "execution_count": 46,
     "metadata": {},
     "output_type": "execute_result"
    }
   ],
   "source": [
    "optimal_threshold ## 새로운 cutoff value"
   ]
  },
  {
   "cell_type": "code",
   "execution_count": 47,
   "metadata": {},
   "outputs": [
    {
     "data": {
      "text/plain": [
       "array([0, 0, 1, ..., 0, 0, 0])"
      ]
     },
     "execution_count": 47,
     "metadata": {},
     "output_type": "execute_result"
    }
   ],
   "source": [
    "predict_new = np.where(classifier.predict_proba(X_test)[:,1]>optimal_threshold,1,0)\n",
    "predict_new"
   ]
  },
  {
   "cell_type": "code",
   "execution_count": 48,
   "metadata": {},
   "outputs": [
    {
     "data": {
      "text/plain": [
       "array([[6899,  219],\n",
       "       [   1,   51]], dtype=int64)"
      ]
     },
     "execution_count": 48,
     "metadata": {},
     "output_type": "execute_result"
    }
   ],
   "source": [
    "# 새로운 cutoff value로 분류한 confusion matrix \n",
    "metrics.confusion_matrix(y_test, predict_new)"
   ]
  },
  {
   "cell_type": "code",
   "execution_count": 49,
   "metadata": {},
   "outputs": [
    {
     "data": {
      "text/plain": [
       "(6899, 219, 1, 51)"
      ]
     },
     "execution_count": 49,
     "metadata": {},
     "output_type": "execute_result"
    }
   ],
   "source": [
    "tn, fp, fn, tp = metrics.confusion_matrix(y_test, predict_new).flatten()\n",
    "(tn, fp, fn, tp)"
   ]
  },
  {
   "cell_type": "code",
   "execution_count": 50,
   "metadata": {},
   "outputs": [
    {
     "name": "stdout",
     "output_type": "stream",
     "text": [
      "accuracy:  0.9693165969316597\n"
     ]
    }
   ],
   "source": [
    "accuracy = (tp+tn)/(tp+fn+fp+tn)\n",
    "print(\"accuracy: \", accuracy)"
   ]
  },
  {
   "cell_type": "code",
   "execution_count": 51,
   "metadata": {},
   "outputs": [],
   "source": [
    "precision = tp/(tp+fp)\n",
    "recall = tp/(tp+fn)\n",
    "specificity = tn/(fp+tn)\n",
    "f1_score = 2*precision*recall/(precision+recall)"
   ]
  },
  {
   "cell_type": "code",
   "execution_count": 52,
   "metadata": {},
   "outputs": [
    {
     "name": "stdout",
     "output_type": "stream",
     "text": [
      "precision:  0.18888888888888888\n",
      "recall:  0.9807692307692307\n",
      "specificity:  0.9692329305984827\n",
      "f1_score:  0.3167701863354037\n"
     ]
    }
   ],
   "source": [
    "print(\"precision: \", precision)\n",
    "print(\"recall: \", recall)\n",
    "print(\"specificity: \", specificity)\n",
    "print(\"f1_score: \", f1_score)"
   ]
  },
  {
   "cell_type": "code",
   "execution_count": 53,
   "metadata": {},
   "outputs": [
    {
     "data": {
      "image/png": "[encoded data removed]",
      "text/plain": [
       "<Figure size 432x288 with 1 Axes>"
      ]
     },
     "metadata": {
      "needs_background": "light"
     },
     "output_type": "display_data"
    }
   ],
   "source": [
    "plt.plot(fpr, tpr, 'o-', label=\"Logistic Regression\") \n",
    "plt.plot([0, 1], [0, 1], 'k--')\n",
    "plt.plot([1-(tn / (fp+tn))], [tp / (fn+tp)], 'ro', ms=10) # 현재 cutoff value 값 \n",
    "plt.xlabel('1-Specificity')\n",
    "plt.ylabel('Sensitivity')\n",
    "plt.show()"
   ]
  },
  {
   "cell_type": "markdown",
   "metadata": {},
   "source": [
    "#### Q. cutoff value를 바꿔서 나온 결과의 의의는 무엇일까요 ? \n",
    "이전의 cutoff value에 비해 TP의 비중이 높아졌다. confusion matrix의 imbalnace가 개선되었다고 볼 수 있다."
   ]
  }
 ],
 "metadata": {
  "kernelspec": {
   "display_name": "Python 3",
   "language": "python",
   "name": "python3"
  },
  "language_info": {
   "codemirror_mode": {
    "name": "ipython",
    "version": 3
   },
   "file_extension": ".py",
   "mimetype": "text/x-python",
   "name": "python",
   "nbconvert_exporter": "python",
   "pygments_lexer": "ipython3",
   "version": "3.7.6"
  }
 },
 "nbformat": 4,
 "nbformat_minor": 4
}
