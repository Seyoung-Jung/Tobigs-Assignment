{
  "nbformat": 4,
  "nbformat_minor": 0,
  "metadata": {
    "kernelspec": {
      "display_name": "Python 3",
      "language": "python",
      "name": "python3"
    },
    "language_info": {
      "codemirror_mode": {
        "name": "ipython",
        "version": 3
      },
      "file_extension": ".py",
      "mimetype": "text/x-python",
      "name": "python",
      "nbconvert_exporter": "python",
      "pygments_lexer": "ipython3",
      "version": "3.7.6"
    },
    "papermill": {
      "duration": 31.424918,
      "end_time": "2020-09-01T03:37:39.677821",
      "environment_variables": {},
      "exception": null,
      "input_path": "__notebook__.ipynb",
      "output_path": "__notebook__.ipynb",
      "parameters": {},
      "start_time": "2020-09-01T03:37:08.252903",
      "version": "2.1.0"
    },
    "colab": {
      "name": "week7_MINST_competition.ipynb",
      "provenance": [],
      "collapsed_sections": [],
      "include_colab_link": true
    },
    "accelerator": "GPU"
  },
  "cells": [
    {
      "cell_type": "markdown",
      "metadata": {
        "id": "view-in-github",
        "colab_type": "text"
      },
      "source": [
        "<a href=\"https://colab.research.google.com/github/Seyoung-Jung/Tobigs-HW/blob/master/week7/week7_MINST_competition.ipynb\" target=\"_parent\"><img src=\"https://colab.research.google.com/assets/colab-badge.svg\" alt=\"Open In Colab\"/></a>"
      ]
    },
    {
      "cell_type": "markdown",
      "metadata": {
        "papermill": {
          "duration": 0.005526,
          "end_time": "2020-09-01T03:37:12.801535",
          "exception": false,
          "start_time": "2020-09-01T03:37:12.796009",
          "status": "completed"
        },
        "tags": [],
        "id": "nOjJfldyzbJy",
        "colab_type": "text"
      },
      "source": [
        "# Framework Tutorial\n",
        "\n",
        "*by tobigs 13기 김현선*"
      ]
    },
    {
      "cell_type": "code",
      "metadata": {
        "execution": {
          "iopub.execute_input": "2020-09-01T03:37:12.817017Z",
          "iopub.status.busy": "2020-09-01T03:37:12.816369Z",
          "iopub.status.idle": "2020-09-01T03:37:19.648739Z",
          "shell.execute_reply": "2020-09-01T03:37:19.647928Z"
        },
        "papermill": {
          "duration": 6.843164,
          "end_time": "2020-09-01T03:37:19.648866",
          "exception": false,
          "start_time": "2020-09-01T03:37:12.805702",
          "status": "completed"
        },
        "tags": [],
        "id": "rWyMiGw1zbJ0",
        "colab_type": "code",
        "colab": {}
      },
      "source": [
        "import numpy as np\n",
        "import pandas as pd\n",
        "\n",
        "from sklearn.model_selection import train_test_split\n",
        "\n",
        "import matplotlib.pyplot as plt\n",
        "%matplotlib inline\n",
        "\n",
        "import tensorflow as tf\n",
        "from tensorflow import keras"
      ],
      "execution_count": 1,
      "outputs": []
    },
    {
      "cell_type": "code",
      "metadata": {
        "id": "YPR9L3ug6iEk",
        "colab_type": "code",
        "colab": {
          "base_uri": "https://localhost:8080/",
          "height": 125
        },
        "outputId": "9980cb37-2d40-42b1-a3a1-fe8ce5831bf1"
      },
      "source": [
        "from google.colab import drive\n",
        "drive.mount('/content/drive')"
      ],
      "execution_count": 2,
      "outputs": [
        {
          "output_type": "stream",
          "text": [
            "Go to this URL in a browser: https://accounts.google.com/o/oauth2/auth?client_id=947318989803-6bn6qk8qdgf4n4g3pfee6491hc0brc4i.apps.googleusercontent.com&redirect_uri=urn%3aietf%3awg%3aoauth%3a2.0%3aoob&scope=email%20https%3a%2f%2fwww.googleapis.com%2fauth%2fdocs.test%20https%3a%2f%2fwww.googleapis.com%2fauth%2fdrive%20https%3a%2f%2fwww.googleapis.com%2fauth%2fdrive.photos.readonly%20https%3a%2f%2fwww.googleapis.com%2fauth%2fpeopleapi.readonly&response_type=code\n",
            "\n",
            "Enter your authorization code:\n",
            "··········\n",
            "Mounted at /content/drive\n"
          ],
          "name": "stdout"
        }
      ]
    },
    {
      "cell_type": "code",
      "metadata": {
        "execution": {
          "iopub.execute_input": "2020-09-01T03:37:19.668752Z",
          "iopub.status.busy": "2020-09-01T03:37:19.667859Z",
          "iopub.status.idle": "2020-09-01T03:37:23.539236Z",
          "shell.execute_reply": "2020-09-01T03:37:23.538542Z"
        },
        "papermill": {
          "duration": 3.886033,
          "end_time": "2020-09-01T03:37:23.539373",
          "exception": false,
          "start_time": "2020-09-01T03:37:19.653340",
          "status": "completed"
        },
        "tags": [],
        "id": "pmmTcNTnzbJ9",
        "colab_type": "code",
        "colab": {}
      },
      "source": [
        "train_data = pd.read_csv('/content/drive/My Drive/Tobigs/week7_NeuralNetwork_Advanced/data/train_df.csv')\n",
        "test_data = pd.read_csv('/content/drive/My Drive/Tobigs/week7_NeuralNetwork_Advanced/data/test_df.csv')\n",
        "sample_submission = pd.read_csv(\"/content/drive/My Drive/Tobigs/week7_NeuralNetwork_Advanced/data/sample_submission.csv\")"
      ],
      "execution_count": 3,
      "outputs": []
    },
    {
      "cell_type": "code",
      "metadata": {
        "execution": {
          "iopub.execute_input": "2020-09-01T03:37:23.558570Z",
          "iopub.status.busy": "2020-09-01T03:37:23.557783Z",
          "iopub.status.idle": "2020-09-01T03:37:23.577022Z",
          "shell.execute_reply": "2020-09-01T03:37:23.576409Z"
        },
        "papermill": {
          "duration": 0.033545,
          "end_time": "2020-09-01T03:37:23.577143",
          "exception": false,
          "start_time": "2020-09-01T03:37:23.543598",
          "status": "completed"
        },
        "tags": [],
        "id": "-ZKMQaywzbKC",
        "colab_type": "code",
        "colab": {
          "base_uri": "https://localhost:8080/",
          "height": 244
        },
        "outputId": "fcc78986-7a3d-4181-b750-ef9f6c6d94ef"
      },
      "source": [
        "# 어떤 자료인지 보자\n",
        "train_data.head()"
      ],
      "execution_count": null,
      "outputs": [
        {
          "output_type": "execute_result",
          "data": {
            "text/html": [
              "<div>\n",
              "<style scoped>\n",
              "    .dataframe tbody tr th:only-of-type {\n",
              "        vertical-align: middle;\n",
              "    }\n",
              "\n",
              "    .dataframe tbody tr th {\n",
              "        vertical-align: top;\n",
              "    }\n",
              "\n",
              "    .dataframe thead th {\n",
              "        text-align: right;\n",
              "    }\n",
              "</style>\n",
              "<table border=\"1\" class=\"dataframe\">\n",
              "  <thead>\n",
              "    <tr style=\"text-align: right;\">\n",
              "      <th></th>\n",
              "      <th>label</th>\n",
              "      <th>pixel0</th>\n",
              "      <th>pixel1</th>\n",
              "      <th>pixel2</th>\n",
              "      <th>pixel3</th>\n",
              "      <th>pixel4</th>\n",
              "      <th>pixel5</th>\n",
              "      <th>pixel6</th>\n",
              "      <th>pixel7</th>\n",
              "      <th>pixel8</th>\n",
              "      <th>pixel9</th>\n",
              "      <th>pixel10</th>\n",
              "      <th>pixel11</th>\n",
              "      <th>pixel12</th>\n",
              "      <th>pixel13</th>\n",
              "      <th>pixel14</th>\n",
              "      <th>pixel15</th>\n",
              "      <th>pixel16</th>\n",
              "      <th>pixel17</th>\n",
              "      <th>pixel18</th>\n",
              "      <th>pixel19</th>\n",
              "      <th>pixel20</th>\n",
              "      <th>pixel21</th>\n",
              "      <th>pixel22</th>\n",
              "      <th>pixel23</th>\n",
              "      <th>pixel24</th>\n",
              "      <th>pixel25</th>\n",
              "      <th>pixel26</th>\n",
              "      <th>pixel27</th>\n",
              "      <th>pixel28</th>\n",
              "      <th>pixel29</th>\n",
              "      <th>pixel30</th>\n",
              "      <th>pixel31</th>\n",
              "      <th>pixel32</th>\n",
              "      <th>pixel33</th>\n",
              "      <th>pixel34</th>\n",
              "      <th>pixel35</th>\n",
              "      <th>pixel36</th>\n",
              "      <th>pixel37</th>\n",
              "      <th>pixel38</th>\n",
              "      <th>...</th>\n",
              "      <th>pixel744</th>\n",
              "      <th>pixel745</th>\n",
              "      <th>pixel746</th>\n",
              "      <th>pixel747</th>\n",
              "      <th>pixel748</th>\n",
              "      <th>pixel749</th>\n",
              "      <th>pixel750</th>\n",
              "      <th>pixel751</th>\n",
              "      <th>pixel752</th>\n",
              "      <th>pixel753</th>\n",
              "      <th>pixel754</th>\n",
              "      <th>pixel755</th>\n",
              "      <th>pixel756</th>\n",
              "      <th>pixel757</th>\n",
              "      <th>pixel758</th>\n",
              "      <th>pixel759</th>\n",
              "      <th>pixel760</th>\n",
              "      <th>pixel761</th>\n",
              "      <th>pixel762</th>\n",
              "      <th>pixel763</th>\n",
              "      <th>pixel764</th>\n",
              "      <th>pixel765</th>\n",
              "      <th>pixel766</th>\n",
              "      <th>pixel767</th>\n",
              "      <th>pixel768</th>\n",
              "      <th>pixel769</th>\n",
              "      <th>pixel770</th>\n",
              "      <th>pixel771</th>\n",
              "      <th>pixel772</th>\n",
              "      <th>pixel773</th>\n",
              "      <th>pixel774</th>\n",
              "      <th>pixel775</th>\n",
              "      <th>pixel776</th>\n",
              "      <th>pixel777</th>\n",
              "      <th>pixel778</th>\n",
              "      <th>pixel779</th>\n",
              "      <th>pixel780</th>\n",
              "      <th>pixel781</th>\n",
              "      <th>pixel782</th>\n",
              "      <th>pixel783</th>\n",
              "    </tr>\n",
              "  </thead>\n",
              "  <tbody>\n",
              "    <tr>\n",
              "      <th>0</th>\n",
              "      <td>7</td>\n",
              "      <td>0</td>\n",
              "      <td>0</td>\n",
              "      <td>0</td>\n",
              "      <td>0</td>\n",
              "      <td>0</td>\n",
              "      <td>0</td>\n",
              "      <td>0</td>\n",
              "      <td>0</td>\n",
              "      <td>0</td>\n",
              "      <td>0</td>\n",
              "      <td>0</td>\n",
              "      <td>0</td>\n",
              "      <td>0</td>\n",
              "      <td>0</td>\n",
              "      <td>0</td>\n",
              "      <td>0</td>\n",
              "      <td>0</td>\n",
              "      <td>0</td>\n",
              "      <td>0</td>\n",
              "      <td>0</td>\n",
              "      <td>0</td>\n",
              "      <td>0</td>\n",
              "      <td>0</td>\n",
              "      <td>0</td>\n",
              "      <td>0</td>\n",
              "      <td>0</td>\n",
              "      <td>0</td>\n",
              "      <td>0</td>\n",
              "      <td>0</td>\n",
              "      <td>0</td>\n",
              "      <td>0</td>\n",
              "      <td>0</td>\n",
              "      <td>0</td>\n",
              "      <td>0</td>\n",
              "      <td>0</td>\n",
              "      <td>0</td>\n",
              "      <td>0</td>\n",
              "      <td>0</td>\n",
              "      <td>0</td>\n",
              "      <td>...</td>\n",
              "      <td>0</td>\n",
              "      <td>0</td>\n",
              "      <td>0</td>\n",
              "      <td>0</td>\n",
              "      <td>0</td>\n",
              "      <td>0</td>\n",
              "      <td>0</td>\n",
              "      <td>0</td>\n",
              "      <td>0</td>\n",
              "      <td>0</td>\n",
              "      <td>0</td>\n",
              "      <td>0</td>\n",
              "      <td>0</td>\n",
              "      <td>0</td>\n",
              "      <td>0</td>\n",
              "      <td>0</td>\n",
              "      <td>0</td>\n",
              "      <td>0</td>\n",
              "      <td>0</td>\n",
              "      <td>0</td>\n",
              "      <td>0</td>\n",
              "      <td>0</td>\n",
              "      <td>0</td>\n",
              "      <td>0</td>\n",
              "      <td>0</td>\n",
              "      <td>0</td>\n",
              "      <td>0</td>\n",
              "      <td>0</td>\n",
              "      <td>0</td>\n",
              "      <td>0</td>\n",
              "      <td>0</td>\n",
              "      <td>0</td>\n",
              "      <td>0</td>\n",
              "      <td>0</td>\n",
              "      <td>0</td>\n",
              "      <td>0</td>\n",
              "      <td>0</td>\n",
              "      <td>0</td>\n",
              "      <td>0</td>\n",
              "      <td>0</td>\n",
              "    </tr>\n",
              "    <tr>\n",
              "      <th>1</th>\n",
              "      <td>8</td>\n",
              "      <td>0</td>\n",
              "      <td>0</td>\n",
              "      <td>0</td>\n",
              "      <td>0</td>\n",
              "      <td>0</td>\n",
              "      <td>0</td>\n",
              "      <td>0</td>\n",
              "      <td>0</td>\n",
              "      <td>0</td>\n",
              "      <td>0</td>\n",
              "      <td>0</td>\n",
              "      <td>0</td>\n",
              "      <td>0</td>\n",
              "      <td>0</td>\n",
              "      <td>0</td>\n",
              "      <td>0</td>\n",
              "      <td>0</td>\n",
              "      <td>0</td>\n",
              "      <td>0</td>\n",
              "      <td>0</td>\n",
              "      <td>0</td>\n",
              "      <td>0</td>\n",
              "      <td>0</td>\n",
              "      <td>0</td>\n",
              "      <td>0</td>\n",
              "      <td>0</td>\n",
              "      <td>0</td>\n",
              "      <td>0</td>\n",
              "      <td>0</td>\n",
              "      <td>0</td>\n",
              "      <td>0</td>\n",
              "      <td>0</td>\n",
              "      <td>0</td>\n",
              "      <td>0</td>\n",
              "      <td>0</td>\n",
              "      <td>0</td>\n",
              "      <td>0</td>\n",
              "      <td>0</td>\n",
              "      <td>0</td>\n",
              "      <td>...</td>\n",
              "      <td>0</td>\n",
              "      <td>0</td>\n",
              "      <td>0</td>\n",
              "      <td>0</td>\n",
              "      <td>0</td>\n",
              "      <td>0</td>\n",
              "      <td>0</td>\n",
              "      <td>0</td>\n",
              "      <td>0</td>\n",
              "      <td>0</td>\n",
              "      <td>0</td>\n",
              "      <td>0</td>\n",
              "      <td>0</td>\n",
              "      <td>0</td>\n",
              "      <td>0</td>\n",
              "      <td>0</td>\n",
              "      <td>0</td>\n",
              "      <td>0</td>\n",
              "      <td>0</td>\n",
              "      <td>0</td>\n",
              "      <td>0</td>\n",
              "      <td>0</td>\n",
              "      <td>0</td>\n",
              "      <td>0</td>\n",
              "      <td>0</td>\n",
              "      <td>0</td>\n",
              "      <td>0</td>\n",
              "      <td>0</td>\n",
              "      <td>0</td>\n",
              "      <td>0</td>\n",
              "      <td>0</td>\n",
              "      <td>0</td>\n",
              "      <td>0</td>\n",
              "      <td>0</td>\n",
              "      <td>0</td>\n",
              "      <td>0</td>\n",
              "      <td>0</td>\n",
              "      <td>0</td>\n",
              "      <td>0</td>\n",
              "      <td>0</td>\n",
              "    </tr>\n",
              "    <tr>\n",
              "      <th>2</th>\n",
              "      <td>7</td>\n",
              "      <td>0</td>\n",
              "      <td>0</td>\n",
              "      <td>0</td>\n",
              "      <td>0</td>\n",
              "      <td>0</td>\n",
              "      <td>0</td>\n",
              "      <td>0</td>\n",
              "      <td>0</td>\n",
              "      <td>0</td>\n",
              "      <td>0</td>\n",
              "      <td>0</td>\n",
              "      <td>0</td>\n",
              "      <td>0</td>\n",
              "      <td>0</td>\n",
              "      <td>0</td>\n",
              "      <td>0</td>\n",
              "      <td>0</td>\n",
              "      <td>0</td>\n",
              "      <td>0</td>\n",
              "      <td>0</td>\n",
              "      <td>0</td>\n",
              "      <td>0</td>\n",
              "      <td>0</td>\n",
              "      <td>0</td>\n",
              "      <td>0</td>\n",
              "      <td>0</td>\n",
              "      <td>0</td>\n",
              "      <td>0</td>\n",
              "      <td>0</td>\n",
              "      <td>0</td>\n",
              "      <td>0</td>\n",
              "      <td>0</td>\n",
              "      <td>0</td>\n",
              "      <td>0</td>\n",
              "      <td>0</td>\n",
              "      <td>0</td>\n",
              "      <td>0</td>\n",
              "      <td>0</td>\n",
              "      <td>0</td>\n",
              "      <td>...</td>\n",
              "      <td>0</td>\n",
              "      <td>0</td>\n",
              "      <td>0</td>\n",
              "      <td>0</td>\n",
              "      <td>0</td>\n",
              "      <td>0</td>\n",
              "      <td>0</td>\n",
              "      <td>0</td>\n",
              "      <td>0</td>\n",
              "      <td>0</td>\n",
              "      <td>0</td>\n",
              "      <td>0</td>\n",
              "      <td>0</td>\n",
              "      <td>0</td>\n",
              "      <td>0</td>\n",
              "      <td>0</td>\n",
              "      <td>0</td>\n",
              "      <td>0</td>\n",
              "      <td>0</td>\n",
              "      <td>0</td>\n",
              "      <td>0</td>\n",
              "      <td>0</td>\n",
              "      <td>0</td>\n",
              "      <td>0</td>\n",
              "      <td>0</td>\n",
              "      <td>0</td>\n",
              "      <td>0</td>\n",
              "      <td>0</td>\n",
              "      <td>0</td>\n",
              "      <td>0</td>\n",
              "      <td>0</td>\n",
              "      <td>0</td>\n",
              "      <td>0</td>\n",
              "      <td>0</td>\n",
              "      <td>0</td>\n",
              "      <td>0</td>\n",
              "      <td>0</td>\n",
              "      <td>0</td>\n",
              "      <td>0</td>\n",
              "      <td>0</td>\n",
              "    </tr>\n",
              "    <tr>\n",
              "      <th>3</th>\n",
              "      <td>6</td>\n",
              "      <td>0</td>\n",
              "      <td>0</td>\n",
              "      <td>0</td>\n",
              "      <td>0</td>\n",
              "      <td>0</td>\n",
              "      <td>0</td>\n",
              "      <td>0</td>\n",
              "      <td>0</td>\n",
              "      <td>0</td>\n",
              "      <td>0</td>\n",
              "      <td>0</td>\n",
              "      <td>0</td>\n",
              "      <td>0</td>\n",
              "      <td>0</td>\n",
              "      <td>0</td>\n",
              "      <td>0</td>\n",
              "      <td>0</td>\n",
              "      <td>0</td>\n",
              "      <td>0</td>\n",
              "      <td>0</td>\n",
              "      <td>0</td>\n",
              "      <td>0</td>\n",
              "      <td>0</td>\n",
              "      <td>0</td>\n",
              "      <td>0</td>\n",
              "      <td>0</td>\n",
              "      <td>0</td>\n",
              "      <td>0</td>\n",
              "      <td>0</td>\n",
              "      <td>0</td>\n",
              "      <td>0</td>\n",
              "      <td>0</td>\n",
              "      <td>0</td>\n",
              "      <td>0</td>\n",
              "      <td>0</td>\n",
              "      <td>0</td>\n",
              "      <td>0</td>\n",
              "      <td>0</td>\n",
              "      <td>0</td>\n",
              "      <td>...</td>\n",
              "      <td>0</td>\n",
              "      <td>0</td>\n",
              "      <td>0</td>\n",
              "      <td>0</td>\n",
              "      <td>0</td>\n",
              "      <td>0</td>\n",
              "      <td>0</td>\n",
              "      <td>0</td>\n",
              "      <td>0</td>\n",
              "      <td>0</td>\n",
              "      <td>0</td>\n",
              "      <td>0</td>\n",
              "      <td>0</td>\n",
              "      <td>0</td>\n",
              "      <td>0</td>\n",
              "      <td>0</td>\n",
              "      <td>0</td>\n",
              "      <td>0</td>\n",
              "      <td>0</td>\n",
              "      <td>0</td>\n",
              "      <td>0</td>\n",
              "      <td>0</td>\n",
              "      <td>0</td>\n",
              "      <td>0</td>\n",
              "      <td>0</td>\n",
              "      <td>0</td>\n",
              "      <td>0</td>\n",
              "      <td>0</td>\n",
              "      <td>0</td>\n",
              "      <td>0</td>\n",
              "      <td>0</td>\n",
              "      <td>0</td>\n",
              "      <td>0</td>\n",
              "      <td>0</td>\n",
              "      <td>0</td>\n",
              "      <td>0</td>\n",
              "      <td>0</td>\n",
              "      <td>0</td>\n",
              "      <td>0</td>\n",
              "      <td>0</td>\n",
              "    </tr>\n",
              "    <tr>\n",
              "      <th>4</th>\n",
              "      <td>5</td>\n",
              "      <td>0</td>\n",
              "      <td>0</td>\n",
              "      <td>0</td>\n",
              "      <td>0</td>\n",
              "      <td>0</td>\n",
              "      <td>0</td>\n",
              "      <td>0</td>\n",
              "      <td>0</td>\n",
              "      <td>0</td>\n",
              "      <td>0</td>\n",
              "      <td>0</td>\n",
              "      <td>0</td>\n",
              "      <td>0</td>\n",
              "      <td>0</td>\n",
              "      <td>0</td>\n",
              "      <td>0</td>\n",
              "      <td>0</td>\n",
              "      <td>0</td>\n",
              "      <td>0</td>\n",
              "      <td>0</td>\n",
              "      <td>0</td>\n",
              "      <td>0</td>\n",
              "      <td>0</td>\n",
              "      <td>0</td>\n",
              "      <td>0</td>\n",
              "      <td>0</td>\n",
              "      <td>0</td>\n",
              "      <td>0</td>\n",
              "      <td>0</td>\n",
              "      <td>0</td>\n",
              "      <td>0</td>\n",
              "      <td>0</td>\n",
              "      <td>0</td>\n",
              "      <td>0</td>\n",
              "      <td>0</td>\n",
              "      <td>0</td>\n",
              "      <td>0</td>\n",
              "      <td>0</td>\n",
              "      <td>0</td>\n",
              "      <td>...</td>\n",
              "      <td>0</td>\n",
              "      <td>0</td>\n",
              "      <td>0</td>\n",
              "      <td>0</td>\n",
              "      <td>0</td>\n",
              "      <td>0</td>\n",
              "      <td>0</td>\n",
              "      <td>0</td>\n",
              "      <td>0</td>\n",
              "      <td>0</td>\n",
              "      <td>0</td>\n",
              "      <td>0</td>\n",
              "      <td>0</td>\n",
              "      <td>0</td>\n",
              "      <td>0</td>\n",
              "      <td>0</td>\n",
              "      <td>0</td>\n",
              "      <td>0</td>\n",
              "      <td>0</td>\n",
              "      <td>0</td>\n",
              "      <td>0</td>\n",
              "      <td>0</td>\n",
              "      <td>0</td>\n",
              "      <td>0</td>\n",
              "      <td>0</td>\n",
              "      <td>0</td>\n",
              "      <td>0</td>\n",
              "      <td>0</td>\n",
              "      <td>0</td>\n",
              "      <td>0</td>\n",
              "      <td>0</td>\n",
              "      <td>0</td>\n",
              "      <td>0</td>\n",
              "      <td>0</td>\n",
              "      <td>0</td>\n",
              "      <td>0</td>\n",
              "      <td>0</td>\n",
              "      <td>0</td>\n",
              "      <td>0</td>\n",
              "      <td>0</td>\n",
              "    </tr>\n",
              "  </tbody>\n",
              "</table>\n",
              "<p>5 rows × 785 columns</p>\n",
              "</div>"
            ],
            "text/plain": [
              "   label  pixel0  pixel1  pixel2  ...  pixel780  pixel781  pixel782  pixel783\n",
              "0      7       0       0       0  ...         0         0         0         0\n",
              "1      8       0       0       0  ...         0         0         0         0\n",
              "2      7       0       0       0  ...         0         0         0         0\n",
              "3      6       0       0       0  ...         0         0         0         0\n",
              "4      5       0       0       0  ...         0         0         0         0\n",
              "\n",
              "[5 rows x 785 columns]"
            ]
          },
          "metadata": {
            "tags": []
          },
          "execution_count": 5
        }
      ]
    },
    {
      "cell_type": "code",
      "metadata": {
        "execution": {
          "iopub.execute_input": "2020-09-01T03:37:23.741845Z",
          "iopub.status.busy": "2020-09-01T03:37:23.740719Z",
          "iopub.status.idle": "2020-09-01T03:37:23.745211Z",
          "shell.execute_reply": "2020-09-01T03:37:23.744524Z"
        },
        "papermill": {
          "duration": 0.162174,
          "end_time": "2020-09-01T03:37:23.745330",
          "exception": false,
          "start_time": "2020-09-01T03:37:23.583156",
          "status": "completed"
        },
        "tags": [],
        "id": "FeTLjKk2zbKJ",
        "colab_type": "code",
        "colab": {}
      },
      "source": [
        "X_train = train_data.drop('label',axis = 1).values\n",
        "y_train = train_data['label'].values\n",
        "\n",
        "X_test = test_data.iloc[:,1:].values"
      ],
      "execution_count": 4,
      "outputs": []
    },
    {
      "cell_type": "code",
      "metadata": {
        "execution": {
          "iopub.execute_input": "2020-09-01T03:37:23.759841Z",
          "iopub.status.busy": "2020-09-01T03:37:23.758887Z",
          "iopub.status.idle": "2020-09-01T03:37:23.763019Z",
          "shell.execute_reply": "2020-09-01T03:37:23.762417Z"
        },
        "papermill": {
          "duration": 0.013334,
          "end_time": "2020-09-01T03:37:23.763128",
          "exception": false,
          "start_time": "2020-09-01T03:37:23.749794",
          "status": "completed"
        },
        "tags": [],
        "id": "4jof_fxTzbKQ",
        "colab_type": "code",
        "colab": {
          "base_uri": "https://localhost:8080/",
          "height": 34
        },
        "outputId": "5adc4fcc-03cc-40e2-9943-00e6778daf88"
      },
      "source": [
        "X_train.shape, y_train.shape, X_test.shape"
      ],
      "execution_count": null,
      "outputs": [
        {
          "output_type": "execute_result",
          "data": {
            "text/plain": [
              "((42000, 784), (42000,), (18000, 784))"
            ]
          },
          "metadata": {
            "tags": []
          },
          "execution_count": 7
        }
      ]
    },
    {
      "cell_type": "code",
      "metadata": {
        "execution": {
          "iopub.execute_input": "2020-09-01T03:37:23.777993Z",
          "iopub.status.busy": "2020-09-01T03:37:23.777374Z",
          "iopub.status.idle": "2020-09-01T03:37:23.963273Z",
          "shell.execute_reply": "2020-09-01T03:37:23.962697Z"
        },
        "papermill": {
          "duration": 0.195472,
          "end_time": "2020-09-01T03:37:23.963401",
          "exception": false,
          "start_time": "2020-09-01T03:37:23.767929",
          "status": "completed"
        },
        "tags": [],
        "id": "8K9cfLKEzbKV",
        "colab_type": "code",
        "colab": {
          "base_uri": "https://localhost:8080/",
          "height": 281
        },
        "outputId": "a884d73e-87d0-4060-811e-52a6ad39b7f9"
      },
      "source": [
        "# 하나 출력해볼까!\n",
        "\n",
        "index = 0\n",
        "image = X_train[index].reshape(28,28)\n",
        "plt.imshow(image, 'gray')\n",
        "plt.title('label : {}'.format(y_train[index]))\n",
        "plt.show()"
      ],
      "execution_count": null,
      "outputs": [
        {
          "output_type": "display_data",
          "data": {
            "image/png": "[encoded data removed]",
            "text/plain": [
              "<Figure size 432x288 with 1 Axes>"
            ]
          },
          "metadata": {
            "tags": [],
            "needs_background": "light"
          }
        }
      ]
    },
    {
      "cell_type": "code",
      "metadata": {
        "execution": {
          "iopub.execute_input": "2020-09-01T03:37:23.978932Z",
          "iopub.status.busy": "2020-09-01T03:37:23.978289Z",
          "iopub.status.idle": "2020-09-01T03:37:23.982022Z",
          "shell.execute_reply": "2020-09-01T03:37:23.981416Z"
        },
        "papermill": {
          "duration": 0.014016,
          "end_time": "2020-09-01T03:37:23.982135",
          "exception": false,
          "start_time": "2020-09-01T03:37:23.968119",
          "status": "completed"
        },
        "tags": [],
        "id": "imCt9PaUzbKa",
        "colab_type": "code",
        "colab": {
          "base_uri": "https://localhost:8080/",
          "height": 70
        },
        "outputId": "804f5af1-feaf-4c05-88af-11add4ddc5f9"
      },
      "source": [
        "# 전체 784 pixel, 즉, 28*28 사이즈의 그림들임!\n",
        "\n",
        "image_size = X_train.shape[1]\n",
        "print ('image_size => {0}'.format(image_size))\n",
        "\n",
        "# in this case all images are square\n",
        "image_width = image_height = np.ceil(np.sqrt(image_size)).astype(np.uint8)\n",
        "\n",
        "print ('image_width => {0}\\nimage_height => {1}'.format(image_width,image_height))"
      ],
      "execution_count": null,
      "outputs": [
        {
          "output_type": "stream",
          "text": [
            "image_size => 784\n",
            "image_width => 28\n",
            "image_height => 28\n"
          ],
          "name": "stdout"
        }
      ]
    },
    {
      "cell_type": "code",
      "metadata": {
        "execution": {
          "iopub.execute_input": "2020-09-01T03:37:23.998051Z",
          "iopub.status.busy": "2020-09-01T03:37:23.997354Z",
          "iopub.status.idle": "2020-09-01T03:37:24.307753Z",
          "shell.execute_reply": "2020-09-01T03:37:24.306973Z"
        },
        "papermill": {
          "duration": 0.320514,
          "end_time": "2020-09-01T03:37:24.307883",
          "exception": false,
          "start_time": "2020-09-01T03:37:23.987369",
          "status": "completed"
        },
        "tags": [],
        "id": "7idLcpJJzbKi",
        "colab_type": "code",
        "colab": {
          "base_uri": "https://localhost:8080/",
          "height": 52
        },
        "outputId": "21e14d79-25bb-40a8-ceb8-4016b1029245"
      },
      "source": [
        "# scaling\n",
        "\n",
        "X_train = X_train.astype(np.float)\n",
        "X_test = X_test.astype(np.float)\n",
        "X_train /= 255\n",
        "X_test /= 255\n",
        "\n",
        "print('maximum value after scaling:', X_train.max(),\n",
        "      '\\nminimum value after scaling:' ,X_train.min())"
      ],
      "execution_count": 5,
      "outputs": [
        {
          "output_type": "stream",
          "text": [
            "maximum value after scaling: 1.0 \n",
            "minimum value after scaling: 0.0\n"
          ],
          "name": "stdout"
        }
      ]
    },
    {
      "cell_type": "code",
      "metadata": {
        "execution": {
          "iopub.execute_input": "2020-09-01T03:37:24.325082Z",
          "iopub.status.busy": "2020-09-01T03:37:24.324429Z",
          "iopub.status.idle": "2020-09-01T03:37:24.791655Z",
          "shell.execute_reply": "2020-09-01T03:37:24.790774Z"
        },
        "papermill": {
          "duration": 0.478866,
          "end_time": "2020-09-01T03:37:24.791812",
          "exception": false,
          "start_time": "2020-09-01T03:37:24.312946",
          "status": "completed"
        },
        "tags": [],
        "id": "7oSJLJy-zbKq",
        "colab_type": "code",
        "colab": {
          "base_uri": "https://localhost:8080/",
          "height": 52
        },
        "outputId": "e3a69565-d9d7-46b5-879c-71bfbf83d09f"
      },
      "source": [
        "# train test split\n",
        "\n",
        "X_train = X_train.reshape(-1, 28, 28,1)\n",
        "X_test = X_test.reshape(-1, 28, 28,1)  # CNN의 경우 flatten 하기 이전의 형태로 reshape 필요\n",
        "\n",
        "X_train, X_val, y_train, y_val = train_test_split(X_train, y_train, test_size=0.2)\n",
        "\n",
        "print(X_train.shape, y_train.shape)\n",
        "print(X_val.shape, y_val.shape)"
      ],
      "execution_count": 6,
      "outputs": [
        {
          "output_type": "stream",
          "text": [
            "(33600, 28, 28, 1) (33600,)\n",
            "(8400, 28, 28, 1) (8400,)\n"
          ],
          "name": "stdout"
        }
      ]
    },
    {
      "cell_type": "markdown",
      "metadata": {
        "papermill": {
          "duration": 0.005118,
          "end_time": "2020-09-01T03:37:24.803113",
          "exception": false,
          "start_time": "2020-09-01T03:37:24.797995",
          "status": "completed"
        },
        "tags": [],
        "id": "nBF6DB55zbKy",
        "colab_type": "text"
      },
      "source": [
        "## tensorflow keras model"
      ]
    },
    {
      "cell_type": "code",
      "metadata": {
        "execution": {
          "iopub.execute_input": "2020-09-01T03:37:24.821220Z",
          "iopub.status.busy": "2020-09-01T03:37:24.820530Z",
          "iopub.status.idle": "2020-09-01T03:37:38.222922Z",
          "shell.execute_reply": "2020-09-01T03:37:38.222384Z"
        },
        "papermill": {
          "duration": 13.414672,
          "end_time": "2020-09-01T03:37:38.223043",
          "exception": false,
          "start_time": "2020-09-01T03:37:24.808371",
          "status": "completed"
        },
        "tags": [],
        "id": "yU41VcNMzbKz",
        "colab_type": "code",
        "colab": {
          "base_uri": "https://localhost:8080/",
          "height": 228
        },
        "outputId": "e3ae7e3b-0aa0-4133-fdb3-10d459eaee96"
      },
      "source": [
        "model = keras.Sequential([\n",
        "    keras.layers.Dense(512, activation='relu'),\n",
        "    keras.layers.Dropout(0.3),\n",
        "    keras.layers.Dense(512, activation='relu'),\n",
        "    keras.layers.Dropout(0.2), \n",
        "    # dropout 대신 keras.layers.BatchNormalization() 이용 가능\n",
        "    keras.layers.Dense(10, activation='softmax')\n",
        "])\n",
        "\n",
        "model.compile(optimizer='adam',\n",
        "              loss='sparse_categorical_crossentropy',\n",
        "              metrics=['accuracy'])\n",
        "\n",
        "model.fit(X_train, y_train, epochs=5, batch_size=100)\n",
        "model.evaluate(X_val, y_val)"
      ],
      "execution_count": null,
      "outputs": [
        {
          "output_type": "stream",
          "text": [
            "Epoch 1/5\n",
            "336/336 [==============================] - 1s 2ms/step - loss: 0.2128 - accuracy: 0.9375\n",
            "Epoch 2/5\n",
            "336/336 [==============================] - 1s 2ms/step - loss: 0.0705 - accuracy: 0.9788\n",
            "Epoch 3/5\n",
            "336/336 [==============================] - 1s 2ms/step - loss: 0.0455 - accuracy: 0.9856\n",
            "Epoch 4/5\n",
            "336/336 [==============================] - 1s 2ms/step - loss: 0.0353 - accuracy: 0.9884\n",
            "Epoch 5/5\n",
            "336/336 [==============================] - 1s 2ms/step - loss: 0.0266 - accuracy: 0.9914\n",
            "263/263 [==============================] - 0s 2ms/step - loss: 0.0502 - accuracy: 0.9868\n"
          ],
          "name": "stdout"
        },
        {
          "output_type": "execute_result",
          "data": {
            "text/plain": [
              "[0.050178878009319305, 0.9867857098579407]"
            ]
          },
          "metadata": {
            "tags": []
          },
          "execution_count": 8
        }
      ]
    },
    {
      "cell_type": "markdown",
      "metadata": {
        "id": "pwbvcNw2KVgd",
        "colab_type": "text"
      },
      "source": [
        "기본 코드로는 0.9867의 정확도가 나온다."
      ]
    },
    {
      "cell_type": "code",
      "metadata": {
        "execution": {
          "iopub.execute_input": "2020-09-01T03:37:24.821220Z",
          "iopub.status.busy": "2020-09-01T03:37:24.820530Z",
          "iopub.status.idle": "2020-09-01T03:37:38.222922Z",
          "shell.execute_reply": "2020-09-01T03:37:38.222384Z"
        },
        "papermill": {
          "duration": 13.414672,
          "end_time": "2020-09-01T03:37:38.223043",
          "exception": false,
          "start_time": "2020-09-01T03:37:24.808371",
          "status": "completed"
        },
        "tags": [],
        "colab_type": "code",
        "id": "hYuS5VT_AeJX",
        "colab": {
          "base_uri": "https://localhost:8080/",
          "height": 228
        },
        "outputId": "9393ed81-558b-4ebd-f02f-d5a1bca0b9d4"
      },
      "source": [
        "model = keras.Sequential([\n",
        "    keras.layers.Dense(512, activation='relu', kernel_initializer='he_uniform'),\n",
        "    keras.layers.Dropout(0.3),\n",
        "    keras.layers.Dense(512, activation='relu', kernel_initializer='he_uniform'),\n",
        "    keras.layers.Dropout(0.2), \n",
        "    # dropout 대신 keras.layers.BatchNormalization() 이용 가능\n",
        "    keras.layers.Dense(10, activation='softmax', kernel_initializer='glorot_uniform')\n",
        "])\n",
        "\n",
        "model.compile(optimizer='adam',\n",
        "              loss='sparse_categorical_crossentropy',\n",
        "              metrics=['accuracy'])\n",
        "\n",
        "model.fit(X_train, y_train, epochs=5, batch_size=100)\n",
        "model.evaluate(X_val, y_val)"
      ],
      "execution_count": null,
      "outputs": [
        {
          "output_type": "stream",
          "text": [
            "Epoch 1/5\n",
            "336/336 [==============================] - 1s 2ms/step - loss: 0.2175 - accuracy: 0.9349\n",
            "Epoch 2/5\n",
            "336/336 [==============================] - 1s 2ms/step - loss: 0.0742 - accuracy: 0.9764\n",
            "Epoch 3/5\n",
            "336/336 [==============================] - 1s 2ms/step - loss: 0.0492 - accuracy: 0.9851\n",
            "Epoch 4/5\n",
            "336/336 [==============================] - 1s 2ms/step - loss: 0.0321 - accuracy: 0.9899\n",
            "Epoch 5/5\n",
            "336/336 [==============================] - 1s 2ms/step - loss: 0.0268 - accuracy: 0.9912\n",
            "263/263 [==============================] - 0s 2ms/step - loss: 0.0509 - accuracy: 0.9857\n"
          ],
          "name": "stdout"
        },
        {
          "output_type": "execute_result",
          "data": {
            "text/plain": [
              "[0.05087374895811081, 0.9857142567634583]"
            ]
          },
          "metadata": {
            "tags": []
          },
          "execution_count": 9
        }
      ]
    },
    {
      "cell_type": "markdown",
      "metadata": {
        "id": "PaO3Z7iREYaA",
        "colab_type": "text"
      },
      "source": [
        "weight initializer를 명시해주는 건 성능의 효과를 보이지 않았다."
      ]
    },
    {
      "cell_type": "code",
      "metadata": {
        "execution": {
          "iopub.execute_input": "2020-09-01T03:37:24.821220Z",
          "iopub.status.busy": "2020-09-01T03:37:24.820530Z",
          "iopub.status.idle": "2020-09-01T03:37:38.222922Z",
          "shell.execute_reply": "2020-09-01T03:37:38.222384Z"
        },
        "papermill": {
          "duration": 13.414672,
          "end_time": "2020-09-01T03:37:38.223043",
          "exception": false,
          "start_time": "2020-09-01T03:37:24.808371",
          "status": "completed"
        },
        "tags": [],
        "colab_type": "code",
        "id": "XLUjlSmTC01H",
        "colab": {
          "base_uri": "https://localhost:8080/",
          "height": 228
        },
        "outputId": "16c89063-7f1c-47ec-ea56-c93abc2e718e"
      },
      "source": [
        "model = keras.Sequential([\n",
        "    keras.layers.Dense(512, activation='relu'),\n",
        "    keras.layers.BatchNormalization(),\n",
        "    keras.layers.Dense(512, activation='relu'),\n",
        "    keras.layers.BatchNormalization(), \n",
        "    keras.layers.Dense(10, activation='softmax')\n",
        "])\n",
        "\n",
        "model.compile(optimizer='adam',\n",
        "              loss='sparse_categorical_crossentropy',\n",
        "              metrics=['accuracy'])\n",
        "\n",
        "model.fit(X_train, y_train, epochs=5, batch_size=100)\n",
        "model.evaluate(X_val, y_val)"
      ],
      "execution_count": null,
      "outputs": [
        {
          "output_type": "stream",
          "text": [
            "Epoch 1/5\n",
            "336/336 [==============================] - 1s 3ms/step - loss: 0.1453 - accuracy: 0.9557\n",
            "Epoch 2/5\n",
            "336/336 [==============================] - 1s 3ms/step - loss: 0.0387 - accuracy: 0.9883\n",
            "Epoch 3/5\n",
            "336/336 [==============================] - 1s 3ms/step - loss: 0.0202 - accuracy: 0.9934\n",
            "Epoch 4/5\n",
            "336/336 [==============================] - 1s 2ms/step - loss: 0.0149 - accuracy: 0.9952\n",
            "Epoch 5/5\n",
            "336/336 [==============================] - 1s 2ms/step - loss: 0.0155 - accuracy: 0.9951\n",
            "263/263 [==============================] - 0s 2ms/step - loss: 0.0604 - accuracy: 0.9840\n"
          ],
          "name": "stdout"
        },
        {
          "output_type": "execute_result",
          "data": {
            "text/plain": [
              "[0.06044118478894234, 0.9840475916862488]"
            ]
          },
          "metadata": {
            "tags": []
          },
          "execution_count": 38
        }
      ]
    },
    {
      "cell_type": "markdown",
      "metadata": {
        "id": "W6YSAJEDFCEY",
        "colab_type": "text"
      },
      "source": [
        "Dropout을 빼고 BatchNormalization을 넣은 것도 효과를 보이지 않았다."
      ]
    },
    {
      "cell_type": "code",
      "metadata": {
        "execution": {
          "iopub.execute_input": "2020-09-01T03:37:24.821220Z",
          "iopub.status.busy": "2020-09-01T03:37:24.820530Z",
          "iopub.status.idle": "2020-09-01T03:37:38.222922Z",
          "shell.execute_reply": "2020-09-01T03:37:38.222384Z"
        },
        "papermill": {
          "duration": 13.414672,
          "end_time": "2020-09-01T03:37:38.223043",
          "exception": false,
          "start_time": "2020-09-01T03:37:24.808371",
          "status": "completed"
        },
        "tags": [],
        "colab_type": "code",
        "id": "O0edwT3AF4ka",
        "colab": {
          "base_uri": "https://localhost:8080/",
          "height": 228
        },
        "outputId": "9f3dd5a2-2717-4e5f-9a4a-055ede45f122"
      },
      "source": [
        "model = keras.Sequential([\n",
        "    keras.layers.Dense(512, activation='relu'),\n",
        "    keras.layers.Dropout(0.2),\n",
        "    keras.layers.Dense(256, activation='relu'),\n",
        "    keras.layers.Dropout(0.2),\n",
        "    keras.layers.Dense(128, activation='relu'),\n",
        "    keras.layers.Dropout(0.2),\n",
        "    keras.layers.Dense(64, activation='relu'),\n",
        "    keras.layers.Dropout(0.2), \n",
        "    keras.layers.Dense(10, activation='softmax')\n",
        "])\n",
        "\n",
        "model.compile(optimizer='adam',\n",
        "              loss='sparse_categorical_crossentropy',\n",
        "              metrics=['accuracy'])\n",
        "\n",
        "model.fit(X_train, y_train, epochs=5, batch_size=100)\n",
        "model.evaluate(X_val, y_val)"
      ],
      "execution_count": null,
      "outputs": [
        {
          "output_type": "stream",
          "text": [
            "Epoch 1/5\n",
            "336/336 [==============================] - 1s 2ms/step - loss: 0.3007 - accuracy: 0.9094\n",
            "Epoch 2/5\n",
            "336/336 [==============================] - 1s 2ms/step - loss: 0.0992 - accuracy: 0.9729\n",
            "Epoch 3/5\n",
            "336/336 [==============================] - 1s 2ms/step - loss: 0.0637 - accuracy: 0.9822\n",
            "Epoch 4/5\n",
            "336/336 [==============================] - 1s 2ms/step - loss: 0.0479 - accuracy: 0.9854\n",
            "Epoch 5/5\n",
            "336/336 [==============================] - 1s 2ms/step - loss: 0.0350 - accuracy: 0.9895\n",
            "263/263 [==============================] - 0s 2ms/step - loss: 0.0552 - accuracy: 0.9861\n"
          ],
          "name": "stdout"
        },
        {
          "output_type": "execute_result",
          "data": {
            "text/plain": [
              "[0.055190276354551315, 0.9860714077949524]"
            ]
          },
          "metadata": {
            "tags": []
          },
          "execution_count": 19
        }
      ]
    },
    {
      "cell_type": "markdown",
      "metadata": {
        "id": "hqxTBbIBHNYq",
        "colab_type": "text"
      },
      "source": [
        "단순히 Dense 층이 깊어진다고 정확도가 높아지진 않는 것을 확인하였다."
      ]
    },
    {
      "cell_type": "code",
      "metadata": {
        "execution": {
          "iopub.execute_input": "2020-09-01T03:37:24.821220Z",
          "iopub.status.busy": "2020-09-01T03:37:24.820530Z",
          "iopub.status.idle": "2020-09-01T03:37:38.222922Z",
          "shell.execute_reply": "2020-09-01T03:37:38.222384Z"
        },
        "papermill": {
          "duration": 13.414672,
          "end_time": "2020-09-01T03:37:38.223043",
          "exception": false,
          "start_time": "2020-09-01T03:37:24.808371",
          "status": "completed"
        },
        "tags": [],
        "colab_type": "code",
        "id": "d1dKIYKmGvnW",
        "colab": {
          "base_uri": "https://localhost:8080/",
          "height": 228
        },
        "outputId": "5d79f82e-ed13-4d86-bb8e-ec16034795f6"
      },
      "source": [
        "from keras.layers.advanced_activations import ELU\n",
        "\n",
        "model = keras.Sequential([\n",
        "    keras.layers.Dense(512, activation=ELU()),\n",
        "    keras.layers.Dropout(0.3),\n",
        "    keras.layers.Dense(512, activation=ELU()),\n",
        "    keras.layers.Dropout(0.2), \n",
        "    keras.layers.Dense(10, activation='softmax')\n",
        "])\n",
        "\n",
        "model.compile(optimizer='adam',\n",
        "              loss='sparse_categorical_crossentropy',\n",
        "              metrics=['accuracy'])\n",
        "\n",
        "model.fit(X_train, y_train, epochs=5, batch_size=100)\n",
        "model.evaluate(X_val, y_val)"
      ],
      "execution_count": null,
      "outputs": [
        {
          "output_type": "stream",
          "text": [
            "Epoch 1/5\n",
            "336/336 [==============================] - 1s 2ms/step - loss: 0.2176 - accuracy: 0.9346\n",
            "Epoch 2/5\n",
            "336/336 [==============================] - 1s 2ms/step - loss: 0.1132 - accuracy: 0.9654\n",
            "Epoch 3/5\n",
            "336/336 [==============================] - 1s 2ms/step - loss: 0.0859 - accuracy: 0.9731\n",
            "Epoch 4/5\n",
            "336/336 [==============================] - 1s 2ms/step - loss: 0.0679 - accuracy: 0.9782\n",
            "Epoch 5/5\n",
            "336/336 [==============================] - 1s 2ms/step - loss: 0.0577 - accuracy: 0.9804\n",
            "263/263 [==============================] - 0s 2ms/step - loss: 0.0774 - accuracy: 0.9781\n"
          ],
          "name": "stdout"
        },
        {
          "output_type": "execute_result",
          "data": {
            "text/plain": [
              "[0.07742299139499664, 0.9780952334403992]"
            ]
          },
          "metadata": {
            "tags": []
          },
          "execution_count": 20
        }
      ]
    },
    {
      "cell_type": "markdown",
      "metadata": {
        "id": "DT8iFbHjIpZX",
        "colab_type": "text"
      },
      "source": [
        "ELU도 ReLU보다 낮은 정확도를 보인다. 의미없다.\n"
      ]
    },
    {
      "cell_type": "code",
      "metadata": {
        "execution": {
          "iopub.execute_input": "2020-09-01T03:37:24.821220Z",
          "iopub.status.busy": "2020-09-01T03:37:24.820530Z",
          "iopub.status.idle": "2020-09-01T03:37:38.222922Z",
          "shell.execute_reply": "2020-09-01T03:37:38.222384Z"
        },
        "papermill": {
          "duration": 13.414672,
          "end_time": "2020-09-01T03:37:38.223043",
          "exception": false,
          "start_time": "2020-09-01T03:37:24.808371",
          "status": "completed"
        },
        "tags": [],
        "colab_type": "code",
        "id": "X_1d3vXZKDmI",
        "colab": {
          "base_uri": "https://localhost:8080/",
          "height": 756
        },
        "outputId": "7dca7370-a7e1-47ae-cf68-6779f83cbc7b"
      },
      "source": [
        "model = keras.Sequential([\n",
        "    keras.layers.Dense(512, activation='relu'),\n",
        "    keras.layers.Dropout(0.3),\n",
        "    keras.layers.Dense(128, activation='relu'),\n",
        "    keras.layers.Dropout(0.2), \n",
        "    keras.layers.Dense(10, activation='softmax')\n",
        "])\n",
        "\n",
        "model.compile(optimizer='adam',\n",
        "              loss='sparse_categorical_crossentropy',\n",
        "              metrics=['accuracy'])\n",
        "\n",
        "model.fit(X_train, y_train, epochs=20, batch_size=256)\n",
        "model.evaluate(X_val, y_val)"
      ],
      "execution_count": null,
      "outputs": [
        {
          "output_type": "stream",
          "text": [
            "Epoch 1/20\n",
            "132/132 [==============================] - 0s 3ms/step - loss: 0.3436 - accuracy: 0.9021\n",
            "Epoch 2/20\n",
            "132/132 [==============================] - 0s 3ms/step - loss: 0.1069 - accuracy: 0.9680\n",
            "Epoch 3/20\n",
            "132/132 [==============================] - 0s 3ms/step - loss: 0.0752 - accuracy: 0.9778\n",
            "Epoch 4/20\n",
            "132/132 [==============================] - 0s 3ms/step - loss: 0.0559 - accuracy: 0.9837\n",
            "Epoch 5/20\n",
            "132/132 [==============================] - 0s 3ms/step - loss: 0.0405 - accuracy: 0.9882\n",
            "Epoch 6/20\n",
            "132/132 [==============================] - 0s 3ms/step - loss: 0.0323 - accuracy: 0.9902\n",
            "Epoch 7/20\n",
            "132/132 [==============================] - 0s 3ms/step - loss: 0.0252 - accuracy: 0.9926\n",
            "Epoch 8/20\n",
            "132/132 [==============================] - 0s 3ms/step - loss: 0.0215 - accuracy: 0.9934\n",
            "Epoch 9/20\n",
            "132/132 [==============================] - 0s 3ms/step - loss: 0.0165 - accuracy: 0.9948\n",
            "Epoch 10/20\n",
            "132/132 [==============================] - 0s 3ms/step - loss: 0.0155 - accuracy: 0.9954\n",
            "Epoch 11/20\n",
            "132/132 [==============================] - 0s 3ms/step - loss: 0.0144 - accuracy: 0.9958\n",
            "Epoch 12/20\n",
            "132/132 [==============================] - 0s 3ms/step - loss: 0.0114 - accuracy: 0.9967\n",
            "Epoch 13/20\n",
            "132/132 [==============================] - 0s 3ms/step - loss: 0.0089 - accuracy: 0.9974\n",
            "Epoch 14/20\n",
            "132/132 [==============================] - 0s 3ms/step - loss: 0.0079 - accuracy: 0.9976\n",
            "Epoch 15/20\n",
            "132/132 [==============================] - 0s 3ms/step - loss: 0.0066 - accuracy: 0.9977\n",
            "Epoch 16/20\n",
            "132/132 [==============================] - 0s 3ms/step - loss: 0.0067 - accuracy: 0.9978\n",
            "Epoch 17/20\n",
            "132/132 [==============================] - 0s 3ms/step - loss: 0.0073 - accuracy: 0.9979\n",
            "Epoch 18/20\n",
            "132/132 [==============================] - 0s 3ms/step - loss: 0.0077 - accuracy: 0.9974\n",
            "Epoch 19/20\n",
            "132/132 [==============================] - 0s 3ms/step - loss: 0.0069 - accuracy: 0.9980\n",
            "Epoch 20/20\n",
            "132/132 [==============================] - 0s 3ms/step - loss: 0.0041 - accuracy: 0.9989\n",
            "263/263 [==============================] - 0s 2ms/step - loss: 0.0598 - accuracy: 0.9871\n"
          ],
          "name": "stdout"
        },
        {
          "output_type": "execute_result",
          "data": {
            "text/plain": [
              "[0.059833232313394547, 0.9871428608894348]"
            ]
          },
          "metadata": {
            "tags": []
          },
          "execution_count": 23
        }
      ]
    },
    {
      "cell_type": "code",
      "metadata": {
        "execution": {
          "iopub.execute_input": "2020-09-01T03:37:24.821220Z",
          "iopub.status.busy": "2020-09-01T03:37:24.820530Z",
          "iopub.status.idle": "2020-09-01T03:37:38.222922Z",
          "shell.execute_reply": "2020-09-01T03:37:38.222384Z"
        },
        "papermill": {
          "duration": 13.414672,
          "end_time": "2020-09-01T03:37:38.223043",
          "exception": false,
          "start_time": "2020-09-01T03:37:24.808371",
          "status": "completed"
        },
        "tags": [],
        "colab_type": "code",
        "id": "HiblXXyMLhvk",
        "colab": {
          "base_uri": "https://localhost:8080/",
          "height": 756
        },
        "outputId": "aaaade58-e18e-4fbd-fda2-c458d1cccae9"
      },
      "source": [
        "model = keras.Sequential([\n",
        "    keras.layers.Dense(512, activation='relu'),\n",
        "    keras.layers.Dropout(0.3),\n",
        "    keras.layers.Dense(128, activation='relu'),\n",
        "    keras.layers.Dropout(0.2), \n",
        "    keras.layers.Dense(10, activation='softmax')\n",
        "])\n",
        "\n",
        "model.compile(optimizer='adam',\n",
        "              loss='sparse_categorical_crossentropy',\n",
        "              metrics=['accuracy'])\n",
        "\n",
        "model.fit(X_train, y_train, epochs=20, batch_size=64)\n",
        "model.evaluate(X_val, y_val)"
      ],
      "execution_count": null,
      "outputs": [
        {
          "output_type": "stream",
          "text": [
            "Epoch 1/20\n",
            "525/525 [==============================] - 1s 2ms/step - loss: 0.2122 - accuracy: 0.9390\n",
            "Epoch 2/20\n",
            "525/525 [==============================] - 1s 2ms/step - loss: 0.0773 - accuracy: 0.9768\n",
            "Epoch 3/20\n",
            "525/525 [==============================] - 1s 2ms/step - loss: 0.0508 - accuracy: 0.9851\n",
            "Epoch 4/20\n",
            "525/525 [==============================] - 1s 2ms/step - loss: 0.0372 - accuracy: 0.9884\n",
            "Epoch 5/20\n",
            "525/525 [==============================] - 1s 2ms/step - loss: 0.0288 - accuracy: 0.9907\n",
            "Epoch 6/20\n",
            "525/525 [==============================] - 1s 2ms/step - loss: 0.0252 - accuracy: 0.9920\n",
            "Epoch 7/20\n",
            "525/525 [==============================] - 1s 2ms/step - loss: 0.0204 - accuracy: 0.9936\n",
            "Epoch 8/20\n",
            "525/525 [==============================] - 1s 2ms/step - loss: 0.0165 - accuracy: 0.9946\n",
            "Epoch 9/20\n",
            "525/525 [==============================] - 1s 2ms/step - loss: 0.0167 - accuracy: 0.9944\n",
            "Epoch 10/20\n",
            "525/525 [==============================] - 1s 2ms/step - loss: 0.0158 - accuracy: 0.9948\n",
            "Epoch 11/20\n",
            "525/525 [==============================] - 1s 2ms/step - loss: 0.0154 - accuracy: 0.9950\n",
            "Epoch 12/20\n",
            "525/525 [==============================] - 1s 2ms/step - loss: 0.0100 - accuracy: 0.9965\n",
            "Epoch 13/20\n",
            "525/525 [==============================] - 1s 2ms/step - loss: 0.0153 - accuracy: 0.9955\n",
            "Epoch 14/20\n",
            "525/525 [==============================] - 1s 2ms/step - loss: 0.0093 - accuracy: 0.9970\n",
            "Epoch 15/20\n",
            "525/525 [==============================] - 1s 2ms/step - loss: 0.0095 - accuracy: 0.9968\n",
            "Epoch 16/20\n",
            "525/525 [==============================] - 1s 2ms/step - loss: 0.0099 - accuracy: 0.9967\n",
            "Epoch 17/20\n",
            "525/525 [==============================] - 1s 2ms/step - loss: 0.0117 - accuracy: 0.9960\n",
            "Epoch 18/20\n",
            "525/525 [==============================] - 1s 2ms/step - loss: 0.0073 - accuracy: 0.9976\n",
            "Epoch 19/20\n",
            "525/525 [==============================] - 1s 2ms/step - loss: 0.0058 - accuracy: 0.9982\n",
            "Epoch 20/20\n",
            "525/525 [==============================] - 1s 2ms/step - loss: 0.0104 - accuracy: 0.9966\n",
            "263/263 [==============================] - 0s 2ms/step - loss: 0.0651 - accuracy: 0.9892\n"
          ],
          "name": "stdout"
        },
        {
          "output_type": "execute_result",
          "data": {
            "text/plain": [
              "[0.06510520726442337, 0.9891666769981384]"
            ]
          },
          "metadata": {
            "tags": []
          },
          "execution_count": 25
        }
      ]
    },
    {
      "cell_type": "markdown",
      "metadata": {
        "id": "2bL9ARNyL1fi",
        "colab_type": "text"
      },
      "source": [
        "두번째 hidden layer output 개수는 128로 두고 epoch는 20으로 높여주었다.\n",
        "\n",
        "batch_size는 보통 64~512 사이가 적절하다고 하여 256과 64로 돌려본 결과 64일 때 정확도 0.9891로 가장 좋은 결과를 보였다."
      ]
    },
    {
      "cell_type": "markdown",
      "metadata": {
        "id": "Az65YTB6MHeI",
        "colab_type": "text"
      },
      "source": [
        "기본 코드에서 다양하게 변화를 시도해보았지만 최대 정확도는 0.9891로 0.99를 넘지 못하는 한계를 보였다. 이유가 무엇일까? 이는 단순한 FC layer 구조의 한계라고 판단했다.\n",
        "\n",
        "더 좋은 성능을 내보고자 구글링과 13기 우수코드를 참고한 결과 CNN 구조가 들어가야 한다는 것을 깨달았다. 아래는 우수코드 및 캐글 자료에서 코드 뼈대를 가져와 돌려본 결과이다.\n",
        "\n",
        "(필수 옵션 이외의 부가적인 옵션은 제외하고 뼈대만 추가하였다.)\n",
        "\n",
        "참고로 CNN 구조로 돌리기 위해선 X 데이터가 flat하지 않도록 reshape해줘야 한다. (위 코드에 split하기 전에 남겨두었다.)"
      ]
    },
    {
      "cell_type": "markdown",
      "metadata": {
        "id": "374z-BCUO-gq",
        "colab_type": "text"
      },
      "source": [
        "지난 기수 우수 과제 코드와 해당 캐글 자료를 참고하였다.\n",
        "\n",
        "(13기 우수 코드)\n",
        " https://github.com/tobigs-datamarket/tobigs-13th/blob/master/7wk_%EC%8B%A0%EA%B2%BD%EB%A7%9D%EC%8B%AC%ED%99%94/%EC%8B%A0%EA%B2%BD%EB%A7%9D%EC%8B%AC%ED%99%94_13%EA%B8%B0%20%EC%A1%B0%EC%83%81%EC%97%B0.ipynb\n",
        "\n",
        "(캐글 자료)\n",
        " https://www.kaggle.com/benanakca/kannada-mnist-cnn-tutorial-with-app-top-2\n",
        "\n",
        " CNN layer 구조가 추가되니 확연히 높아진 정확도를 낼 수 있었다. BatchNormalization()에서 다른 옵션들은 제외하고 gamma_initializer=\"normal\"로 변경한 결과 아주 미세하게 더 높은 결과를 얻었다."
      ]
    },
    {
      "cell_type": "code",
      "metadata": {
        "colab_type": "code",
        "id": "YrT-02Gi-y9r",
        "colab": {
          "base_uri": "https://localhost:8080/",
          "height": 794
        },
        "outputId": "69295eab-ba03-4c45-c2b6-766d78a2b6db"
      },
      "source": [
        "model = keras.models.Sequential([\n",
        "    keras.layers.Conv2D(64, (3,3), padding='same', input_shape=(28, 28, 1)),\n",
        "    keras.layers.BatchNormalization(gamma_initializer=\"normal\"),\n",
        "    keras.layers.ReLU(),\n",
        "    keras.layers.Conv2D(64,  (3,3), padding='same'),\n",
        "    keras.layers.BatchNormalization(gamma_initializer=\"normal\"),\n",
        "    keras.layers.ReLU(),\n",
        "    keras.layers.Conv2D(64,  (3,3), padding='same'),\n",
        "    keras.layers.BatchNormalization(gamma_initializer=\"normal\"),\n",
        "    keras.layers.ReLU(),\n",
        "\n",
        "    keras.layers.MaxPooling2D(2, 2),\n",
        "\n",
        "    keras.layers.Conv2D(128, (3,3), padding='same'),\n",
        "    keras.layers.BatchNormalization(gamma_initializer=\"normal\"),\n",
        "    keras.layers.ReLU(),\n",
        "    keras.layers.Conv2D(128,  (3,3), padding='same'),\n",
        "    keras.layers.BatchNormalization(gamma_initializer=\"normal\"),\n",
        "    keras.layers.ReLU(),\n",
        "    keras.layers.Conv2D(128,  (3,3), padding='same'),\n",
        "    keras.layers.BatchNormalization(gamma_initializer=\"normal\"),\n",
        "    keras.layers.ReLU(),\n",
        "    \n",
        "    keras.layers.MaxPooling2D(2,2),\n",
        "    \n",
        "    keras.layers.Conv2D(256, (3,3), padding='same'),\n",
        "    keras.layers.BatchNormalization(gamma_initializer=\"normal\"),\n",
        "    keras.layers.ReLU(),\n",
        "    keras.layers.Conv2D(256,  (3,3), padding='same'),\n",
        "    keras.layers.BatchNormalization(gamma_initializer=\"normal\"),\n",
        "    keras.layers.ReLU(),\n",
        "   \n",
        "    keras.layers.MaxPooling2D(2,2),\n",
        "\n",
        "    keras.layers.Conv2D(512, (3,3), padding='same'),\n",
        "    keras.layers.BatchNormalization(gamma_initializer=\"normal\"),\n",
        "    keras.layers.ReLU(),\n",
        "    \n",
        "    keras.layers.MaxPooling2D(2,2),\n",
        "\n",
        "\n",
        "\n",
        "    keras.layers.Flatten(),\n",
        "    keras.layers.Dense(1024),\n",
        "    keras.layers.ReLU(),\n",
        "    keras.layers.BatchNormalization(gamma_initializer=\"normal\"),\n",
        "    keras.layers.Dropout(0.2),\n",
        "\n",
        "    keras.layers.Dense(10, activation='softmax')\n",
        "])\n",
        "\n",
        "model.compile(optimizer='adam',\n",
        "              loss='sparse_categorical_crossentropy',\n",
        "              metrics=['accuracy'])\n",
        "\n",
        "model.fit(X_train, y_train, epochs=20, batch_size=256)\n",
        "model.evaluate(X_val, y_val)"
      ],
      "execution_count": null,
      "outputs": [
        {
          "output_type": "stream",
          "text": [
            "Epoch 1/20\n",
            "  2/132 [..............................] - ETA: 10s - loss: 2.2920 - accuracy: 0.2773WARNING:tensorflow:Callbacks method `on_train_batch_end` is slow compared to the batch time (batch time: 0.0366s vs `on_train_batch_end` time: 0.0620s). Check your callbacks.\n",
            "132/132 [==============================] - 10s 74ms/step - loss: 0.3355 - accuracy: 0.9657\n",
            "Epoch 2/20\n",
            "132/132 [==============================] - 10s 74ms/step - loss: 0.0237 - accuracy: 0.9943\n",
            "Epoch 3/20\n",
            "132/132 [==============================] - 10s 74ms/step - loss: 0.0154 - accuracy: 0.9960\n",
            "Epoch 4/20\n",
            "132/132 [==============================] - 10s 74ms/step - loss: 0.0117 - accuracy: 0.9968\n",
            "Epoch 5/20\n",
            "132/132 [==============================] - 10s 74ms/step - loss: 0.0085 - accuracy: 0.9974\n",
            "Epoch 6/20\n",
            "132/132 [==============================] - 10s 74ms/step - loss: 0.0074 - accuracy: 0.9979\n",
            "Epoch 7/20\n",
            "132/132 [==============================] - 10s 74ms/step - loss: 0.0067 - accuracy: 0.9980\n",
            "Epoch 8/20\n",
            "132/132 [==============================] - 10s 74ms/step - loss: 0.0077 - accuracy: 0.9980\n",
            "Epoch 9/20\n",
            "132/132 [==============================] - 10s 74ms/step - loss: 0.0048 - accuracy: 0.9984\n",
            "Epoch 10/20\n",
            "132/132 [==============================] - 10s 74ms/step - loss: 0.0031 - accuracy: 0.9992\n",
            "Epoch 11/20\n",
            "132/132 [==============================] - 10s 75ms/step - loss: 0.0028 - accuracy: 0.9993\n",
            "Epoch 12/20\n",
            "132/132 [==============================] - 10s 74ms/step - loss: 8.8978e-04 - accuracy: 0.9998\n",
            "Epoch 13/20\n",
            "132/132 [==============================] - 10s 74ms/step - loss: 7.8527e-04 - accuracy: 0.9998\n",
            "Epoch 14/20\n",
            "132/132 [==============================] - 10s 75ms/step - loss: 0.0023 - accuracy: 0.9994\n",
            "Epoch 15/20\n",
            "132/132 [==============================] - 10s 75ms/step - loss: 0.0014 - accuracy: 0.9995\n",
            "Epoch 16/20\n",
            "132/132 [==============================] - 10s 75ms/step - loss: 0.0053 - accuracy: 0.9984\n",
            "Epoch 17/20\n",
            "132/132 [==============================] - 10s 75ms/step - loss: 0.0037 - accuracy: 0.9989\n",
            "Epoch 18/20\n",
            "132/132 [==============================] - 10s 75ms/step - loss: 0.0029 - accuracy: 0.9990\n",
            "Epoch 19/20\n",
            "132/132 [==============================] - 10s 75ms/step - loss: 0.0019 - accuracy: 0.9995\n",
            "Epoch 20/20\n",
            "132/132 [==============================] - 10s 75ms/step - loss: 0.0040 - accuracy: 0.9987\n",
            "263/263 [==============================] - 1s 5ms/step - loss: 0.0229 - accuracy: 0.9944\n"
          ],
          "name": "stdout"
        },
        {
          "output_type": "execute_result",
          "data": {
            "text/plain": [
              "[0.02294524386525154, 0.9944047331809998]"
            ]
          },
          "metadata": {
            "tags": []
          },
          "execution_count": 50
        }
      ]
    },
    {
      "cell_type": "markdown",
      "metadata": {
        "id": "YZoo8GHLRJ91",
        "colab_type": "text"
      },
      "source": [
        "또 다른 캐글 자료도 참고하였다.\n",
        "\n",
        "https://www.kaggle.com/cdeotte/how-to-choose-cnn-architecture-mnist\n",
        "\n",
        "위에서 돌려본 CNN보다 구조가 더 간단하고 속도도 개선되었는데 성능은 비슷하게 높게 나오는 것을 확인하였다."
      ]
    },
    {
      "cell_type": "code",
      "metadata": {
        "id": "B-f9DBUW0mYE",
        "colab_type": "code",
        "colab": {
          "base_uri": "https://localhost:8080/",
          "height": 756
        },
        "outputId": "b78c0272-5ce8-4926-fa6c-083d85004f30"
      },
      "source": [
        "model = keras.models.Sequential([\n",
        "    keras.layers.Conv2D(32, (3,3), activation='relu', input_shape=(28,28,1)),\n",
        "    keras.layers.BatchNormalization(),\n",
        "    keras.layers.Conv2D(32, (3,3), activation='relu'),\n",
        "    keras.layers.BatchNormalization(),\n",
        "    keras.layers.Conv2D(32, (3,3), activation='relu'),\n",
        "    keras.layers.BatchNormalization(),\n",
        "    keras.layers.Dropout(0.4),\n",
        "\n",
        "    keras.layers.Conv2D(64, (3,3), activation='relu'),\n",
        "    keras.layers.BatchNormalization(),\n",
        "    keras.layers.Conv2D(64, (3,3), activation='relu'),\n",
        "    keras.layers.BatchNormalization(),\n",
        "    keras.layers.Conv2D(64, (3,3), activation='relu'),\n",
        "    keras.layers.BatchNormalization(),\n",
        "    keras.layers.Dropout(0.4),\n",
        "\n",
        "    keras.layers.Flatten(),\n",
        "    keras.layers.Dense(128, activation='relu'),\n",
        "    keras.layers.BatchNormalization(),\n",
        "    keras.layers.Dropout(0.4),\n",
        "\n",
        "    keras.layers.Dense(10, activation='softmax')\n",
        "])\n",
        "\n",
        "model.compile(optimizer='adam',\n",
        "              loss='sparse_categorical_crossentropy',\n",
        "              metrics=['accuracy'])\n",
        "\n",
        "model.fit(X_train, y_train, epochs=20, batch_size=256)\n",
        "model.evaluate(X_val, y_val)"
      ],
      "execution_count": 14,
      "outputs": [
        {
          "output_type": "stream",
          "text": [
            "Epoch 1/20\n",
            "132/132 [==============================] - 4s 32ms/step - loss: 0.1641 - accuracy: 0.9506\n",
            "Epoch 2/20\n",
            "132/132 [==============================] - 4s 32ms/step - loss: 0.0377 - accuracy: 0.9892\n",
            "Epoch 3/20\n",
            "132/132 [==============================] - 4s 32ms/step - loss: 0.0271 - accuracy: 0.9919\n",
            "Epoch 4/20\n",
            "132/132 [==============================] - 4s 32ms/step - loss: 0.0190 - accuracy: 0.9944\n",
            "Epoch 5/20\n",
            "132/132 [==============================] - 4s 32ms/step - loss: 0.0170 - accuracy: 0.9950\n",
            "Epoch 6/20\n",
            "132/132 [==============================] - 4s 32ms/step - loss: 0.0155 - accuracy: 0.9954\n",
            "Epoch 7/20\n",
            "132/132 [==============================] - 4s 32ms/step - loss: 0.0127 - accuracy: 0.9961\n",
            "Epoch 8/20\n",
            "132/132 [==============================] - 4s 32ms/step - loss: 0.0111 - accuracy: 0.9968\n",
            "Epoch 9/20\n",
            "132/132 [==============================] - 4s 33ms/step - loss: 0.0086 - accuracy: 0.9977\n",
            "Epoch 10/20\n",
            "132/132 [==============================] - 4s 32ms/step - loss: 0.0086 - accuracy: 0.9974\n",
            "Epoch 11/20\n",
            "132/132 [==============================] - 4s 32ms/step - loss: 0.0068 - accuracy: 0.9976\n",
            "Epoch 12/20\n",
            "132/132 [==============================] - 4s 32ms/step - loss: 0.0089 - accuracy: 0.9973\n",
            "Epoch 13/20\n",
            "132/132 [==============================] - 4s 32ms/step - loss: 0.0071 - accuracy: 0.9977\n",
            "Epoch 14/20\n",
            "132/132 [==============================] - 4s 32ms/step - loss: 0.0064 - accuracy: 0.9980\n",
            "Epoch 15/20\n",
            "132/132 [==============================] - 4s 32ms/step - loss: 0.0058 - accuracy: 0.9982\n",
            "Epoch 16/20\n",
            "132/132 [==============================] - 4s 32ms/step - loss: 0.0056 - accuracy: 0.9983\n",
            "Epoch 17/20\n",
            "132/132 [==============================] - 4s 32ms/step - loss: 0.0079 - accuracy: 0.9973\n",
            "Epoch 18/20\n",
            "132/132 [==============================] - 4s 32ms/step - loss: 0.0061 - accuracy: 0.9982\n",
            "Epoch 19/20\n",
            "132/132 [==============================] - 4s 32ms/step - loss: 0.0062 - accuracy: 0.9981\n",
            "Epoch 20/20\n",
            "132/132 [==============================] - 4s 32ms/step - loss: 0.0048 - accuracy: 0.9984\n",
            "263/263 [==============================] - 1s 2ms/step - loss: 0.0225 - accuracy: 0.9951\n"
          ],
          "name": "stdout"
        },
        {
          "output_type": "execute_result",
          "data": {
            "text/plain": [
              "[0.022453704848885536, 0.995119035243988]"
            ]
          },
          "metadata": {
            "tags": []
          },
          "execution_count": 14
        }
      ]
    },
    {
      "cell_type": "markdown",
      "metadata": {
        "id": "XH1wsNJXRfXw",
        "colab_type": "text"
      },
      "source": [
        "마지막으로 돌려본 모델이 구조 효율 대비 높은 성능을 보여주었으므로 해당 결과를 kaggle에 제출하기로 한다.\n",
        "\n",
        "(CNN 적용 전의 결과는 kaggle에 첫번째로 제출했었다.)"
      ]
    },
    {
      "cell_type": "code",
      "metadata": {
        "execution": {
          "iopub.execute_input": "2020-09-01T03:37:38.259754Z",
          "iopub.status.busy": "2020-09-01T03:37:38.259025Z",
          "iopub.status.idle": "2020-09-01T03:37:39.213560Z",
          "shell.execute_reply": "2020-09-01T03:37:39.212980Z"
        },
        "papermill": {
          "duration": 0.974463,
          "end_time": "2020-09-01T03:37:39.213676",
          "exception": false,
          "start_time": "2020-09-01T03:37:38.239213",
          "status": "completed"
        },
        "tags": [],
        "id": "XOMjNDPuzbK7",
        "colab_type": "code",
        "colab": {
          "base_uri": "https://localhost:8080/",
          "height": 90
        },
        "outputId": "87d407de-1d79-4feb-f404-155dce793019"
      },
      "source": [
        "predictions = model.predict_classes(X_test)"
      ],
      "execution_count": 9,
      "outputs": [
        {
          "output_type": "stream",
          "text": [
            "WARNING:tensorflow:From <ipython-input-9-bc83193b8b59>:1: Sequential.predict_classes (from tensorflow.python.keras.engine.sequential) is deprecated and will be removed after 2021-01-01.\n",
            "Instructions for updating:\n",
            "Please use instead:* `np.argmax(model.predict(x), axis=-1)`,   if your model does multi-class classification   (e.g. if it uses a `softmax` last-layer activation).* `(model.predict(x) > 0.5).astype(\"int32\")`,   if your model does binary classification   (e.g. if it uses a `sigmoid` last-layer activation).\n"
          ],
          "name": "stdout"
        }
      ]
    },
    {
      "cell_type": "code",
      "metadata": {
        "execution": {
          "iopub.execute_input": "2020-09-01T03:37:39.254305Z",
          "iopub.status.busy": "2020-09-01T03:37:39.249697Z",
          "iopub.status.idle": "2020-09-01T03:37:39.259146Z",
          "shell.execute_reply": "2020-09-01T03:37:39.258559Z"
        },
        "papermill": {
          "duration": 0.02985,
          "end_time": "2020-09-01T03:37:39.259297",
          "exception": false,
          "start_time": "2020-09-01T03:37:39.229447",
          "status": "completed"
        },
        "tags": [],
        "id": "J2ONxvaGzbLD",
        "colab_type": "code",
        "colab": {
          "base_uri": "https://localhost:8080/",
          "height": 195
        },
        "outputId": "cb7d1718-625c-42f5-ff21-9eebdd7ff7d6"
      },
      "source": [
        "sample_submission['Category'] = pd.Series(predictions)\n",
        "sample_submission.head()"
      ],
      "execution_count": 10,
      "outputs": [
        {
          "output_type": "execute_result",
          "data": {
            "text/html": [
              "<div>\n",
              "<style scoped>\n",
              "    .dataframe tbody tr th:only-of-type {\n",
              "        vertical-align: middle;\n",
              "    }\n",
              "\n",
              "    .dataframe tbody tr th {\n",
              "        vertical-align: top;\n",
              "    }\n",
              "\n",
              "    .dataframe thead th {\n",
              "        text-align: right;\n",
              "    }\n",
              "</style>\n",
              "<table border=\"1\" class=\"dataframe\">\n",
              "  <thead>\n",
              "    <tr style=\"text-align: right;\">\n",
              "      <th></th>\n",
              "      <th>Id</th>\n",
              "      <th>Category</th>\n",
              "    </tr>\n",
              "  </thead>\n",
              "  <tbody>\n",
              "    <tr>\n",
              "      <th>0</th>\n",
              "      <td>57808</td>\n",
              "      <td>8</td>\n",
              "    </tr>\n",
              "    <tr>\n",
              "      <th>1</th>\n",
              "      <td>4960</td>\n",
              "      <td>0</td>\n",
              "    </tr>\n",
              "    <tr>\n",
              "      <th>2</th>\n",
              "      <td>35755</td>\n",
              "      <td>5</td>\n",
              "    </tr>\n",
              "    <tr>\n",
              "      <th>3</th>\n",
              "      <td>15543</td>\n",
              "      <td>3</td>\n",
              "    </tr>\n",
              "    <tr>\n",
              "      <th>4</th>\n",
              "      <td>48968</td>\n",
              "      <td>8</td>\n",
              "    </tr>\n",
              "  </tbody>\n",
              "</table>\n",
              "</div>"
            ],
            "text/plain": [
              "      Id  Category\n",
              "0  57808         8\n",
              "1   4960         0\n",
              "2  35755         5\n",
              "3  15543         3\n",
              "4  48968         8"
            ]
          },
          "metadata": {
            "tags": []
          },
          "execution_count": 10
        }
      ]
    },
    {
      "cell_type": "code",
      "metadata": {
        "execution": {
          "iopub.execute_input": "2020-09-01T03:37:39.298121Z",
          "iopub.status.busy": "2020-09-01T03:37:39.297499Z",
          "iopub.status.idle": "2020-09-01T03:37:39.549482Z",
          "shell.execute_reply": "2020-09-01T03:37:39.548755Z"
        },
        "papermill": {
          "duration": 0.274361,
          "end_time": "2020-09-01T03:37:39.549606",
          "exception": false,
          "start_time": "2020-09-01T03:37:39.275245",
          "status": "completed"
        },
        "tags": [],
        "id": "gHQGk9J9zbLM",
        "colab_type": "code",
        "colab": {}
      },
      "source": [
        "sample_submission.to_csv(\"submission.csv\",index=False)"
      ],
      "execution_count": 11,
      "outputs": []
    }
  ]
}